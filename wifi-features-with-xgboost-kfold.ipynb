{
 "cells": [
  {
   "cell_type": "markdown",
   "metadata": {},
   "source": [
    "Hello\n",
    "\n",
    "This notebook is inspired from \"Lightgbm(Regressor) | Kaggle\" kernel.\n",
    "https://www.kaggle.com/hiro5299834/wifi-features-with-lightgbm-kfold\n",
    "\n",
    "\n",
    "I am studying Machine Learning and I was requested to participate to one competition of my choise on Kaggle.\n",
    "So I am doing it as an exercice.\n",
    "Please be indulgent.\n",
    "My plan here is to capture all the big steps in the process of machine learning modeling and to test some specific models that are not yet used by other kernels on this competition.\n",
    "\n",
    "My first thought is to test Xgboost since the primary Kernel I am inspiring on is using Lightgbm model.\n",
    "\n",
    "I will test another model later on.\n",
    "\n",
    "For the exploratory step I have been inspired by these notebooks:\n",
    "- https://www.kaggle.com/chandrylpaternetony/data-descript-outlier-detect-floor-mapping\n",
    "\n",
    "- https://www.kaggle.com/ihelon/indoor-location-exploratory-data-analysis/notebook\n"
   ]
  },
  {
   "cell_type": "markdown",
   "metadata": {},
   "source": [
    "Quick overview of the input data structure"
   ]
  },
  {
   "cell_type": "code",
   "execution_count": 11,
   "metadata": {},
   "outputs": [
    {
     "name": "stdout",
     "output_type": "stream",
     "text": [
      "Number of train sites 204\n",
      "Number of train meta 204\n",
      "Number of test sites 626\n"
     ]
    }
   ],
   "source": [
    "import os\n",
    "print(f\"Number of train sites {len(os.listdir('../input/indoor-location-navigation/train/'))}\")\n",
    "print(f\"Number of train meta {len(os.listdir('../input/indoor-location-navigation/metadata/'))}\")\n",
    "print(f\"Number of test sites {len(os.listdir('../input/indoor-location-navigation/test/'))}\")"
   ]
  },
  {
   "cell_type": "code",
   "execution_count": 12,
   "metadata": {},
   "outputs": [
    {
     "name": "stdout",
     "output_type": "stream",
     "text": [
      "26925\n"
     ]
    }
   ],
   "source": [
    "import os\n",
    "\n",
    "input_data_structure = list()\n",
    "for site in os.listdir('../input/indoor-location-navigation/train/'):\n",
    "    for floor in os.listdir('../input/indoor-location-navigation/train/' + site + '/'):\n",
    "        for phone in os.listdir('../input/indoor-location-navigation/train/' + site + '/' + floor + '/'):\n",
    "            input_data_structure.append([site,floor,phone])\n",
    "print(len(input_data_structure))            \n",
    "                                        "
   ]
  },
  {
   "cell_type": "markdown",
   "metadata": {},
   "source": [
    "Conversion into pandas DataFrame for quick statistics over the input data files"
   ]
  },
  {
   "cell_type": "code",
   "execution_count": 13,
   "metadata": {},
   "outputs": [
    {
     "data": {
      "text/html": [
       "<div>\n",
       "<style scoped>\n",
       "    .dataframe tbody tr th:only-of-type {\n",
       "        vertical-align: middle;\n",
       "    }\n",
       "\n",
       "    .dataframe tbody tr th {\n",
       "        vertical-align: top;\n",
       "    }\n",
       "\n",
       "    .dataframe thead th {\n",
       "        text-align: right;\n",
       "    }\n",
       "</style>\n",
       "<table border=\"1\" class=\"dataframe\">\n",
       "  <thead>\n",
       "    <tr style=\"text-align: right;\">\n",
       "      <th></th>\n",
       "      <th>sites</th>\n",
       "      <th>floor</th>\n",
       "      <th>phone</th>\n",
       "    </tr>\n",
       "  </thead>\n",
       "  <tbody>\n",
       "    <tr>\n",
       "      <th>count</th>\n",
       "      <td>26925</td>\n",
       "      <td>26925</td>\n",
       "      <td>26925</td>\n",
       "    </tr>\n",
       "    <tr>\n",
       "      <th>unique</th>\n",
       "      <td>204</td>\n",
       "      <td>43</td>\n",
       "      <td>26925</td>\n",
       "    </tr>\n",
       "    <tr>\n",
       "      <th>top</th>\n",
       "      <td>5d27075f03f801723c2e360f</td>\n",
       "      <td>F1</td>\n",
       "      <td>5d60ad2404ffc90008edf43d.txt</td>\n",
       "    </tr>\n",
       "    <tr>\n",
       "      <th>freq</th>\n",
       "      <td>1141</td>\n",
       "      <td>4557</td>\n",
       "      <td>1</td>\n",
       "    </tr>\n",
       "  </tbody>\n",
       "</table>\n",
       "</div>"
      ],
      "text/plain": [
       "                           sites  floor                         phone\n",
       "count                      26925  26925                         26925\n",
       "unique                       204     43                         26925\n",
       "top     5d27075f03f801723c2e360f     F1  5d60ad2404ffc90008edf43d.txt\n",
       "freq                        1141   4557                             1"
      ]
     },
     "execution_count": 13,
     "metadata": {},
     "output_type": "execute_result"
    }
   ],
   "source": [
    "import pandas as pd\n",
    "\n",
    "input_df = pd.DataFrame(input_data_structure, columns=['sites','floor','phone'])\n",
    "input_df.describe(include=\"all\")"
   ]
  },
  {
   "cell_type": "markdown",
   "metadata": {},
   "source": [
    "* There are **204** different **sites**\n",
    "* There are **43!!!** different **floors** identification, be aware F1 or 1F is the same floor. So we obviously have less then 43 different floors\n",
    "* there are **26925** different **phones** and every phone has only one single recording and has been recording at the same floor\n"
   ]
  },
  {
   "cell_type": "code",
   "execution_count": 14,
   "metadata": {},
   "outputs": [
    {
     "name": "stdout",
     "output_type": "stream",
     "text": [
      "                                phone\n",
      "sites                    floor       \n",
      "5a0546857ecc773753327266 B1       109\n",
      "                         F1       131\n",
      "                         F2       110\n",
      "                         F3        78\n",
      "                         F4        86\n",
      "...                               ...\n",
      "5dc8cea7659e181adb076a3f F4        79\n",
      "                         F5       103\n",
      "                         F6        81\n",
      "                         F7        40\n",
      "All                             26925\n",
      "\n",
      "[982 rows x 1 columns]\n"
     ]
    }
   ],
   "source": [
    "table = pd.pivot_table(input_df, values=['phone'], index=['sites','floor'], margins=True,\n",
    "                    aggfunc={\"phone\": \"count\"})\n",
    "print(table)"
   ]
  },
  {
   "cell_type": "code",
   "execution_count": 15,
   "metadata": {},
   "outputs": [
    {
     "data": {
      "text/html": [
       "<div>\n",
       "<style scoped>\n",
       "    .dataframe tbody tr th:only-of-type {\n",
       "        vertical-align: middle;\n",
       "    }\n",
       "\n",
       "    .dataframe tbody tr th {\n",
       "        vertical-align: top;\n",
       "    }\n",
       "\n",
       "    .dataframe thead th {\n",
       "        text-align: right;\n",
       "    }\n",
       "</style>\n",
       "<table border=\"1\" class=\"dataframe\">\n",
       "  <thead>\n",
       "    <tr style=\"text-align: right;\">\n",
       "      <th></th>\n",
       "      <th>phone</th>\n",
       "    </tr>\n",
       "  </thead>\n",
       "  <tbody>\n",
       "    <tr>\n",
       "      <th>count</th>\n",
       "      <td>982.000000</td>\n",
       "    </tr>\n",
       "    <tr>\n",
       "      <th>mean</th>\n",
       "      <td>54.837067</td>\n",
       "    </tr>\n",
       "    <tr>\n",
       "      <th>std</th>\n",
       "      <td>859.103814</td>\n",
       "    </tr>\n",
       "    <tr>\n",
       "      <th>min</th>\n",
       "      <td>1.000000</td>\n",
       "    </tr>\n",
       "    <tr>\n",
       "      <th>25%</th>\n",
       "      <td>6.000000</td>\n",
       "    </tr>\n",
       "    <tr>\n",
       "      <th>50%</th>\n",
       "      <td>14.000000</td>\n",
       "    </tr>\n",
       "    <tr>\n",
       "      <th>75%</th>\n",
       "      <td>31.000000</td>\n",
       "    </tr>\n",
       "    <tr>\n",
       "      <th>max</th>\n",
       "      <td>26925.000000</td>\n",
       "    </tr>\n",
       "  </tbody>\n",
       "</table>\n",
       "</div>"
      ],
      "text/plain": [
       "              phone\n",
       "count    982.000000\n",
       "mean      54.837067\n",
       "std      859.103814\n",
       "min        1.000000\n",
       "25%        6.000000\n",
       "50%       14.000000\n",
       "75%       31.000000\n",
       "max    26925.000000"
      ]
     },
     "execution_count": 15,
     "metadata": {},
     "output_type": "execute_result"
    }
   ],
   "source": [
    "table.describe(include = \"all\")"
   ]
  },
  {
   "cell_type": "code",
   "execution_count": null,
   "metadata": {},
   "outputs": [],
   "source": [
    "table_floor = pd.pivot_table(input_df, values=['floor'], index=['sites'], margins=True,\n",
    "                    aggfunc={\"floor\": \"count\"})\n",
    "print(table_floor)"
   ]
  },
  {
   "cell_type": "code",
   "execution_count": null,
   "metadata": {},
   "outputs": [],
   "source": [
    "import matplotlib.pyplot as plt\n",
    "plt.plot(table_floor.index[:-1],table_floor['floor'][:-1])"
   ]
  },
  {
   "cell_type": "markdown",
   "metadata": {},
   "source": [
    "We will focus on Wifi features.\n",
    "We will take for granted the preprocessing of input data **indoor-location-navigation** and its transformation into **indoor-navigation-and-location-wifi-features**\n",
    "\n",
    "About this Dataset\n",
    "Content\n",
    "Version2 update:\n",
    "Contains features for the indoor location and navigation competition. They were based on \"Indoor Navigation and Location Wifi Features\" data by @devinanzelmo and generated using only wifi's bssid in the training dataset."
   ]
  },
  {
   "cell_type": "code",
   "execution_count": 3,
   "metadata": {},
   "outputs": [
    {
     "name": "stdout",
     "output_type": "stream",
     "text": [
      "<module 'ntpath' from 'C:\\\\ProgramData\\\\Anaconda3\\\\lib\\\\ntpath.py'>\n",
      "Number of csv inputs 48\n"
     ]
    }
   ],
   "source": [
    "import os\n",
    "\n",
    "local_path = 'C:/Users/hp/Documents/OpenClassrooms/P8/'\n",
    "# print(os.path)\n",
    "# print(f\"Number of csv inputs {len(os.listdir('../input/indoor-navigation-and-location-wifi-features/'))}\")\n",
    "print(f\"Number of csv inputs {len(os.listdir(local_path + 'input/indoor-navigation-and-location-wifi-features/'))}\")"
   ]
  },
  {
   "cell_type": "markdown",
   "metadata": {},
   "source": [
    "import xgboost as xgb\n",
    "\n",
    "xgb_params = {'max_depth':2, 'eta':1, 'objective':'reg:squarederror', 'eval_metric':'rmse', 'seed': SEED }\n",
    "\n",
    "# using scikit learn API\n",
    "\n",
    "''' lgb_params = {'objective': 'root_mean_squared_error',\n",
    "              'boosting_type': 'gbdt',\n",
    "              'n_estimators': 50000,\n",
    "              'learning_rate': 0.1,\n",
    "              'num_leaves': 90,\n",
    "              'colsample_bytree': 0.4,\n",
    "              'subsample': 0.6,\n",
    "              'subsample_freq': 2,\n",
    "              'bagging_seed': SEED,\n",
    "              'reg_alpha': 8,\n",
    "              'reg_lambda': 2,\n",
    "              'random_state': SEED,\n",
    "              'n_jobs': -1\n",
    "              }\n",
    "'''\n",
    "xgb_params = {'objective': 'root_mean_squared_error',\n",
    "              'booster': 'gbtree',\n",
    "              'n_estimators': 50000,\n",
    "              'learning_rate': 0.1,              \n",
    "              'reg_alpha': 8,\n",
    "              'reg_lambda': 2,\n",
    "              'random_state': SEED,\n",
    "              'n_jobs': -1\n",
    "              }\n",
    "\n",
    "# classifier\n",
    "'''\n",
    "xgb_f_params = {'objective': 'multiclass',\n",
    "                'booster': 'gbtree',\n",
    "                'n_estimators': 50000,\n",
    "                'learning_rate': 0.1,                \n",
    "                'reg_alpha': 10,\n",
    "                'reg_lambda': 2,\n",
    "                'random_state': SEED,\n",
    "                'n_jobs': -1\n",
    "                }\n",
    "                '''\n",
    "\n",
    "Parameters\n",
    "n_estimators (int) – Number of boosting rounds.\n",
    "\n",
    "use_label_encoder (bool) – (Deprecated) Use the label encoder from scikit-learn to encode the labels. For new code, we recommend that you set this parameter to False.\n",
    "\n",
    "max_depth (int) – Maximum tree depth for base learners.\n",
    "\n",
    "learning_rate (float) – Boosting learning rate (xgb’s “eta”)\n",
    "\n",
    "verbosity (int) – The degree of verbosity. Valid values are 0 (silent) - 3 (debug).\n",
    "\n",
    "objective (string or callable) – Specify the learning task and the corresponding learning objective or a custom objective function to be used (see note below).\n",
    "\n",
    "booster (string) – Specify which booster to use: gbtree, gblinear or dart.\n",
    "\n",
    "tree_method (string) – Specify which tree method to use. Default to auto. If this parameter is set to default, XGBoost will choose the most conservative option available. It’s recommended to study this option from parameters document.\n",
    "\n",
    "n_jobs (int) – Number of parallel threads used to run xgboost. When used with other Scikit-Learn algorithms like grid search, you may choose which algorithm to parallelize and balance the threads. Creating thread contention will significantly slow down both algorithms.\n",
    "\n",
    "gamma (float) – Minimum loss reduction required to make a further partition on a leaf node of the tree.\n",
    "\n",
    "min_child_weight (float) – Minimum sum of instance weight(hessian) needed in a child.\n",
    "\n",
    "max_delta_step (float) – Maximum delta step we allow each tree’s weight estimation to be.\n",
    "\n",
    "subsample (float) – Subsample ratio of the training instance.\n",
    "\n",
    "colsample_bytree (float) – Subsample ratio of columns when constructing each tree.\n",
    "\n",
    "colsample_bylevel (float) – Subsample ratio of columns for each level.\n",
    "\n",
    "colsample_bynode (float) – Subsample ratio of columns for each split.\n",
    "\n",
    "reg_alpha (float (xgb's alpha)) – L1 regularization term on weights\n",
    "\n",
    "reg_lambda (float (xgb's lambda)) – L2 regularization term on weights\n",
    "\n",
    "scale_pos_weight (float) – Balancing of positive and negative weights.\n",
    "\n",
    "base_score – The initial prediction score of all instances, global bias.\n",
    "\n",
    "random_state (int) –\n",
    "\n",
    "Random number seed."
   ]
  },
  {
   "cell_type": "code",
   "execution_count": null,
   "metadata": {},
   "outputs": [],
   "source": [
    "import pandas as pd\n",
    "subm = pd.read_csv('../input/indoor-location-navigation/sample_submission.csv', index_col=0)\n",
    "subm.describe(include='all')"
   ]
  },
  {
   "cell_type": "code",
   "execution_count": 2,
   "metadata": {},
   "outputs": [
    {
     "name": "stdout",
     "output_type": "stream",
     "text": [
      "<class 'pandas.core.frame.DataFrame'>\n",
      "Index: 10133 entries, 5a0546857ecc773753327266_046cfa46be49fc10834815c6_0000000000009 to 5dc8cea7659e181adb076a3f_fd64de8c4a2fc5ebb0e9f412_0000000100447\n",
      "Data columns (total 3 columns):\n",
      " #   Column  Non-Null Count  Dtype  \n",
      "---  ------  --------------  -----  \n",
      " 0   floor   10133 non-null  int64  \n",
      " 1   x       10133 non-null  float64\n",
      " 2   y       10133 non-null  float64\n",
      "dtypes: float64(2), int64(1)\n",
      "memory usage: 316.7+ KB\n"
     ]
    }
   ],
   "source": [
    "subm.info()"
   ]
  },
  {
   "cell_type": "code",
   "execution_count": 4,
   "metadata": {},
   "outputs": [
    {
     "data": {
      "text/plain": [
       "4"
      ]
     },
     "execution_count": 4,
     "metadata": {},
     "output_type": "execute_result"
    }
   ],
   "source": [
    "../input/indoor-navigation-and-location-wifi-features/5a0546857ecc773753327266_train.csv"
   ]
  },
  {
   "cell_type": "code",
   "execution_count": 7,
   "metadata": {},
   "outputs": [
    {
     "name": "stdout",
     "output_type": "stream",
     "text": [
      "<class 'pandas.core.frame.DataFrame'>\n",
      "Int64Index: 9012 entries, 4 to 4\n",
      "Columns: 1216 entries, 00505a2c465e4a7f52e64beb1902c9aee8b04a90 to path\n",
      "dtypes: float64(2), int64(1213), object(1)\n",
      "memory usage: 83.7+ MB\n"
     ]
    }
   ],
   "source": [
    "import pandas as pd\n",
    "# df = pd.read_csv('../input/indoor-navigation-and-location-wifi-features/5a0546857ecc773753327266_test.csv',index_col=0)\n",
    "# df = pd.read_csv('../input/indoor-navigation-and-location-wifi-features/5a0546857ecc773753327266_train.csv',index_col=0)\n",
    "df = pd.read_csv('../input/indoor-navigation-and-location-wifi-features/5da138314db8ce0c98bbf3a0_train.csv',index_col=0)\n",
    "# df = pd.read_csv('../input/indoor-navigation-and-location-wifi-features/5d2709a003f801723c3251bf_train.csv',index_col=0)\n",
    "\n",
    "df.info()"
   ]
  },
  {
   "cell_type": "code",
   "execution_count": 6,
   "metadata": {
    "_cell_guid": "4921258f-5532-44da-b9da-4e920592a368",
    "_uuid": "96bb8a60-72bc-4b0b-8798-795dfda98988"
   },
   "outputs": [
    {
     "name": "stdout",
     "output_type": "stream",
     "text": [
      "There are 24 *_train.csv files\n",
      "There are 24 *_test.csv files\n",
      "process training set for site file num 0\n",
      "process testing set for site file num 0\n"
     ]
    },
    {
     "name": "stderr",
     "output_type": "stream",
     "text": [
      "[0.1GB(-0.4GB): 607.898sec] fit X\n",
      "[0.3GB(+0.2GB): 606.982sec] fit Y\n",
      "[0.3GB(+0.0GB): 271.742sec] fit F\n",
      "[0.3GB(+0.0GB): 0.584sec] Pred X\n",
      "[0.3GB(+0.0GB): 0.220sec] Pred Y\n",
      "[0.3GB(+0.0GB): 0.240sec] Pred F\n"
     ]
    },
    {
     "name": "stdout",
     "output_type": "stream",
     "text": [
      "fold 0: mean position error 3.72969839558177\n"
     ]
    },
    {
     "name": "stderr",
     "output_type": "stream",
     "text": [
      "[0.5GB(+0.0GB): 602.802sec] fit X\n",
      "[0.5GB(+0.0GB): 601.672sec] fit Y\n",
      "[0.4GB(-0.1GB): 284.680sec] fit F\n",
      "[0.4GB(+0.0GB): 0.251sec] Pred X\n",
      "[0.4GB(+0.0GB): 0.254sec] Pred Y\n",
      "[0.4GB(+0.0GB): 0.232sec] Pred F\n"
     ]
    },
    {
     "name": "stdout",
     "output_type": "stream",
     "text": [
      "fold 1: mean position error 3.7192771108315843\n"
     ]
    },
    {
     "name": "stderr",
     "output_type": "stream",
     "text": [
      "[0.5GB(+0.0GB): 604.261sec] fit X\n",
      "[0.5GB(+0.0GB): 591.295sec] fit Y\n",
      "[0.5GB(+0.0GB): 275.021sec] fit F\n",
      "[0.5GB(+0.0GB): 0.223sec] Pred X\n",
      "[0.5GB(+0.0GB): 0.247sec] Pred Y\n",
      "[0.5GB(+0.0GB): 0.258sec] Pred F\n"
     ]
    },
    {
     "name": "stdout",
     "output_type": "stream",
     "text": [
      "fold 2: mean position error 3.7960548511129155\n"
     ]
    },
    {
     "name": "stderr",
     "output_type": "stream",
     "text": [
      "[0.5GB(-0.1GB): 11408.186sec] fit X\n",
      "[0.3GB(-0.2GB): 20239.205sec] fit Y\n",
      "[0.3GB(+0.0GB): 283.740sec] fit F\n",
      "[0.3GB(+0.0GB): 0.894sec] Pred X\n",
      "[0.3GB(+0.0GB): 0.226sec] Pred Y\n",
      "[0.3GB(+0.0GB): 0.216sec] Pred F\n"
     ]
    },
    {
     "name": "stdout",
     "output_type": "stream",
     "text": [
      "fold 3: mean position error 3.8568158782328434\n"
     ]
    },
    {
     "name": "stderr",
     "output_type": "stream",
     "text": [
      "[0.5GB(+0.0GB): 603.939sec] fit X\n",
      "[0.5GB(+0.0GB): 2031.430sec] fit Y\n",
      "[0.3GB(-0.2GB): 280.841sec] fit F\n",
      "[0.3GB(+0.0GB): 0.244sec] Pred X\n",
      "[0.3GB(+0.0GB): 0.238sec] Pred Y\n",
      "[0.3GB(+0.0GB): 0.231sec] Pred F\n"
     ]
    },
    {
     "name": "stdout",
     "output_type": "stream",
     "text": [
      "fold 4: mean position error 3.9860742055553327\n"
     ]
    },
    {
     "name": "stderr",
     "output_type": "stream",
     "text": [
      "[0.5GB(-0.0GB): 599.377sec] fit X\n",
      "[0.4GB(-0.1GB): 603.370sec] fit Y\n",
      "[0.4GB(-0.0GB): 266.053sec] fit F\n",
      "[0.4GB(+0.0GB): 0.262sec] Pred X\n",
      "[0.4GB(+0.0GB): 0.292sec] Pred Y\n",
      "[0.4GB(+0.0GB): 0.267sec] Pred F\n"
     ]
    },
    {
     "name": "stdout",
     "output_type": "stream",
     "text": [
      "fold 5: mean position error 3.6562433949970097\n"
     ]
    },
    {
     "name": "stderr",
     "output_type": "stream",
     "text": [
      "[0.5GB(-0.0GB): 594.653sec] fit X\n",
      "[0.5GB(+0.0GB): 610.095sec] fit Y\n",
      "[0.4GB(-0.1GB): 280.982sec] fit F\n",
      "[0.4GB(+0.0GB): 0.199sec] Pred X\n",
      "[0.4GB(+0.0GB): 0.191sec] Pred Y\n",
      "[0.4GB(+0.0GB): 0.211sec] Pred F\n"
     ]
    },
    {
     "name": "stdout",
     "output_type": "stream",
     "text": [
      "fold 6: mean position error 3.637754110788491\n"
     ]
    },
    {
     "name": "stderr",
     "output_type": "stream",
     "text": [
      "[0.5GB(+0.0GB): 603.207sec] fit X\n",
      "[0.4GB(-0.1GB): 601.590sec] fit Y\n",
      "[0.4GB(+0.0GB): 267.987sec] fit F\n",
      "[0.4GB(+0.0GB): 0.221sec] Pred X\n",
      "[0.4GB(+0.0GB): 0.211sec] Pred Y\n",
      "[0.4GB(+0.0GB): 0.233sec] Pred F\n"
     ]
    },
    {
     "name": "stdout",
     "output_type": "stream",
     "text": [
      "fold 7: mean position error 3.5693114487742656\n"
     ]
    },
    {
     "name": "stderr",
     "output_type": "stream",
     "text": [
      "[0.5GB(-0.1GB): 598.822sec] fit X\n",
      "[0.4GB(-0.0GB): 609.178sec] fit Y\n",
      "[0.4GB(+0.0GB): 261.822sec] fit F\n",
      "[0.4GB(+0.0GB): 0.211sec] Pred X\n",
      "[0.4GB(+0.0GB): 0.209sec] Pred Y\n",
      "[0.4GB(+0.0GB): 0.245sec] Pred F\n"
     ]
    },
    {
     "name": "stdout",
     "output_type": "stream",
     "text": [
      "fold 8: mean position error 3.663430646698036\n"
     ]
    },
    {
     "name": "stderr",
     "output_type": "stream",
     "text": [
      "[0.5GB(+0.0GB): 593.262sec] fit X\n",
      "[0.5GB(+0.0GB): 596.385sec] fit Y\n",
      "[0.5GB(+0.0GB): 283.026sec] fit F\n",
      "[0.5GB(+0.0GB): 0.213sec] Pred X\n",
      "[0.5GB(+0.0GB): 0.220sec] Pred Y\n",
      "[0.5GB(+0.0GB): 0.224sec] Pred F\n"
     ]
    },
    {
     "name": "stdout",
     "output_type": "stream",
     "text": [
      "fold 9: mean position error 3.6502306603600108\n",
      "*+*+*+*+*+*+*+*+*+*+*+*+*+*+*+*+*+*+*+*+*+*+*+*+*+*+*+*+*+*+*+*+*+*+*+*+*+*+*+*+\n",
      "file #0, shape=(9296, 3401), name=5a0546857ecc773753327266_train.csv\n",
      "mean position error 3.7265305106347224\n",
      "*+*+*+*+*+*+*+*+*+*+*+*+*+*+*+*+*+*+*+*+*+*+*+*+*+*+*+*+*+*+*+*+*+*+*+*+*+*+*+*+\n",
      "process training set for site file num 1\n",
      "process testing set for site file num 1\n"
     ]
    },
    {
     "name": "stderr",
     "output_type": "stream",
     "text": [
      "[0.5GB(-0.2GB): 571.543sec] fit X\n",
      "[0.3GB(-0.2GB): 556.362sec] fit Y\n",
      "[0.3GB(+0.0GB): 288.460sec] fit F\n",
      "[0.3GB(+0.0GB): 0.216sec] Pred X\n",
      "[0.3GB(+0.0GB): 0.116sec] Pred Y\n",
      "[0.3GB(+0.0GB): 0.135sec] Pred F\n"
     ]
    },
    {
     "name": "stdout",
     "output_type": "stream",
     "text": [
      "fold 0: mean position error 4.556725802348552\n"
     ]
    },
    {
     "name": "stderr",
     "output_type": "stream",
     "text": [
      "[0.5GB(+0.0GB): 557.213sec] fit X\n",
      "[0.5GB(+0.0GB): 559.466sec] fit Y\n",
      "[0.5GB(+0.0GB): 287.809sec] fit F\n",
      "[0.5GB(+0.0GB): 0.120sec] Pred X\n",
      "[0.5GB(+0.0GB): 0.120sec] Pred Y\n",
      "[0.5GB(+0.0GB): 0.129sec] Pred F\n"
     ]
    },
    {
     "name": "stdout",
     "output_type": "stream",
     "text": [
      "fold 1: mean position error 4.675078999851532\n"
     ]
    },
    {
     "name": "stderr",
     "output_type": "stream",
     "text": [
      "[0.5GB(+0.0GB): 1355.236sec] fit X\n",
      "[0.4GB(-0.1GB): 447.135sec] fit Y\n",
      "[0.4GB(-0.0GB): 297.357sec] fit F\n",
      "[0.4GB(+0.0GB): 0.130sec] Pred X\n",
      "[0.4GB(+0.0GB): 0.130sec] Pred Y\n",
      "[0.4GB(+0.0GB): 0.123sec] Pred F\n"
     ]
    },
    {
     "name": "stdout",
     "output_type": "stream",
     "text": [
      "fold 2: mean position error 4.891041930814142\n"
     ]
    },
    {
     "name": "stderr",
     "output_type": "stream",
     "text": [
      "[0.5GB(+0.0GB): 557.371sec] fit X\n",
      "[0.5GB(+0.0GB): 558.787sec] fit Y\n",
      "[0.5GB(+0.0GB): 286.647sec] fit F\n",
      "[0.5GB(+0.0GB): 0.120sec] Pred X\n",
      "[0.5GB(+0.0GB): 0.120sec] Pred Y\n",
      "[0.5GB(+0.0GB): 0.132sec] Pred F\n"
     ]
    },
    {
     "name": "stdout",
     "output_type": "stream",
     "text": [
      "fold 3: mean position error 4.8019781560266885\n"
     ]
    },
    {
     "name": "stderr",
     "output_type": "stream",
     "text": [
      "[0.5GB(+0.0GB): 556.515sec] fit X\n",
      "[0.5GB(+0.0GB): 570.013sec] fit Y\n",
      "[0.5GB(-0.0GB): 291.341sec] fit F\n",
      "[0.5GB(+0.0GB): 0.120sec] Pred X\n",
      "[0.5GB(+0.0GB): 0.120sec] Pred Y\n",
      "[0.5GB(+0.0GB): 0.125sec] Pred F\n"
     ]
    },
    {
     "name": "stdout",
     "output_type": "stream",
     "text": [
      "fold 4: mean position error 4.682949335516161\n"
     ]
    },
    {
     "name": "stderr",
     "output_type": "stream",
     "text": [
      "[0.5GB(+0.0GB): 561.235sec] fit X\n",
      "[0.5GB(+0.0GB): 573.599sec] fit Y\n",
      "[0.4GB(-0.1GB): 301.208sec] fit F\n",
      "[0.4GB(+0.0GB): 0.123sec] Pred X\n",
      "[0.4GB(+0.0GB): 0.121sec] Pred Y\n",
      "[0.4GB(+0.0GB): 0.125sec] Pred F\n"
     ]
    },
    {
     "name": "stdout",
     "output_type": "stream",
     "text": [
      "fold 5: mean position error 4.582284674309531\n"
     ]
    },
    {
     "name": "stderr",
     "output_type": "stream",
     "text": [
      "[0.5GB(+0.0GB): 559.718sec] fit X\n",
      "[0.5GB(+0.0GB): 559.113sec] fit Y\n",
      "[0.5GB(+0.0GB): 291.309sec] fit F\n",
      "[0.5GB(+0.0GB): 0.124sec] Pred X\n",
      "[0.5GB(+0.0GB): 0.122sec] Pred Y\n",
      "[0.5GB(+0.0GB): 0.127sec] Pred F\n"
     ]
    },
    {
     "name": "stdout",
     "output_type": "stream",
     "text": [
      "fold 6: mean position error 4.759496199480442\n"
     ]
    },
    {
     "name": "stderr",
     "output_type": "stream",
     "text": [
      "[0.5GB(+0.0GB): 820.772sec] fit X\n",
      "[0.4GB(-0.1GB): 565.506sec] fit Y\n",
      "[0.4GB(+0.0GB): 291.773sec] fit F\n",
      "[0.4GB(+0.0GB): 0.244sec] Pred X\n",
      "[0.4GB(+0.0GB): 0.122sec] Pred Y\n",
      "[0.4GB(+0.0GB): 0.124sec] Pred F\n"
     ]
    },
    {
     "name": "stdout",
     "output_type": "stream",
     "text": [
      "fold 7: mean position error 4.797642947548485\n"
     ]
    },
    {
     "name": "stderr",
     "output_type": "stream",
     "text": [
      "[0.5GB(+0.0GB): 561.327sec] fit X\n",
      "[0.4GB(-0.1GB): 616.288sec] fit Y\n",
      "[0.3GB(-0.1GB): 324.655sec] fit F\n",
      "[0.3GB(+0.0GB): 1.933sec] Pred X\n",
      "[0.3GB(+0.0GB): 0.128sec] Pred Y\n",
      "[0.3GB(+0.0GB): 0.141sec] Pred F\n"
     ]
    },
    {
     "name": "stdout",
     "output_type": "stream",
     "text": [
      "fold 8: mean position error 4.77142754632669\n"
     ]
    },
    {
     "name": "stderr",
     "output_type": "stream",
     "text": [
      "[0.5GB(+0.0GB): 582.142sec] fit X\n",
      "[0.4GB(-0.1GB): 563.902sec] fit Y\n",
      "[0.4GB(-0.0GB): 288.926sec] fit F\n",
      "[0.4GB(+0.0GB): 0.382sec] Pred X\n",
      "[0.4GB(+0.0GB): 0.119sec] Pred Y\n",
      "[0.4GB(+0.0GB): 0.124sec] Pred F\n"
     ]
    },
    {
     "name": "stdout",
     "output_type": "stream",
     "text": [
      "fold 9: mean position error 4.6598225591795535\n",
      "*+*+*+*+*+*+*+*+*+*+*+*+*+*+*+*+*+*+*+*+*+*+*+*+*+*+*+*+*+*+*+*+*+*+*+*+*+*+*+*+\n",
      "file #1, shape=(9737, 3067), name=5c3c44b80379370013e0fd2b_train.csv\n",
      "mean position error 4.717837075733007\n",
      "*+*+*+*+*+*+*+*+*+*+*+*+*+*+*+*+*+*+*+*+*+*+*+*+*+*+*+*+*+*+*+*+*+*+*+*+*+*+*+*+\n",
      "process training set for site file num 2\n",
      "process testing set for site file num 2\n"
     ]
    },
    {
     "ename": "MemoryError",
     "evalue": "Unable to allocate 1.12 GiB for an array with shape (7029, 21299) and data type int64",
     "output_type": "error",
     "traceback": [
      "\u001b[1;31m---------------------------------------------------------------------------\u001b[0m",
      "\u001b[1;31mMemoryError\u001b[0m                               Traceback (most recent call last)",
      "\u001b[1;32m<ipython-input-6-b4f07314468b>\u001b[0m in \u001b[0;36m<module>\u001b[1;34m\u001b[0m\n\u001b[0;32m    170\u001b[0m     \u001b[0mkf\u001b[0m \u001b[1;33m=\u001b[0m \u001b[0mKFold\u001b[0m\u001b[1;33m(\u001b[0m\u001b[0mn_splits\u001b[0m\u001b[1;33m=\u001b[0m\u001b[0mN_SPLITS\u001b[0m\u001b[1;33m,\u001b[0m \u001b[0mshuffle\u001b[0m\u001b[1;33m=\u001b[0m\u001b[1;32mTrue\u001b[0m\u001b[1;33m,\u001b[0m \u001b[0mrandom_state\u001b[0m\u001b[1;33m=\u001b[0m\u001b[0mSEED\u001b[0m\u001b[1;33m)\u001b[0m\u001b[1;33m\u001b[0m\u001b[1;33m\u001b[0m\u001b[0m\n\u001b[0;32m    171\u001b[0m     \u001b[1;32mfor\u001b[0m \u001b[0mfold\u001b[0m\u001b[1;33m,\u001b[0m \u001b[1;33m(\u001b[0m\u001b[0mtrn_idx\u001b[0m\u001b[1;33m,\u001b[0m \u001b[0mval_idx\u001b[0m\u001b[1;33m)\u001b[0m \u001b[1;32min\u001b[0m \u001b[0menumerate\u001b[0m\u001b[1;33m(\u001b[0m\u001b[0mkf\u001b[0m\u001b[1;33m.\u001b[0m\u001b[0msplit\u001b[0m\u001b[1;33m(\u001b[0m\u001b[0mdata\u001b[0m\u001b[1;33m.\u001b[0m\u001b[0miloc\u001b[0m\u001b[1;33m[\u001b[0m\u001b[1;33m:\u001b[0m\u001b[1;33m,\u001b[0m \u001b[1;33m:\u001b[0m\u001b[1;33m-\u001b[0m\u001b[1;36m4\u001b[0m\u001b[1;33m]\u001b[0m\u001b[1;33m)\u001b[0m\u001b[1;33m)\u001b[0m\u001b[1;33m:\u001b[0m\u001b[1;33m\u001b[0m\u001b[1;33m\u001b[0m\u001b[0m\n\u001b[1;32m--> 172\u001b[1;33m         \u001b[0mX_train\u001b[0m \u001b[1;33m=\u001b[0m \u001b[0mdata\u001b[0m\u001b[1;33m.\u001b[0m\u001b[0miloc\u001b[0m\u001b[1;33m[\u001b[0m\u001b[0mtrn_idx\u001b[0m\u001b[1;33m,\u001b[0m \u001b[1;33m:\u001b[0m\u001b[1;33m-\u001b[0m\u001b[1;36m4\u001b[0m\u001b[1;33m]\u001b[0m\u001b[1;33m\u001b[0m\u001b[1;33m\u001b[0m\u001b[0m\n\u001b[0m\u001b[0;32m    173\u001b[0m         \u001b[0my_trainx\u001b[0m \u001b[1;33m=\u001b[0m \u001b[0mdata\u001b[0m\u001b[1;33m.\u001b[0m\u001b[0miloc\u001b[0m\u001b[1;33m[\u001b[0m\u001b[0mtrn_idx\u001b[0m\u001b[1;33m,\u001b[0m \u001b[1;33m-\u001b[0m\u001b[1;36m4\u001b[0m\u001b[1;33m]\u001b[0m\u001b[1;33m\u001b[0m\u001b[1;33m\u001b[0m\u001b[0m\n\u001b[0;32m    174\u001b[0m         \u001b[0my_trainy\u001b[0m \u001b[1;33m=\u001b[0m \u001b[0mdata\u001b[0m\u001b[1;33m.\u001b[0m\u001b[0miloc\u001b[0m\u001b[1;33m[\u001b[0m\u001b[0mtrn_idx\u001b[0m\u001b[1;33m,\u001b[0m \u001b[1;33m-\u001b[0m\u001b[1;36m3\u001b[0m\u001b[1;33m]\u001b[0m\u001b[1;33m\u001b[0m\u001b[1;33m\u001b[0m\u001b[0m\n",
      "\u001b[1;32mC:\\ProgramData\\Anaconda3\\lib\\site-packages\\pandas\\core\\indexing.py\u001b[0m in \u001b[0;36m__getitem__\u001b[1;34m(self, key)\u001b[0m\n\u001b[0;32m   1760\u001b[0m                 \u001b[1;32mexcept\u001b[0m \u001b[1;33m(\u001b[0m\u001b[0mKeyError\u001b[0m\u001b[1;33m,\u001b[0m \u001b[0mIndexError\u001b[0m\u001b[1;33m,\u001b[0m \u001b[0mAttributeError\u001b[0m\u001b[1;33m)\u001b[0m\u001b[1;33m:\u001b[0m\u001b[1;33m\u001b[0m\u001b[1;33m\u001b[0m\u001b[0m\n\u001b[0;32m   1761\u001b[0m                     \u001b[1;32mpass\u001b[0m\u001b[1;33m\u001b[0m\u001b[1;33m\u001b[0m\u001b[0m\n\u001b[1;32m-> 1762\u001b[1;33m             \u001b[1;32mreturn\u001b[0m \u001b[0mself\u001b[0m\u001b[1;33m.\u001b[0m\u001b[0m_getitem_tuple\u001b[0m\u001b[1;33m(\u001b[0m\u001b[0mkey\u001b[0m\u001b[1;33m)\u001b[0m\u001b[1;33m\u001b[0m\u001b[1;33m\u001b[0m\u001b[0m\n\u001b[0m\u001b[0;32m   1763\u001b[0m         \u001b[1;32melse\u001b[0m\u001b[1;33m:\u001b[0m\u001b[1;33m\u001b[0m\u001b[1;33m\u001b[0m\u001b[0m\n\u001b[0;32m   1764\u001b[0m             \u001b[1;31m# we by definition only have the 0th axis\u001b[0m\u001b[1;33m\u001b[0m\u001b[1;33m\u001b[0m\u001b[1;33m\u001b[0m\u001b[0m\n",
      "\u001b[1;32mC:\\ProgramData\\Anaconda3\\lib\\site-packages\\pandas\\core\\indexing.py\u001b[0m in \u001b[0;36m_getitem_tuple\u001b[1;34m(self, tup)\u001b[0m\n\u001b[0;32m   2078\u001b[0m                 \u001b[1;32mcontinue\u001b[0m\u001b[1;33m\u001b[0m\u001b[1;33m\u001b[0m\u001b[0m\n\u001b[0;32m   2079\u001b[0m \u001b[1;33m\u001b[0m\u001b[0m\n\u001b[1;32m-> 2080\u001b[1;33m             \u001b[0mretval\u001b[0m \u001b[1;33m=\u001b[0m \u001b[0mgetattr\u001b[0m\u001b[1;33m(\u001b[0m\u001b[0mretval\u001b[0m\u001b[1;33m,\u001b[0m \u001b[0mself\u001b[0m\u001b[1;33m.\u001b[0m\u001b[0mname\u001b[0m\u001b[1;33m)\u001b[0m\u001b[1;33m.\u001b[0m\u001b[0m_getitem_axis\u001b[0m\u001b[1;33m(\u001b[0m\u001b[0mkey\u001b[0m\u001b[1;33m,\u001b[0m \u001b[0maxis\u001b[0m\u001b[1;33m=\u001b[0m\u001b[0maxis\u001b[0m\u001b[1;33m)\u001b[0m\u001b[1;33m\u001b[0m\u001b[1;33m\u001b[0m\u001b[0m\n\u001b[0m\u001b[0;32m   2081\u001b[0m \u001b[1;33m\u001b[0m\u001b[0m\n\u001b[0;32m   2082\u001b[0m             \u001b[1;31m# if the dim was reduced, then pass a lower-dim the next time\u001b[0m\u001b[1;33m\u001b[0m\u001b[1;33m\u001b[0m\u001b[1;33m\u001b[0m\u001b[0m\n",
      "\u001b[1;32mC:\\ProgramData\\Anaconda3\\lib\\site-packages\\pandas\\core\\indexing.py\u001b[0m in \u001b[0;36m_getitem_axis\u001b[1;34m(self, key, axis)\u001b[0m\n\u001b[0;32m   2116\u001b[0m     \u001b[1;32mdef\u001b[0m \u001b[0m_getitem_axis\u001b[0m\u001b[1;33m(\u001b[0m\u001b[0mself\u001b[0m\u001b[1;33m,\u001b[0m \u001b[0mkey\u001b[0m\u001b[1;33m,\u001b[0m \u001b[0maxis\u001b[0m\u001b[1;33m:\u001b[0m \u001b[0mint\u001b[0m\u001b[1;33m)\u001b[0m\u001b[1;33m:\u001b[0m\u001b[1;33m\u001b[0m\u001b[1;33m\u001b[0m\u001b[0m\n\u001b[0;32m   2117\u001b[0m         \u001b[1;32mif\u001b[0m \u001b[0misinstance\u001b[0m\u001b[1;33m(\u001b[0m\u001b[0mkey\u001b[0m\u001b[1;33m,\u001b[0m \u001b[0mslice\u001b[0m\u001b[1;33m)\u001b[0m\u001b[1;33m:\u001b[0m\u001b[1;33m\u001b[0m\u001b[1;33m\u001b[0m\u001b[0m\n\u001b[1;32m-> 2118\u001b[1;33m             \u001b[1;32mreturn\u001b[0m \u001b[0mself\u001b[0m\u001b[1;33m.\u001b[0m\u001b[0m_get_slice_axis\u001b[0m\u001b[1;33m(\u001b[0m\u001b[0mkey\u001b[0m\u001b[1;33m,\u001b[0m \u001b[0maxis\u001b[0m\u001b[1;33m=\u001b[0m\u001b[0maxis\u001b[0m\u001b[1;33m)\u001b[0m\u001b[1;33m\u001b[0m\u001b[1;33m\u001b[0m\u001b[0m\n\u001b[0m\u001b[0;32m   2119\u001b[0m \u001b[1;33m\u001b[0m\u001b[0m\n\u001b[0;32m   2120\u001b[0m         \u001b[1;32mif\u001b[0m \u001b[0misinstance\u001b[0m\u001b[1;33m(\u001b[0m\u001b[0mkey\u001b[0m\u001b[1;33m,\u001b[0m \u001b[0mlist\u001b[0m\u001b[1;33m)\u001b[0m\u001b[1;33m:\u001b[0m\u001b[1;33m\u001b[0m\u001b[1;33m\u001b[0m\u001b[0m\n",
      "\u001b[1;32mC:\\ProgramData\\Anaconda3\\lib\\site-packages\\pandas\\core\\indexing.py\u001b[0m in \u001b[0;36m_get_slice_axis\u001b[1;34m(self, slice_obj, axis)\u001b[0m\n\u001b[0;32m   1748\u001b[0m \u001b[1;33m\u001b[0m\u001b[0m\n\u001b[0;32m   1749\u001b[0m         \u001b[0mindexer\u001b[0m \u001b[1;33m=\u001b[0m \u001b[0mself\u001b[0m\u001b[1;33m.\u001b[0m\u001b[0m_convert_slice_indexer\u001b[0m\u001b[1;33m(\u001b[0m\u001b[0mslice_obj\u001b[0m\u001b[1;33m,\u001b[0m \u001b[0maxis\u001b[0m\u001b[1;33m)\u001b[0m\u001b[1;33m\u001b[0m\u001b[1;33m\u001b[0m\u001b[0m\n\u001b[1;32m-> 1750\u001b[1;33m         \u001b[1;32mreturn\u001b[0m \u001b[0mself\u001b[0m\u001b[1;33m.\u001b[0m\u001b[0m_slice\u001b[0m\u001b[1;33m(\u001b[0m\u001b[0mindexer\u001b[0m\u001b[1;33m,\u001b[0m \u001b[0maxis\u001b[0m\u001b[1;33m=\u001b[0m\u001b[0maxis\u001b[0m\u001b[1;33m,\u001b[0m \u001b[0mkind\u001b[0m\u001b[1;33m=\u001b[0m\u001b[1;34m\"iloc\"\u001b[0m\u001b[1;33m)\u001b[0m\u001b[1;33m\u001b[0m\u001b[1;33m\u001b[0m\u001b[0m\n\u001b[0m\u001b[0;32m   1751\u001b[0m \u001b[1;33m\u001b[0m\u001b[0m\n\u001b[0;32m   1752\u001b[0m \u001b[1;33m\u001b[0m\u001b[0m\n",
      "\u001b[1;32mC:\\ProgramData\\Anaconda3\\lib\\site-packages\\pandas\\core\\indexing.py\u001b[0m in \u001b[0;36m_slice\u001b[1;34m(self, obj, axis, kind)\u001b[0m\n\u001b[0;32m    629\u001b[0m \u001b[1;33m\u001b[0m\u001b[0m\n\u001b[0;32m    630\u001b[0m     \u001b[1;32mdef\u001b[0m \u001b[0m_slice\u001b[0m\u001b[1;33m(\u001b[0m\u001b[0mself\u001b[0m\u001b[1;33m,\u001b[0m \u001b[0mobj\u001b[0m\u001b[1;33m,\u001b[0m \u001b[0maxis\u001b[0m\u001b[1;33m:\u001b[0m \u001b[0mint\u001b[0m\u001b[1;33m,\u001b[0m \u001b[0mkind\u001b[0m\u001b[1;33m=\u001b[0m\u001b[1;32mNone\u001b[0m\u001b[1;33m)\u001b[0m\u001b[1;33m:\u001b[0m\u001b[1;33m\u001b[0m\u001b[1;33m\u001b[0m\u001b[0m\n\u001b[1;32m--> 631\u001b[1;33m         \u001b[1;32mreturn\u001b[0m \u001b[0mself\u001b[0m\u001b[1;33m.\u001b[0m\u001b[0mobj\u001b[0m\u001b[1;33m.\u001b[0m\u001b[0m_slice\u001b[0m\u001b[1;33m(\u001b[0m\u001b[0mobj\u001b[0m\u001b[1;33m,\u001b[0m \u001b[0maxis\u001b[0m\u001b[1;33m=\u001b[0m\u001b[0maxis\u001b[0m\u001b[1;33m,\u001b[0m \u001b[0mkind\u001b[0m\u001b[1;33m=\u001b[0m\u001b[0mkind\u001b[0m\u001b[1;33m)\u001b[0m\u001b[1;33m\u001b[0m\u001b[1;33m\u001b[0m\u001b[0m\n\u001b[0m\u001b[0;32m    632\u001b[0m \u001b[1;33m\u001b[0m\u001b[0m\n\u001b[0;32m    633\u001b[0m     \u001b[1;32mdef\u001b[0m \u001b[0m_get_setitem_indexer\u001b[0m\u001b[1;33m(\u001b[0m\u001b[0mself\u001b[0m\u001b[1;33m,\u001b[0m \u001b[0mkey\u001b[0m\u001b[1;33m)\u001b[0m\u001b[1;33m:\u001b[0m\u001b[1;33m\u001b[0m\u001b[1;33m\u001b[0m\u001b[0m\n",
      "\u001b[1;32mC:\\ProgramData\\Anaconda3\\lib\\site-packages\\pandas\\core\\generic.py\u001b[0m in \u001b[0;36m_slice\u001b[1;34m(self, slobj, axis, kind)\u001b[0m\n\u001b[0;32m   3612\u001b[0m         \"\"\"\n\u001b[0;32m   3613\u001b[0m         \u001b[0maxis\u001b[0m \u001b[1;33m=\u001b[0m \u001b[0mself\u001b[0m\u001b[1;33m.\u001b[0m\u001b[0m_get_block_manager_axis\u001b[0m\u001b[1;33m(\u001b[0m\u001b[0maxis\u001b[0m\u001b[1;33m)\u001b[0m\u001b[1;33m\u001b[0m\u001b[1;33m\u001b[0m\u001b[0m\n\u001b[1;32m-> 3614\u001b[1;33m         \u001b[0mresult\u001b[0m \u001b[1;33m=\u001b[0m \u001b[0mself\u001b[0m\u001b[1;33m.\u001b[0m\u001b[0m_constructor\u001b[0m\u001b[1;33m(\u001b[0m\u001b[0mself\u001b[0m\u001b[1;33m.\u001b[0m\u001b[0m_data\u001b[0m\u001b[1;33m.\u001b[0m\u001b[0mget_slice\u001b[0m\u001b[1;33m(\u001b[0m\u001b[0mslobj\u001b[0m\u001b[1;33m,\u001b[0m \u001b[0maxis\u001b[0m\u001b[1;33m=\u001b[0m\u001b[0maxis\u001b[0m\u001b[1;33m)\u001b[0m\u001b[1;33m)\u001b[0m\u001b[1;33m\u001b[0m\u001b[1;33m\u001b[0m\u001b[0m\n\u001b[0m\u001b[0;32m   3615\u001b[0m         \u001b[0mresult\u001b[0m \u001b[1;33m=\u001b[0m \u001b[0mresult\u001b[0m\u001b[1;33m.\u001b[0m\u001b[0m__finalize__\u001b[0m\u001b[1;33m(\u001b[0m\u001b[0mself\u001b[0m\u001b[1;33m)\u001b[0m\u001b[1;33m\u001b[0m\u001b[1;33m\u001b[0m\u001b[0m\n\u001b[0;32m   3616\u001b[0m \u001b[1;33m\u001b[0m\u001b[0m\n",
      "\u001b[1;32mC:\\ProgramData\\Anaconda3\\lib\\site-packages\\pandas\\core\\internals\\managers.py\u001b[0m in \u001b[0;36mget_slice\u001b[1;34m(self, slobj, axis)\u001b[0m\n\u001b[0;32m    743\u001b[0m \u001b[1;33m\u001b[0m\u001b[0m\n\u001b[0;32m    744\u001b[0m         \u001b[1;32mif\u001b[0m \u001b[0maxis\u001b[0m \u001b[1;33m==\u001b[0m \u001b[1;36m0\u001b[0m\u001b[1;33m:\u001b[0m\u001b[1;33m\u001b[0m\u001b[1;33m\u001b[0m\u001b[0m\n\u001b[1;32m--> 745\u001b[1;33m             \u001b[0mnew_blocks\u001b[0m \u001b[1;33m=\u001b[0m \u001b[0mself\u001b[0m\u001b[1;33m.\u001b[0m\u001b[0m_slice_take_blocks_ax0\u001b[0m\u001b[1;33m(\u001b[0m\u001b[0mslobj\u001b[0m\u001b[1;33m)\u001b[0m\u001b[1;33m\u001b[0m\u001b[1;33m\u001b[0m\u001b[0m\n\u001b[0m\u001b[0;32m    746\u001b[0m         \u001b[1;32melse\u001b[0m\u001b[1;33m:\u001b[0m\u001b[1;33m\u001b[0m\u001b[1;33m\u001b[0m\u001b[0m\n\u001b[0;32m    747\u001b[0m             \u001b[0m_slicer\u001b[0m \u001b[1;33m=\u001b[0m \u001b[1;33m[\u001b[0m\u001b[0mslice\u001b[0m\u001b[1;33m(\u001b[0m\u001b[1;32mNone\u001b[0m\u001b[1;33m)\u001b[0m\u001b[1;33m]\u001b[0m \u001b[1;33m*\u001b[0m \u001b[1;33m(\u001b[0m\u001b[0maxis\u001b[0m \u001b[1;33m+\u001b[0m \u001b[1;36m1\u001b[0m\u001b[1;33m)\u001b[0m\u001b[1;33m\u001b[0m\u001b[1;33m\u001b[0m\u001b[0m\n",
      "\u001b[1;32mC:\\ProgramData\\Anaconda3\\lib\\site-packages\\pandas\\core\\internals\\managers.py\u001b[0m in \u001b[0;36m_slice_take_blocks_ax0\u001b[1;34m(self, slice_or_indexer, fill_tuple)\u001b[0m\n\u001b[0;32m   1348\u001b[0m                 \u001b[1;32melse\u001b[0m\u001b[1;33m:\u001b[0m\u001b[1;33m\u001b[0m\u001b[1;33m\u001b[0m\u001b[0m\n\u001b[0;32m   1349\u001b[0m                     blocks.append(\n\u001b[1;32m-> 1350\u001b[1;33m                         blk.take_nd(\n\u001b[0m\u001b[0;32m   1351\u001b[0m                             \u001b[0mblklocs\u001b[0m\u001b[1;33m[\u001b[0m\u001b[0mmgr_locs\u001b[0m\u001b[1;33m.\u001b[0m\u001b[0mindexer\u001b[0m\u001b[1;33m]\u001b[0m\u001b[1;33m,\u001b[0m\u001b[1;33m\u001b[0m\u001b[1;33m\u001b[0m\u001b[0m\n\u001b[0;32m   1352\u001b[0m                             \u001b[0maxis\u001b[0m\u001b[1;33m=\u001b[0m\u001b[1;36m0\u001b[0m\u001b[1;33m,\u001b[0m\u001b[1;33m\u001b[0m\u001b[1;33m\u001b[0m\u001b[0m\n",
      "\u001b[1;32mC:\\ProgramData\\Anaconda3\\lib\\site-packages\\pandas\\core\\internals\\blocks.py\u001b[0m in \u001b[0;36mtake_nd\u001b[1;34m(self, indexer, axis, new_mgr_locs, fill_tuple)\u001b[0m\n\u001b[0;32m   1294\u001b[0m             \u001b[0mallow_fill\u001b[0m \u001b[1;33m=\u001b[0m \u001b[1;32mTrue\u001b[0m\u001b[1;33m\u001b[0m\u001b[1;33m\u001b[0m\u001b[0m\n\u001b[0;32m   1295\u001b[0m \u001b[1;33m\u001b[0m\u001b[0m\n\u001b[1;32m-> 1296\u001b[1;33m         new_values = algos.take_nd(\n\u001b[0m\u001b[0;32m   1297\u001b[0m             \u001b[0mvalues\u001b[0m\u001b[1;33m,\u001b[0m \u001b[0mindexer\u001b[0m\u001b[1;33m,\u001b[0m \u001b[0maxis\u001b[0m\u001b[1;33m=\u001b[0m\u001b[0maxis\u001b[0m\u001b[1;33m,\u001b[0m \u001b[0mallow_fill\u001b[0m\u001b[1;33m=\u001b[0m\u001b[0mallow_fill\u001b[0m\u001b[1;33m,\u001b[0m \u001b[0mfill_value\u001b[0m\u001b[1;33m=\u001b[0m\u001b[0mfill_value\u001b[0m\u001b[1;33m\u001b[0m\u001b[1;33m\u001b[0m\u001b[0m\n\u001b[0;32m   1298\u001b[0m         )\n",
      "\u001b[1;32mC:\\ProgramData\\Anaconda3\\lib\\site-packages\\pandas\\core\\algorithms.py\u001b[0m in \u001b[0;36mtake_nd\u001b[1;34m(arr, indexer, axis, out, fill_value, allow_fill)\u001b[0m\n\u001b[0;32m   1655\u001b[0m             \u001b[0mout\u001b[0m \u001b[1;33m=\u001b[0m \u001b[0mnp\u001b[0m\u001b[1;33m.\u001b[0m\u001b[0mempty\u001b[0m\u001b[1;33m(\u001b[0m\u001b[0mout_shape\u001b[0m\u001b[1;33m,\u001b[0m \u001b[0mdtype\u001b[0m\u001b[1;33m=\u001b[0m\u001b[0mdtype\u001b[0m\u001b[1;33m,\u001b[0m \u001b[0morder\u001b[0m\u001b[1;33m=\u001b[0m\u001b[1;34m\"F\"\u001b[0m\u001b[1;33m)\u001b[0m\u001b[1;33m\u001b[0m\u001b[1;33m\u001b[0m\u001b[0m\n\u001b[0;32m   1656\u001b[0m         \u001b[1;32melse\u001b[0m\u001b[1;33m:\u001b[0m\u001b[1;33m\u001b[0m\u001b[1;33m\u001b[0m\u001b[0m\n\u001b[1;32m-> 1657\u001b[1;33m             \u001b[0mout\u001b[0m \u001b[1;33m=\u001b[0m \u001b[0mnp\u001b[0m\u001b[1;33m.\u001b[0m\u001b[0mempty\u001b[0m\u001b[1;33m(\u001b[0m\u001b[0mout_shape\u001b[0m\u001b[1;33m,\u001b[0m \u001b[0mdtype\u001b[0m\u001b[1;33m=\u001b[0m\u001b[0mdtype\u001b[0m\u001b[1;33m)\u001b[0m\u001b[1;33m\u001b[0m\u001b[1;33m\u001b[0m\u001b[0m\n\u001b[0m\u001b[0;32m   1658\u001b[0m \u001b[1;33m\u001b[0m\u001b[0m\n\u001b[0;32m   1659\u001b[0m     func = _get_take_nd_function(\n",
      "\u001b[1;31mMemoryError\u001b[0m: Unable to allocate 1.12 GiB for an array with shape (7029, 21299) and data type int64"
     ]
    }
   ],
   "source": [
    "# ------------------------------------------------------------------------------\n",
    "# Import libraries\n",
    "# ------------------------------------------------------------------------------\n",
    "import numpy as np\n",
    "import pandas as pd\n",
    "import scipy.stats as stats\n",
    "from pathlib import Path\n",
    "import glob\n",
    "\n",
    "from sklearn.model_selection import KFold\n",
    "# import lightgbm as lgb\n",
    "import xgboost as xgb\n",
    "\n",
    "import psutil\n",
    "import random\n",
    "import os\n",
    "import time\n",
    "import sys\n",
    "import math\n",
    "from contextlib import contextmanager\n",
    "\n",
    "\n",
    "# \n",
    "local_path = 'C:/Users/hp/Documents/OpenClassrooms/P8/'\n",
    "\n",
    "\n",
    "# ------------------------------------------------------------------------------\n",
    "# Fixed values\n",
    "# ------------------------------------------------------------------------------\n",
    "N_SPLITS = 10\n",
    "SEED = 42\n",
    "\n",
    "# ------------------------------------------------------------------------------\n",
    "# File path definition\n",
    "# ------------------------------------------------------------------------------\n",
    "# LOG_PATH = Path(\"./log/\")\n",
    "LOG_PATH = Path(local_path + \"log/\")\n",
    "LOG_PATH.mkdir(parents=True, exist_ok=True)\n",
    "\n",
    "\n",
    "# ------------------------------------------------------------------------------\n",
    "# Utilities\n",
    "# ------------------------------------------------------------------------------\n",
    "@contextmanager\n",
    "def timer(name: str):\n",
    "    t0 = time.time()\n",
    "    p = psutil.Process(os.getpid())\n",
    "    m0 = p.memory_info()[0] / 2. ** 30\n",
    "    try:\n",
    "        yield\n",
    "    finally:\n",
    "        m1 = p.memory_info()[0] / 2. ** 30\n",
    "        delta = m1 - m0\n",
    "        sign = '+' if delta >= 0 else '-'\n",
    "        delta = math.fabs(delta)\n",
    "        print(f\"[{m1:.1f}GB({sign}{delta:.1f}GB): {time.time() - t0:.3f}sec] {name}\", file=sys.stderr)\n",
    "\n",
    "\n",
    "def set_seed(seed=42):\n",
    "    random.seed(seed)\n",
    "    os.environ[\"PYTHONHASHSEED\"] = str(seed)\n",
    "    np.random.seed(seed)\n",
    "\n",
    "    \n",
    "def comp_metric(xhat, yhat, fhat, x, y, f):\n",
    "    intermediate = np.sqrt(np.power(xhat-x, 2) + np.power(yhat-y, 2)) + 15 * np.abs(fhat-f)\n",
    "    return intermediate.sum()/xhat.shape[0]\n",
    "\n",
    "\n",
    "def score_log(df: pd.DataFrame, num_files: int, nam_file: str, data_shape: tuple, n_fold: int, seed: int, mpe: float):\n",
    "    score_dict = {'n_files': num_files, 'file_name': nam_file, 'shape': data_shape, 'fold': n_fold, 'seed': seed, 'score': mpe}\n",
    "    # noinspection PyTypeChecker\n",
    "    df = pd.concat([df, pd.DataFrame.from_dict([score_dict])])\n",
    "    df.to_csv(LOG_PATH / f\"log_score.csv\", index=False)\n",
    "    return df\n",
    "\n",
    "\n",
    "\n",
    "\n",
    "# ------------------------------------------------------------------------------\n",
    "# Set seed\n",
    "# ------------------------------------------------------------------------------\n",
    "set_seed(SEED)\n",
    "\n",
    "# ------------------------------------------------------------------------------\n",
    "# Read data\n",
    "# ------------------------------------------------------------------------------\n",
    "# feature_dir = \"../input/indoor-navigation-and-location-wifi-features\"\n",
    "feature_dir = local_path  + \"input/indoor-navigation-and-location-wifi-features\"\n",
    "\n",
    "train_files = sorted(glob.glob(os.path.join(feature_dir, '*_train.csv')))\n",
    "print(\"There are {} *_train.csv files\".format(len(train_files)))\n",
    "test_files = sorted(glob.glob(os.path.join(feature_dir, '*_test.csv')))\n",
    "print(\"There are {} *_test.csv files\".format(len(test_files)))\n",
    "\n",
    "subm = pd.read_csv(local_path + 'input/submission/sample_submission.csv', index_col=0)\n",
    "# subm = pd.read_csv('../input/indoor-location-navigation/sample_submission.csv', index_col=0)\n",
    "\n",
    "# ------------------------------------------------------------------------------\n",
    "# Define parameters for models\n",
    "# ------------------------------------------------------------------------------\n",
    "\n",
    "# add settings for xgboost\n",
    "xgb_params = {'objective': 'reg:squarederror',\n",
    "              'booster': 'gbtree',\n",
    "              'n_estimators': 500,\n",
    "              'learning_rate': 0.1,              \n",
    "              'reg_alpha': 8,\n",
    "              'reg_lambda': 2,\n",
    "              'random_state': SEED,\n",
    "              'n_jobs': -1\n",
    "              }\n",
    "\n",
    "\n",
    "# WARNING: ../src/learner.cc:1061: Starting in XGBoost 1.3.0, the default evaluation metric used with the objective 'multi:softprob' was changed from 'merror' to 'mlogloss'. Explicitly set eval_metric if you'd like to restore the old behavior.\n",
    "# UserWarning: The use of label encoder in XGBClassifier is deprecated and will be removed in a future release. To remove this warning, do the following: 1) Pass option use_label_encoder=False when constructing XGBClassifier object; and 2) Encode your labels (y) as integers starting with 0, i.e. 0, 1, 2, ..., [num_class - 1].\n",
    "\n",
    "xgb_f_params = {'objective': 'multi:softmax', #multi:softmax  multi:softprob, will require use of encoder of type integer\n",
    "                'booster': 'gbtree',               \n",
    "                'n_estimators': 500,\n",
    "                'learning_rate': 0.1,                \n",
    "                'reg_alpha': 10,\n",
    "                'reg_lambda': 2,\n",
    "                'random_state': SEED,                \n",
    "                'n_jobs': -1\n",
    "                }\n",
    "# ------------------------------------------------------------------------------\n",
    "# Training and inference\n",
    "# ------------------------------------------------------------------------------\n",
    "score_df = pd.DataFrame()\n",
    "oof = list()\n",
    "predictions = list()\n",
    "for n_files, file in enumerate(train_files):\n",
    "    # trick here is to use single \"for loop\" to process both train and test datasets\n",
    "    print(\"process training set for site file num {}\".format(n_files))\n",
    "    data = pd.read_csv(file, index_col=0)\n",
    "    print(\"process testing set for site file num {}\".format(n_files))\n",
    "    test_data = pd.read_csv(test_files[n_files], index_col=0)\n",
    "\n",
    "    oof_x, oof_y, oof_f = np.zeros(data.shape[0]), np.zeros(data.shape[0]), np.zeros(data.shape[0])\n",
    "    preds_x, preds_y = 0, 0\n",
    "    preds_f_arr = np.zeros((test_data.shape[0], N_SPLITS))\n",
    "\n",
    "    kf = KFold(n_splits=N_SPLITS, shuffle=True, random_state=SEED)\n",
    "    for fold, (trn_idx, val_idx) in enumerate(kf.split(data.iloc[:, :-4])):\n",
    "        X_train = data.iloc[trn_idx, :-4]\n",
    "        y_trainx = data.iloc[trn_idx, -4]\n",
    "        y_trainy = data.iloc[trn_idx, -3]\n",
    "        y_trainf = data.iloc[trn_idx, -2]\n",
    "\n",
    "        X_valid = data.iloc[val_idx, :-4]\n",
    "        y_validx = data.iloc[val_idx, -4]\n",
    "        y_validy = data.iloc[val_idx, -3]\n",
    "        y_validf = data.iloc[val_idx, -2]\n",
    "\n",
    "        # modelx = lgb.LGBMRegressor(**lgb_params)\n",
    "        modelx = xgb.XGBRegressor(**xgb_params)\n",
    "        with timer(\"fit X\"):\n",
    "            modelx.fit(X_train, y_trainx,\n",
    "                       eval_set=[(X_valid, y_validx)],\n",
    "                       eval_metric='rmse',\n",
    "                       verbose=False,\n",
    "                       early_stopping_rounds=20\n",
    "                      )\n",
    "\n",
    "        # modely = lgb.LGBMRegressor(**lgb_params)\n",
    "        modely = xgb.XGBRegressor(**xgb_params)\n",
    "        with timer(\"fit Y\"):\n",
    "            modely.fit(X_train, y_trainy,\n",
    "                       eval_set=[(X_valid, y_validy)],\n",
    "                       eval_metric='rmse',\n",
    "                       verbose=False,\n",
    "                       early_stopping_rounds=20\n",
    "                       )\n",
    "\n",
    "        # modelf = lgb.LGBMClassifier(**lgb_f_params)\n",
    "        # remove param eval_metric='multi_logloss', for xgb\n",
    "        modelf = xgb.XGBClassifier(**xgb_f_params)\n",
    "        with timer(\"fit F\"):\n",
    "            modelf.fit(X_train, y_trainf,\n",
    "                       eval_set=[(X_valid, y_validf)],\n",
    "                       eval_metric='mlogloss', #for xgboot\n",
    "                       verbose=False,\n",
    "                       early_stopping_rounds=20\n",
    "                       )\n",
    "\n",
    "        oof_x[val_idx] = modelx.predict(X_valid)\n",
    "        oof_y[val_idx] = modely.predict(X_valid)\n",
    "        oof_f[val_idx] = modelf.predict(X_valid).astype(int)\n",
    "        \n",
    "        with timer(\"Pred X\"):\n",
    "            preds_x += modelx.predict(test_data.iloc[:, :-1]) / N_SPLITS\n",
    "            \n",
    "        with timer(\"Pred Y\"):\n",
    "            preds_y += modely.predict(test_data.iloc[:, :-1]) / N_SPLITS\n",
    "        \n",
    "        with timer(\"Pred F\"):\n",
    "            preds_f_arr[:, fold] = modelf.predict(test_data.iloc[:, :-1]).astype(int)\n",
    "\n",
    "        score = comp_metric(oof_x[val_idx], oof_y[val_idx], oof_f[val_idx],\n",
    "                            y_validx.to_numpy(), y_validy.to_numpy(), y_validf.to_numpy())\n",
    "        print(f\"fold {fold}: mean position error {score}\")\n",
    "        score_df = score_log(score_df, n_files, os.path.basename(file), data.shape, fold, SEED, score)\n",
    "\n",
    "    print(\"*+\"*40)\n",
    "    print(f\"file #{n_files}, shape={data.shape}, name={os.path.basename(file)}\")\n",
    "    score = comp_metric(oof_x, oof_y, oof_f,\n",
    "                        data.iloc[:, -4].to_numpy(), data.iloc[:, -3].to_numpy(), data.iloc[:, -2].to_numpy())\n",
    "    oof.append(score)\n",
    "    print(f\"mean position error {score}\")\n",
    "    print(\"*+\"*40)\n",
    "    score_df = score_log(score_df, n_files, os.path.basename(file), data.shape, 999, SEED, score)\n",
    "\n",
    "    preds_f_mode = stats.mode(preds_f_arr, axis=1)\n",
    "    preds_f = preds_f_mode[0].astype(int).reshape(-1)\n",
    "    test_preds = pd.DataFrame(np.stack((preds_f, preds_x, preds_y))).T\n",
    "    test_preds.columns = subm.columns\n",
    "    test_preds.index = test_data[\"site_path_timestamp\"]\n",
    "    test_preds[\"floor\"] = test_preds[\"floor\"].astype(int)\n",
    "    predictions.append(test_preds)\n",
    "\n",
    "# ------------------------------------------------------------------------------\n",
    "# Submit the result\n",
    "# ------------------------------------------------------------------------------\n",
    "all_preds = pd.concat(predictions)\n",
    "all_preds = all_preds.reindex(subm.index)\n",
    "all_preds.to_csv('submission.csv')"
   ]
  },
  {
   "cell_type": "code",
   "execution_count": 9,
   "metadata": {},
   "outputs": [
    {
     "name": "stdout",
     "output_type": "stream",
     "text": [
      "There are 24 *_train.csv files\n",
      "There are 24 *_test.csv files\n",
      "process training set for site file num 0\n",
      "process testing set for site file num 0\n"
     ]
    },
    {
     "name": "stderr",
     "output_type": "stream",
     "text": [
      "[0.8GB(-0.0GB): 1875.343sec] fit X\n",
      "[0.8GB(+0.0GB): 2011.414sec] fit Y\n",
      "[1.0GB(+0.1GB): 64.917sec] fit F\n",
      "[1.2GB(+0.0GB): 17.939sec] Pred X\n",
      "[1.2GB(+0.0GB): 17.843sec] Pred Y\n",
      "[1.2GB(+0.0GB): 3.309sec] Pred F\n"
     ]
    },
    {
     "name": "stdout",
     "output_type": "stream",
     "text": [
      "fold 0: mean position error 63.214866311881686\n",
      "*+*+*+*+*+*+*+*+*+*+*+*+*+*+*+*+*+*+*+*+*+*+*+*+*+*+*+*+*+*+*+*+*+*+*+*+*+*+*+*+\n",
      "file #0, shape=(9296, 3401), name=5a0546857ecc773753327266_train.csv\n",
      "mean position error 155.8233074427557\n",
      "*+*+*+*+*+*+*+*+*+*+*+*+*+*+*+*+*+*+*+*+*+*+*+*+*+*+*+*+*+*+*+*+*+*+*+*+*+*+*+*+\n"
     ]
    }
   ],
   "source": [
    "# for SVM and SVR\n",
    "\n",
    "# ------------------------------------------------------------------------------\n",
    "# Import libraries\n",
    "# ------------------------------------------------------------------------------\n",
    "import numpy as np\n",
    "import pandas as pd\n",
    "import scipy.stats as stats\n",
    "from pathlib import Path\n",
    "import glob\n",
    "\n",
    "from sklearn.model_selection import KFold\n",
    "# import lightgbm as lgb\n",
    "import xgboost as xgb\n",
    "\n",
    "# https://scikit-learn.org/stable/auto_examples/svm/plot_svm_regression.html#sphx-glr-auto-examples-svm-plot-svm-regression-py\n",
    "from sklearn.svm import SVR, SVC\n",
    "\n",
    "import psutil\n",
    "import random\n",
    "import os\n",
    "import time\n",
    "import sys\n",
    "import math\n",
    "from contextlib import contextmanager\n",
    "\n",
    "\n",
    "# \n",
    "local_path = 'C:/Users/hp/Documents/OpenClassrooms/P8/'\n",
    "\n",
    "\n",
    "# ------------------------------------------------------------------------------\n",
    "# Fixed values\n",
    "# ------------------------------------------------------------------------------\n",
    "N_SPLITS = 10\n",
    "SEED = 42\n",
    "\n",
    "# ------------------------------------------------------------------------------\n",
    "# File path definition\n",
    "# ------------------------------------------------------------------------------\n",
    "# LOG_PATH = Path(\"./log/\")\n",
    "LOG_PATH = Path(local_path + \"log/\")\n",
    "LOG_PATH.mkdir(parents=True, exist_ok=True)\n",
    "\n",
    "\n",
    "# ------------------------------------------------------------------------------\n",
    "# Utilities\n",
    "# ------------------------------------------------------------------------------\n",
    "@contextmanager\n",
    "def timer(name: str):\n",
    "    t0 = time.time()\n",
    "    p = psutil.Process(os.getpid())\n",
    "    m0 = p.memory_info()[0] / 2. ** 30\n",
    "    try:\n",
    "        yield\n",
    "    finally:\n",
    "        m1 = p.memory_info()[0] / 2. ** 30\n",
    "        delta = m1 - m0\n",
    "        sign = '+' if delta >= 0 else '-'\n",
    "        delta = math.fabs(delta)\n",
    "        print(f\"[{m1:.1f}GB({sign}{delta:.1f}GB): {time.time() - t0:.3f}sec] {name}\", file=sys.stderr)\n",
    "\n",
    "\n",
    "def set_seed(seed=42):\n",
    "    random.seed(seed)\n",
    "    os.environ[\"PYTHONHASHSEED\"] = str(seed)\n",
    "    np.random.seed(seed)\n",
    "\n",
    "    \n",
    "def comp_metric(xhat, yhat, fhat, x, y, f):\n",
    "    intermediate = np.sqrt(np.power(xhat-x, 2) + np.power(yhat-y, 2)) + 15 * np.abs(fhat-f)\n",
    "    return intermediate.sum()/xhat.shape[0]\n",
    "\n",
    "\n",
    "def score_log(df: pd.DataFrame, num_files: int, nam_file: str, data_shape: tuple, n_fold: int, seed: int, mpe: float):\n",
    "    score_dict = {'n_files': num_files, 'file_name': nam_file, 'shape': data_shape, 'fold': n_fold, 'seed': seed, 'score': mpe}\n",
    "    # noinspection PyTypeChecker\n",
    "    df = pd.concat([df, pd.DataFrame.from_dict([score_dict])])\n",
    "    df.to_csv(LOG_PATH / f\"log_score.csv\", index=False)\n",
    "    return df\n",
    "\n",
    "\n",
    "\n",
    "\n",
    "# ------------------------------------------------------------------------------\n",
    "# Set seed\n",
    "# ------------------------------------------------------------------------------\n",
    "set_seed(SEED)\n",
    "\n",
    "# ------------------------------------------------------------------------------\n",
    "# Read data\n",
    "# ------------------------------------------------------------------------------\n",
    "# feature_dir = \"../input/indoor-navigation-and-location-wifi-features\"\n",
    "feature_dir = local_path  + \"input/indoor-navigation-and-location-wifi-features\"\n",
    "\n",
    "train_files = sorted(glob.glob(os.path.join(feature_dir, '*_train.csv')))\n",
    "print(\"There are {} *_train.csv files\".format(len(train_files)))\n",
    "test_files = sorted(glob.glob(os.path.join(feature_dir, '*_test.csv')))\n",
    "print(\"There are {} *_test.csv files\".format(len(test_files)))\n",
    "\n",
    "subm = pd.read_csv(local_path + 'input/submission/sample_submission.csv', index_col=0)\n",
    "# subm = pd.read_csv('../input/indoor-location-navigation/sample_submission.csv', index_col=0)\n",
    "\n",
    "# ------------------------------------------------------------------------------\n",
    "# Define parameters for models\n",
    "# ------------------------------------------------------------------------------\n",
    "\n",
    "# add settings for xgboost\n",
    "xgb_params = {'objective': 'reg:squarederror',\n",
    "              'booster': 'gbtree',\n",
    "              'n_estimators': 1000,\n",
    "              'learning_rate': 0.1,              \n",
    "              'reg_alpha': 8,\n",
    "              'reg_lambda': 2,\n",
    "              'random_state': SEED,\n",
    "              'n_jobs': -1\n",
    "              }\n",
    "\n",
    "\n",
    "# WARNING: ../src/learner.cc:1061: Starting in XGBoost 1.3.0, the default evaluation metric used with the objective 'multi:softprob' was changed from 'merror' to 'mlogloss'. Explicitly set eval_metric if you'd like to restore the old behavior.\n",
    "# UserWarning: The use of label encoder in XGBClassifier is deprecated and will be removed in a future release. To remove this warning, do the following: 1) Pass option use_label_encoder=False when constructing XGBClassifier object; and 2) Encode your labels (y) as integers starting with 0, i.e. 0, 1, 2, ..., [num_class - 1].\n",
    "\n",
    "xgb_f_params = {'objective': 'multi:softmax', #multi:softmax  multi:softprob, will require use of encoder of type integer\n",
    "                'booster': 'gbtree',               \n",
    "                'n_estimators': 1000,\n",
    "                'learning_rate': 0.1,                \n",
    "                'reg_alpha': 10,\n",
    "                'reg_lambda': 2,\n",
    "                'random_state': SEED,                \n",
    "                'n_jobs': -1\n",
    "                }\n",
    "# ------------------------------------------------------------------------------\n",
    "# Training and inference\n",
    "# ------------------------------------------------------------------------------\n",
    "score_df = pd.DataFrame()\n",
    "oof = list()\n",
    "predictions = list()\n",
    "for n_files, file in enumerate(train_files):\n",
    "    # trick here is to use single \"for loop\" to process both train and test datasets\n",
    "    print(\"process training set for site file num {}\".format(n_files))\n",
    "    data = pd.read_csv(file, index_col=0)\n",
    "    print(\"process testing set for site file num {}\".format(n_files))\n",
    "    test_data = pd.read_csv(test_files[n_files], index_col=0)\n",
    "\n",
    "    oof_x, oof_y, oof_f = np.zeros(data.shape[0]), np.zeros(data.shape[0]), np.zeros(data.shape[0])\n",
    "    preds_x, preds_y = 0, 0\n",
    "    preds_f_arr = np.zeros((test_data.shape[0], N_SPLITS))\n",
    "\n",
    "    kf = KFold(n_splits=N_SPLITS, shuffle=True, random_state=SEED)\n",
    "    for fold, (trn_idx, val_idx) in enumerate(kf.split(data.iloc[:, :-4])):\n",
    "        X_train = data.iloc[trn_idx, :-4]\n",
    "        y_trainx = data.iloc[trn_idx, -4]\n",
    "        y_trainy = data.iloc[trn_idx, -3]\n",
    "        y_trainf = data.iloc[trn_idx, -2]\n",
    "\n",
    "        X_valid = data.iloc[val_idx, :-4]\n",
    "        y_validx = data.iloc[val_idx, -4]\n",
    "        y_validy = data.iloc[val_idx, -3]\n",
    "        y_validf = data.iloc[val_idx, -2]\n",
    "\n",
    "        # modelx = lgb.LGBMRegressor(**lgb_params)\n",
    "        # modelx = xgb.XGBRegressor(**xgb_params)\n",
    "        modelx = SVR(kernel='rbf', C=100, gamma=0.1, epsilon=.1)\n",
    "        # modelx = SVR(kernel='linear', C=100, gamma='auto')\n",
    "        # modelx = SVR(kernel='poly', C=100, gamma='auto', degree=3, epsilon=.1, coef0=1)\n",
    "        with timer(\"fit X\"):\n",
    "            modelx.fit(X_train, y_trainx,\n",
    "                       # eval_set=[(X_valid, y_validx)],\n",
    "                       # eval_metric='rmse',\n",
    "                       #verbose=False,\n",
    "                       #early_stopping_rounds=20\n",
    "                      )\n",
    "\n",
    "        # modely = lgb.LGBMRegressor(**lgb_params)\n",
    "        # modely = xgb.XGBRegressor(**xgb_params)\n",
    "        modely = SVR(kernel='rbf', C=100, gamma=0.1, epsilon=.1)\n",
    "        # modely = SVR(kernel='linear', C=100, gamma='auto')\n",
    "        # modely = SVR(kernel='poly', C=100, gamma='auto', degree=3, epsilon=.1, coef0=1)\n",
    "        with timer(\"fit Y\"):\n",
    "            modely.fit(X_train, y_trainy #,\n",
    "                       # eval_set=[(X_valid, y_validy)],\n",
    "                       # eval_metric='rmse',\n",
    "                       # verbose=False,\n",
    "                       # early_stopping_rounds=20\n",
    "                       )\n",
    "\n",
    "        # modelf = lgb.LGBMClassifier(**lgb_f_params)\n",
    "        # remove param eval_metric='multi_logloss', for xgb\n",
    "        # modelf = xgb.XGBClassifier(**xgb_f_params)\n",
    "        modelf = SVC(decision_function_shape='ovo')\n",
    "        with timer(\"fit F\"):\n",
    "            modelf.fit(X_train, y_trainf #,\n",
    "                       # eval_set=[(X_valid, y_validf)],\n",
    "                       # eval_metric='mlogloss', #for xgboot\n",
    "                       # verbose=False,\n",
    "                       # early_stopping_rounds=20\n",
    "                       )\n",
    "\n",
    "        oof_x[val_idx] = modelx.predict(X_valid)\n",
    "        oof_y[val_idx] = modely.predict(X_valid)\n",
    "        oof_f[val_idx] = modelf.predict(X_valid).astype(int)\n",
    "        \n",
    "        with timer(\"Pred X\"):\n",
    "            preds_x += modelx.predict(test_data.iloc[:, :-1]) / N_SPLITS\n",
    "            \n",
    "        with timer(\"Pred Y\"):\n",
    "            preds_y += modely.predict(test_data.iloc[:, :-1]) / N_SPLITS\n",
    "        \n",
    "        with timer(\"Pred F\"):\n",
    "            preds_f_arr[:, fold] = modelf.predict(test_data.iloc[:, :-1]).astype(int)\n",
    "\n",
    "        score = comp_metric(oof_x[val_idx], oof_y[val_idx], oof_f[val_idx],\n",
    "                            y_validx.to_numpy(), y_validy.to_numpy(), y_validf.to_numpy())\n",
    "        print(f\"fold {fold}: mean position error {score}\")\n",
    "        score_df = score_log(score_df, n_files, os.path.basename(file), data.shape, fold, SEED, score)\n",
    "        \n",
    "        break # for test purpose otherwise remove this break statement\n",
    "\n",
    "    print(\"*+\"*40)\n",
    "    print(f\"file #{n_files}, shape={data.shape}, name={os.path.basename(file)}\")\n",
    "    score = comp_metric(oof_x, oof_y, oof_f,\n",
    "                        data.iloc[:, -4].to_numpy(), data.iloc[:, -3].to_numpy(), data.iloc[:, -2].to_numpy())\n",
    "    oof.append(score)\n",
    "    print(f\"mean position error {score}\")\n",
    "    print(\"*+\"*40)\n",
    "    score_df = score_log(score_df, n_files, os.path.basename(file), data.shape, 999, SEED, score)\n",
    "\n",
    "    preds_f_mode = stats.mode(preds_f_arr, axis=1)\n",
    "    preds_f = preds_f_mode[0].astype(int).reshape(-1)\n",
    "    test_preds = pd.DataFrame(np.stack((preds_f, preds_x, preds_y))).T\n",
    "    test_preds.columns = subm.columns\n",
    "    test_preds.index = test_data[\"site_path_timestamp\"]\n",
    "    test_preds[\"floor\"] = test_preds[\"floor\"].astype(int)\n",
    "    predictions.append(test_preds)\n",
    "    break # for test purpose otherwise remove this break statement\n",
    "\n",
    "# ------------------------------------------------------------------------------\n",
    "# Submit the result\n",
    "# ------------------------------------------------------------------------------\n",
    "all_preds = pd.concat(predictions)\n",
    "all_preds = all_preds.reindex(subm.index)\n",
    "all_preds.to_csv('submission.csv')"
   ]
  },
  {
   "cell_type": "code",
   "execution_count": 2,
   "metadata": {},
   "outputs": [
    {
     "name": "stdout",
     "output_type": "stream",
     "text": [
      "There are 24 *_train.csv files\n",
      "There are 24 *_test.csv files\n",
      "process training set for site file num 0\n",
      "process testing set for site file num 0\n",
      "vecor shapes X_train: (9296, 3397)\n",
      "vecor shapes y_trainx: (9296,)\n",
      "fitting grid search...\n",
      "Fitting 3 folds for each of 9 candidates, totalling 27 fits\n",
      "[CV] learning_rate=0.001, n_estimators=500 ...........................\n"
     ]
    },
    {
     "name": "stderr",
     "output_type": "stream",
     "text": [
      "[Parallel(n_jobs=1)]: Using backend SequentialBackend with 1 concurrent workers.\n"
     ]
    },
    {
     "name": "stdout",
     "output_type": "stream",
     "text": [
      "[CV]  learning_rate=0.001, n_estimators=500, score=-97.666, total= 3.7min\n",
      "[CV] learning_rate=0.001, n_estimators=500 ...........................\n"
     ]
    },
    {
     "name": "stderr",
     "output_type": "stream",
     "text": [
      "[Parallel(n_jobs=1)]: Done   1 out of   1 | elapsed:  3.7min remaining:    0.0s\n"
     ]
    },
    {
     "name": "stdout",
     "output_type": "stream",
     "text": [
      "[CV]  learning_rate=0.001, n_estimators=500, score=-32.841, total= 3.6min\n",
      "[CV] learning_rate=0.001, n_estimators=500 ...........................\n"
     ]
    },
    {
     "name": "stderr",
     "output_type": "stream",
     "text": [
      "[Parallel(n_jobs=1)]: Done   2 out of   2 | elapsed:  7.3min remaining:    0.0s\n"
     ]
    },
    {
     "name": "stdout",
     "output_type": "stream",
     "text": [
      "[CV]  learning_rate=0.001, n_estimators=500, score=-96.175, total= 3.5min\n",
      "[CV] learning_rate=0.001, n_estimators=1000 ..........................\n"
     ]
    },
    {
     "name": "stderr",
     "output_type": "stream",
     "text": [
      "[Parallel(n_jobs=1)]: Done   3 out of   3 | elapsed: 10.8min remaining:    0.0s\n"
     ]
    },
    {
     "name": "stdout",
     "output_type": "stream",
     "text": [
      "[CV]  learning_rate=0.001, n_estimators=1000, score=-86.268, total= 7.2min\n",
      "[CV] learning_rate=0.001, n_estimators=1000 ..........................\n",
      "[CV]  learning_rate=0.001, n_estimators=1000, score=-18.297, total= 7.1min\n",
      "[CV] learning_rate=0.001, n_estimators=1000 ..........................\n",
      "[CV]  learning_rate=0.001, n_estimators=1000, score=-81.457, total= 7.0min\n",
      "[CV] learning_rate=0.001, n_estimators=5000 ..........................\n",
      "[CV]  learning_rate=0.001, n_estimators=5000, score=-67.583, total=36.2min\n",
      "[CV] learning_rate=0.001, n_estimators=5000 ..........................\n",
      "[CV]  learning_rate=0.001, n_estimators=5000, score=-13.464, total=35.9min\n",
      "[CV] learning_rate=0.001, n_estimators=5000 ..........................\n",
      "[CV]  learning_rate=0.001, n_estimators=5000, score=-61.316, total=35.6min\n",
      "[CV] learning_rate=0.01, n_estimators=500 ............................\n",
      "[CV]  learning_rate=0.01, n_estimators=500, score=-67.423, total= 3.6min\n",
      "[CV] learning_rate=0.01, n_estimators=500 ............................\n",
      "[CV]  learning_rate=0.01, n_estimators=500, score=-13.305, total= 3.6min\n",
      "[CV] learning_rate=0.01, n_estimators=500 ............................\n",
      "[CV]  learning_rate=0.01, n_estimators=500, score=-61.354, total= 3.6min\n",
      "[CV] learning_rate=0.01, n_estimators=1000 ...........................\n",
      "[CV]  learning_rate=0.01, n_estimators=1000, score=-66.781, total= 7.2min\n",
      "[CV] learning_rate=0.01, n_estimators=1000 ...........................\n",
      "[CV]  learning_rate=0.01, n_estimators=1000, score=-13.029, total= 7.2min\n",
      "[CV] learning_rate=0.01, n_estimators=1000 ...........................\n",
      "[CV]  learning_rate=0.01, n_estimators=1000, score=-60.501, total= 7.2min\n",
      "[CV] learning_rate=0.01, n_estimators=5000 ...........................\n",
      "[CV]  learning_rate=0.01, n_estimators=5000, score=-66.679, total=36.1min\n",
      "[CV] learning_rate=0.01, n_estimators=5000 ...........................\n",
      "[CV]  learning_rate=0.01, n_estimators=5000, score=-12.833, total=36.0min\n",
      "[CV] learning_rate=0.01, n_estimators=5000 ...........................\n",
      "[CV]  learning_rate=0.01, n_estimators=5000, score=-60.438, total=36.0min\n",
      "[CV] learning_rate=0.1, n_estimators=500 .............................\n",
      "[CV]  learning_rate=0.1, n_estimators=500, score=-66.418, total= 3.6min\n",
      "[CV] learning_rate=0.1, n_estimators=500 .............................\n",
      "[CV]  learning_rate=0.1, n_estimators=500, score=-13.060, total= 3.6min\n",
      "[CV] learning_rate=0.1, n_estimators=500 .............................\n",
      "[CV]  learning_rate=0.1, n_estimators=500, score=-60.350, total= 3.6min\n",
      "[CV] learning_rate=0.1, n_estimators=1000 ............................\n",
      "[CV]  learning_rate=0.1, n_estimators=1000, score=-66.556, total= 7.3min\n",
      "[CV] learning_rate=0.1, n_estimators=1000 ............................\n",
      "[CV]  learning_rate=0.1, n_estimators=1000, score=-13.063, total= 7.2min\n",
      "[CV] learning_rate=0.1, n_estimators=1000 ............................\n",
      "[CV]  learning_rate=0.1, n_estimators=1000, score=-60.376, total= 7.3min\n",
      "[CV] learning_rate=0.1, n_estimators=5000 ............................\n",
      "[CV]  learning_rate=0.1, n_estimators=5000, score=-66.566, total=14.8min\n",
      "[CV] learning_rate=0.1, n_estimators=5000 ............................\n",
      "[CV]  learning_rate=0.1, n_estimators=5000, score=-13.068, total=15.2min\n",
      "[CV] learning_rate=0.1, n_estimators=5000 ............................\n",
      "[CV]  learning_rate=0.1, n_estimators=5000, score=-60.375, total=14.8min\n"
     ]
    },
    {
     "name": "stderr",
     "output_type": "stream",
     "text": [
      "[Parallel(n_jobs=1)]: Done  27 out of  27 | elapsed: 357.9min finished\n"
     ]
    },
    {
     "name": "stdout",
     "output_type": "stream",
     "text": [
      "best params:  {'learning_rate': 0.1, 'n_estimators': 500}\n"
     ]
    },
    {
     "name": "stderr",
     "output_type": "stream",
     "text": [
      "[0.8GB(-0.0GB): 597.526sec] fit X\n",
      "[0.8GB(+0.0GB): 606.718sec] fit Y\n",
      "[0.8GB(+0.0GB): 269.410sec] fit F\n",
      "[0.8GB(+0.0GB): 0.391sec] Pred X\n",
      "[0.8GB(+0.0GB): 0.208sec] Pred Y\n",
      "[0.8GB(+0.0GB): 0.199sec] Pred F\n"
     ]
    },
    {
     "name": "stdout",
     "output_type": "stream",
     "text": [
      "fold 0: mean position error 3.72969839558177\n",
      "*+*+*+*+*+*+*+*+*+*+*+*+*+*+*+*+*+*+*+*+*+*+*+*+*+*+*+*+*+*+*+*+*+*+*+*+*+*+*+*+\n",
      "file #0, shape=(9296, 3401), name=5a0546857ecc773753327266_train.csv\n",
      "mean position error 149.87223104837543\n",
      "*+*+*+*+*+*+*+*+*+*+*+*+*+*+*+*+*+*+*+*+*+*+*+*+*+*+*+*+*+*+*+*+*+*+*+*+*+*+*+*+\n"
     ]
    }
   ],
   "source": [
    "#testing parameter optimization\n",
    "\n",
    "# ------------------------------------------------------------------------------\n",
    "# Import libraries\n",
    "# ------------------------------------------------------------------------------\n",
    "import numpy as np\n",
    "import pandas as pd\n",
    "import scipy.stats as stats\n",
    "from pathlib import Path\n",
    "import glob\n",
    "\n",
    "from sklearn.model_selection import KFold\n",
    "from sklearn.model_selection import GridSearchCV\n",
    "import xgboost as xgb\n",
    "\n",
    "import psutil\n",
    "import random\n",
    "import os\n",
    "import time\n",
    "import sys\n",
    "import math\n",
    "from contextlib import contextmanager\n",
    "\n",
    "\n",
    "# \n",
    "local_path = 'C:/Users/hp/Documents/OpenClassrooms/P8/'\n",
    "\n",
    "\n",
    "# ------------------------------------------------------------------------------\n",
    "# Fixed values\n",
    "# ------------------------------------------------------------------------------\n",
    "N_SPLITS = 10\n",
    "SEED = 42\n",
    "\n",
    "# ------------------------------------------------------------------------------\n",
    "# File path definition\n",
    "# ------------------------------------------------------------------------------\n",
    "# LOG_PATH = Path(\"./log/\")\n",
    "LOG_PATH = Path(local_path + \"log/\")\n",
    "LOG_PATH.mkdir(parents=True, exist_ok=True)\n",
    "\n",
    "\n",
    "# ------------------------------------------------------------------------------\n",
    "# Utilities\n",
    "# ------------------------------------------------------------------------------\n",
    "@contextmanager\n",
    "def timer(name: str):\n",
    "    t0 = time.time()\n",
    "    p = psutil.Process(os.getpid())\n",
    "    m0 = p.memory_info()[0] / 2. ** 30\n",
    "    try:\n",
    "        yield\n",
    "    finally:\n",
    "        m1 = p.memory_info()[0] / 2. ** 30\n",
    "        delta = m1 - m0\n",
    "        sign = '+' if delta >= 0 else '-'\n",
    "        delta = math.fabs(delta)\n",
    "        print(f\"[{m1:.1f}GB({sign}{delta:.1f}GB): {time.time() - t0:.3f}sec] {name}\", file=sys.stderr)\n",
    "\n",
    "\n",
    "def set_seed(seed=42):\n",
    "    random.seed(seed)\n",
    "    os.environ[\"PYTHONHASHSEED\"] = str(seed)\n",
    "    np.random.seed(seed)\n",
    "\n",
    "    \n",
    "def comp_metric(xhat, yhat, fhat, x, y, f):\n",
    "    intermediate = np.sqrt(np.power(xhat-x, 2) + np.power(yhat-y, 2)) + 15 * np.abs(fhat-f)\n",
    "    return intermediate.sum()/xhat.shape[0]\n",
    "\n",
    "\n",
    "def score_log(df: pd.DataFrame, num_files: int, nam_file: str, data_shape: tuple, n_fold: int, seed: int, mpe: float):\n",
    "    score_dict = {'n_files': num_files, 'file_name': nam_file, 'shape': data_shape, 'fold': n_fold, 'seed': seed, 'score': mpe}\n",
    "    # noinspection PyTypeChecker\n",
    "    df = pd.concat([df, pd.DataFrame.from_dict([score_dict])])\n",
    "    df.to_csv(LOG_PATH / f\"log_score.csv\", index=False)\n",
    "    return df\n",
    "\n",
    "\n",
    "\n",
    "\n",
    "# ------------------------------------------------------------------------------\n",
    "# Set seed\n",
    "# ------------------------------------------------------------------------------\n",
    "set_seed(SEED)\n",
    "\n",
    "# ------------------------------------------------------------------------------\n",
    "# Read data\n",
    "# ------------------------------------------------------------------------------\n",
    "# feature_dir = \"../input/indoor-navigation-and-location-wifi-features\"\n",
    "feature_dir = local_path  + \"input/indoor-navigation-and-location-wifi-features\"\n",
    "\n",
    "train_files = sorted(glob.glob(os.path.join(feature_dir, '*_train.csv')))\n",
    "print(\"There are {} *_train.csv files\".format(len(train_files)))\n",
    "test_files = sorted(glob.glob(os.path.join(feature_dir, '*_test.csv')))\n",
    "print(\"There are {} *_test.csv files\".format(len(test_files)))\n",
    "\n",
    "subm = pd.read_csv(local_path + 'input/submission/sample_submission.csv', index_col=0)\n",
    "# subm = pd.read_csv('../input/indoor-location-navigation/sample_submission.csv', index_col=0)\n",
    "\n",
    "# ------------------------------------------------------------------------------\n",
    "# Define parameters for models\n",
    "# ------------------------------------------------------------------------------\n",
    "\n",
    "# add settings for xgboost\n",
    "xgb_params = {'objective': 'reg:squarederror',\n",
    "              'booster': 'gbtree',\n",
    "              'n_estimators': 1000,\n",
    "              'learning_rate': 0.1,              \n",
    "              'reg_alpha': 8,\n",
    "              'reg_lambda': 2,\n",
    "              'random_state': SEED,\n",
    "              'n_jobs': -1\n",
    "              }\n",
    "\n",
    "\n",
    "# WARNING: ../src/learner.cc:1061: Starting in XGBoost 1.3.0, the default evaluation metric used with the objective 'multi:softprob' was changed from 'merror' to 'mlogloss'. Explicitly set eval_metric if you'd like to restore the old behavior.\n",
    "# UserWarning: The use of label encoder in XGBClassifier is deprecated and will be removed in a future release. To remove this warning, do the following: 1) Pass option use_label_encoder=False when constructing XGBClassifier object; and 2) Encode your labels (y) as integers starting with 0, i.e. 0, 1, 2, ..., [num_class - 1].\n",
    "\n",
    "xgb_f_params = {'objective': 'multi:softmax', #multi:softmax  multi:softprob, will require use of encoder of type integer\n",
    "                'booster': 'gbtree',               \n",
    "                'n_estimators': 1000,\n",
    "                'learning_rate': 0.1,                \n",
    "                'reg_alpha': 10,\n",
    "                'reg_lambda': 2,\n",
    "                'random_state': SEED,                \n",
    "                'n_jobs': -1\n",
    "                }\n",
    "# ------------------------------------------------------------------------------\n",
    "# Training and inference\n",
    "# ------------------------------------------------------------------------------\n",
    "score_df = pd.DataFrame()\n",
    "oof = list()\n",
    "predictions = list()\n",
    "for n_files, file in enumerate(train_files):\n",
    "    # trick here is to use single \"for loop\" to process both train and test datasets\n",
    "    print(\"process training set for site file num {}\".format(n_files))\n",
    "    data = pd.read_csv(file, index_col=0)\n",
    "    print(\"process testing set for site file num {}\".format(n_files))\n",
    "    test_data = pd.read_csv(test_files[n_files], index_col=0)\n",
    "\n",
    "    oof_x, oof_y, oof_f = np.zeros(data.shape[0]), np.zeros(data.shape[0]), np.zeros(data.shape[0])\n",
    "    preds_x, preds_y = 0, 0\n",
    "    preds_f_arr = np.zeros((test_data.shape[0], N_SPLITS))\n",
    "\n",
    "    # Grid search for best params\n",
    "    X_train = data.iloc[:, :-4]\n",
    "    y_trainx = data.iloc[:, -4]\n",
    "    y_trainy = data.iloc[:, -3]\n",
    "    y_trainf = data.iloc[:, -2]\n",
    "    print(\"vecor shapes X_train:\", X_train.shape)\n",
    "    print(\"vecor shapes y_trainx:\", y_trainx.shape)\n",
    "\n",
    "    parameters = {'n_estimators':(500, 1000, 5000), 'learning_rate':[0.001, 0.01, 0.1]}\n",
    "    modelx = xgb.XGBRegressor(**xgb_params)\n",
    "    g_modelx = GridSearchCV(modelx, parameters, cv=3, verbose = 4, scoring='neg_mean_absolute_error')   \n",
    "    print(\"fitting grid search...\")\n",
    "    g_modelx.fit(X_train, y_trainx)\n",
    "    print(\"best params: \", g_modelx.best_params_)\n",
    "    \n",
    "    kf = KFold(n_splits=N_SPLITS, shuffle=True, random_state=SEED)\n",
    "    for fold, (trn_idx, val_idx) in enumerate(kf.split(data.iloc[:, :-4])):\n",
    "        X_train = data.iloc[trn_idx, :-4]\n",
    "        y_trainx = data.iloc[trn_idx, -4]\n",
    "        y_trainy = data.iloc[trn_idx, -3]\n",
    "        y_trainf = data.iloc[trn_idx, -2]\n",
    "\n",
    "        X_valid = data.iloc[val_idx, :-4]\n",
    "        y_validx = data.iloc[val_idx, -4]\n",
    "        y_validy = data.iloc[val_idx, -3]\n",
    "        y_validf = data.iloc[val_idx, -2]\n",
    "\n",
    "        # modelx = lgb.LGBMRegressor(**lgb_params)\n",
    "        modelx = xgb.XGBRegressor(**xgb_params)\n",
    "        with timer(\"fit X\"):\n",
    "            modelx.fit(X_train, y_trainx,\n",
    "                       eval_set=[(X_valid, y_validx)],\n",
    "                       eval_metric='rmse',\n",
    "                       verbose=False,\n",
    "                       early_stopping_rounds=20\n",
    "                      )\n",
    "\n",
    "        # modely = lgb.LGBMRegressor(**lgb_params)\n",
    "        modely = xgb.XGBRegressor(**xgb_params)\n",
    "        with timer(\"fit Y\"):\n",
    "            modely.fit(X_train, y_trainy,\n",
    "                       eval_set=[(X_valid, y_validy)],\n",
    "                       eval_metric='rmse',\n",
    "                       verbose=False,\n",
    "                       early_stopping_rounds=20\n",
    "                       )\n",
    "\n",
    "        # modelf = lgb.LGBMClassifier(**lgb_f_params)\n",
    "        # remove param eval_metric='multi_logloss', for xgb\n",
    "        modelf = xgb.XGBClassifier(**xgb_f_params)\n",
    "        with timer(\"fit F\"):\n",
    "            modelf.fit(X_train, y_trainf,\n",
    "                       eval_set=[(X_valid, y_validf)],\n",
    "                       eval_metric='mlogloss', #for xgboot\n",
    "                       verbose=False,\n",
    "                       early_stopping_rounds=20\n",
    "                       )\n",
    "\n",
    "        oof_x[val_idx] = modelx.predict(X_valid)\n",
    "        oof_y[val_idx] = modely.predict(X_valid)\n",
    "        oof_f[val_idx] = modelf.predict(X_valid).astype(int)\n",
    "        \n",
    "        with timer(\"Pred X\"):\n",
    "            preds_x += modelx.predict(test_data.iloc[:, :-1]) / N_SPLITS\n",
    "            \n",
    "        with timer(\"Pred Y\"):\n",
    "            preds_y += modely.predict(test_data.iloc[:, :-1]) / N_SPLITS\n",
    "        \n",
    "        with timer(\"Pred F\"):\n",
    "            preds_f_arr[:, fold] = modelf.predict(test_data.iloc[:, :-1]).astype(int)\n",
    "\n",
    "        score = comp_metric(oof_x[val_idx], oof_y[val_idx], oof_f[val_idx],\n",
    "                            y_validx.to_numpy(), y_validy.to_numpy(), y_validf.to_numpy())\n",
    "        print(f\"fold {fold}: mean position error {score}\")\n",
    "        score_df = score_log(score_df, n_files, os.path.basename(file), data.shape, fold, SEED, score)\n",
    "        break\n",
    "\n",
    "    print(\"*+\"*40)\n",
    "    print(f\"file #{n_files}, shape={data.shape}, name={os.path.basename(file)}\")\n",
    "    score = comp_metric(oof_x, oof_y, oof_f,\n",
    "                        data.iloc[:, -4].to_numpy(), data.iloc[:, -3].to_numpy(), data.iloc[:, -2].to_numpy())\n",
    "    oof.append(score)\n",
    "    print(f\"mean position error {score}\")\n",
    "    print(\"*+\"*40)\n",
    "    score_df = score_log(score_df, n_files, os.path.basename(file), data.shape, 999, SEED, score)\n",
    "\n",
    "    preds_f_mode = stats.mode(preds_f_arr, axis=1)\n",
    "    preds_f = preds_f_mode[0].astype(int).reshape(-1)\n",
    "    test_preds = pd.DataFrame(np.stack((preds_f, preds_x, preds_y))).T\n",
    "    test_preds.columns = subm.columns\n",
    "    test_preds.index = test_data[\"site_path_timestamp\"]\n",
    "    test_preds[\"floor\"] = test_preds[\"floor\"].astype(int)\n",
    "    predictions.append(test_preds)\n",
    "    break\n",
    "# ------------------------------------------------------------------------------\n",
    "# Submit the result\n",
    "# ------------------------------------------------------------------------------\n",
    "all_preds = pd.concat(predictions)\n",
    "all_preds = all_preds.reindex(subm.index)\n",
    "all_preds.to_csv('submission.csv')"
   ]
  },
  {
   "cell_type": "code",
   "execution_count": 4,
   "metadata": {},
   "outputs": [
    {
     "name": "stdout",
     "output_type": "stream",
     "text": [
      "There are 24 *_train.csv files\n",
      "There are 24 *_test.csv files\n",
      "process training set for site file num 0\n",
      "process testing set for site file num 0\n"
     ]
    },
    {
     "name": "stderr",
     "output_type": "stream",
     "text": [
      "[0.6GB(+0.0GB): 7.356sec] fit X\n",
      "[0.6GB(+0.0GB): 5.797sec] fit Y\n",
      "[0.6GB(+0.0GB): 3.432sec] fit F\n",
      "[0.6GB(+0.0GB): 0.057sec] Pred X\n",
      "[0.6GB(+0.0GB): 0.043sec] Pred Y\n",
      "[0.6GB(+0.0GB): 0.098sec] Pred F\n"
     ]
    },
    {
     "name": "stdout",
     "output_type": "stream",
     "text": [
      "fold 0: mean position error 4.341721580040812\n"
     ]
    },
    {
     "name": "stderr",
     "output_type": "stream",
     "text": [
      "[0.6GB(+0.0GB): 6.546sec] fit X\n",
      "[0.6GB(+0.0GB): 5.585sec] fit Y\n",
      "[0.6GB(+0.0GB): 3.267sec] fit F\n",
      "[0.6GB(+0.0GB): 0.050sec] Pred X\n",
      "[0.6GB(+0.0GB): 0.059sec] Pred Y\n",
      "[0.6GB(+0.0GB): 0.043sec] Pred F\n"
     ]
    },
    {
     "name": "stdout",
     "output_type": "stream",
     "text": [
      "fold 1: mean position error 4.3119889918106615\n"
     ]
    },
    {
     "name": "stderr",
     "output_type": "stream",
     "text": [
      "[0.6GB(+0.0GB): 7.193sec] fit X\n",
      "[0.6GB(+0.0GB): 5.927sec] fit Y\n",
      "[0.6GB(-0.0GB): 3.343sec] fit F\n",
      "[0.6GB(+0.0GB): 0.091sec] Pred X\n",
      "[0.6GB(+0.0GB): 0.059sec] Pred Y\n",
      "[0.6GB(+0.0GB): 0.060sec] Pred F\n"
     ]
    },
    {
     "name": "stdout",
     "output_type": "stream",
     "text": [
      "fold 2: mean position error 4.709393798161086\n"
     ]
    },
    {
     "name": "stderr",
     "output_type": "stream",
     "text": [
      "[0.6GB(+0.0GB): 6.604sec] fit X\n",
      "[0.6GB(+0.0GB): 5.600sec] fit Y\n",
      "[0.6GB(+0.0GB): 3.434sec] fit F\n",
      "[0.6GB(+0.0GB): 0.042sec] Pred X\n",
      "[0.6GB(+0.0GB): 0.057sec] Pred Y\n",
      "[0.6GB(+0.0GB): 0.043sec] Pred F\n"
     ]
    },
    {
     "name": "stdout",
     "output_type": "stream",
     "text": [
      "fold 3: mean position error 4.167429642600246\n"
     ]
    },
    {
     "name": "stderr",
     "output_type": "stream",
     "text": [
      "[0.6GB(+0.0GB): 6.219sec] fit X\n",
      "[0.6GB(+0.0GB): 5.796sec] fit Y\n",
      "[0.6GB(+0.0GB): 3.269sec] fit F\n",
      "[0.6GB(+0.0GB): 0.043sec] Pred X\n",
      "[0.6GB(+0.0GB): 0.044sec] Pred Y\n",
      "[0.6GB(+0.0GB): 0.053sec] Pred F\n"
     ]
    },
    {
     "name": "stdout",
     "output_type": "stream",
     "text": [
      "fold 4: mean position error 4.013380457754268\n"
     ]
    },
    {
     "name": "stderr",
     "output_type": "stream",
     "text": [
      "[0.6GB(+0.0GB): 6.392sec] fit X\n",
      "[0.6GB(+0.0GB): 5.597sec] fit Y\n",
      "[0.6GB(-0.0GB): 3.776sec] fit F\n",
      "[0.6GB(+0.0GB): 0.045sec] Pred X\n",
      "[0.6GB(+0.0GB): 0.046sec] Pred Y\n",
      "[0.6GB(+0.0GB): 0.044sec] Pred F\n"
     ]
    },
    {
     "name": "stdout",
     "output_type": "stream",
     "text": [
      "fold 5: mean position error 3.966348105621509\n"
     ]
    },
    {
     "name": "stderr",
     "output_type": "stream",
     "text": [
      "[0.6GB(-0.0GB): 6.994sec] fit X\n",
      "[0.6GB(+0.0GB): 6.035sec] fit Y\n",
      "[0.6GB(+0.0GB): 3.554sec] fit F\n",
      "[0.6GB(+0.0GB): 0.045sec] Pred X\n",
      "[0.6GB(+0.0GB): 0.047sec] Pred Y\n",
      "[0.6GB(+0.0GB): 0.048sec] Pred F\n"
     ]
    },
    {
     "name": "stdout",
     "output_type": "stream",
     "text": [
      "fold 6: mean position error 4.350793379851421\n"
     ]
    },
    {
     "name": "stderr",
     "output_type": "stream",
     "text": [
      "[0.6GB(-0.0GB): 7.501sec] fit X\n",
      "[0.6GB(+0.0GB): 5.892sec] fit Y\n",
      "[0.6GB(-0.0GB): 3.333sec] fit F\n",
      "[0.6GB(+0.0GB): 0.041sec] Pred X\n",
      "[0.6GB(+0.0GB): 0.043sec] Pred Y\n",
      "[0.6GB(+0.0GB): 0.057sec] Pred F\n"
     ]
    },
    {
     "name": "stdout",
     "output_type": "stream",
     "text": [
      "fold 7: mean position error 3.927947095987786\n"
     ]
    },
    {
     "name": "stderr",
     "output_type": "stream",
     "text": [
      "[0.6GB(+0.0GB): 6.491sec] fit X\n",
      "[0.6GB(+0.0GB): 5.414sec] fit Y\n",
      "[0.6GB(+0.0GB): 3.277sec] fit F\n",
      "[0.6GB(+0.0GB): 0.042sec] Pred X\n",
      "[0.6GB(+0.0GB): 0.044sec] Pred Y\n",
      "[0.6GB(+0.0GB): 0.052sec] Pred F\n"
     ]
    },
    {
     "name": "stdout",
     "output_type": "stream",
     "text": [
      "fold 8: mean position error 4.273262148387324\n"
     ]
    },
    {
     "name": "stderr",
     "output_type": "stream",
     "text": [
      "[0.6GB(+0.0GB): 6.603sec] fit X\n",
      "[0.6GB(+0.0GB): 5.390sec] fit Y\n",
      "[0.6GB(+0.0GB): 3.272sec] fit F\n",
      "[0.6GB(+0.0GB): 0.047sec] Pred X\n",
      "[0.6GB(+0.0GB): 0.093sec] Pred Y\n",
      "[0.6GB(+0.0GB): 0.031sec] Pred F\n"
     ]
    },
    {
     "name": "stdout",
     "output_type": "stream",
     "text": [
      "fold 9: mean position error 4.02349271349129\n",
      "*+*+*+*+*+*+*+*+*+*+*+*+*+*+*+*+*+*+*+*+*+*+*+*+*+*+*+*+*+*+*+*+*+*+*+*+*+*+*+*+\n",
      "file #0, shape=(9296, 3401), name=5a0546857ecc773753327266_train.csv\n",
      "mean position error 4.208603632143851\n",
      "*+*+*+*+*+*+*+*+*+*+*+*+*+*+*+*+*+*+*+*+*+*+*+*+*+*+*+*+*+*+*+*+*+*+*+*+*+*+*+*+\n",
      "process training set for site file num 1\n",
      "process testing set for site file num 1\n"
     ]
    },
    {
     "name": "stderr",
     "output_type": "stream",
     "text": [
      "[0.8GB(+0.0GB): 5.228sec] fit X\n",
      "[0.8GB(+0.0GB): 5.571sec] fit Y\n",
      "[0.8GB(+0.0GB): 3.681sec] fit F\n",
      "[0.8GB(+0.0GB): 0.031sec] Pred X\n",
      "[0.8GB(+0.0GB): 0.031sec] Pred Y\n",
      "[0.8GB(+0.0GB): 0.031sec] Pred F\n"
     ]
    },
    {
     "name": "stdout",
     "output_type": "stream",
     "text": [
      "fold 0: mean position error 5.447359283413091\n"
     ]
    },
    {
     "name": "stderr",
     "output_type": "stream",
     "text": [
      "[0.8GB(+0.0GB): 5.285sec] fit X\n",
      "[0.8GB(+0.0GB): 5.338sec] fit Y\n",
      "[0.8GB(+0.0GB): 3.403sec] fit F\n",
      "[0.8GB(+0.0GB): 0.029sec] Pred X\n",
      "[0.8GB(+0.0GB): 0.030sec] Pred Y\n",
      "[0.8GB(+0.0GB): 0.030sec] Pred F\n"
     ]
    },
    {
     "name": "stdout",
     "output_type": "stream",
     "text": [
      "fold 1: mean position error 5.41676870044797\n"
     ]
    },
    {
     "name": "stderr",
     "output_type": "stream",
     "text": [
      "[0.8GB(+0.0GB): 5.348sec] fit X\n",
      "[0.8GB(-0.0GB): 5.468sec] fit Y\n",
      "[0.8GB(+0.0GB): 3.318sec] fit F\n",
      "[0.8GB(+0.0GB): 0.016sec] Pred X\n",
      "[0.8GB(+0.0GB): 0.041sec] Pred Y\n",
      "[0.8GB(+0.0GB): 0.039sec] Pred F\n"
     ]
    },
    {
     "name": "stdout",
     "output_type": "stream",
     "text": [
      "fold 2: mean position error 6.197869209063234\n"
     ]
    },
    {
     "name": "stderr",
     "output_type": "stream",
     "text": [
      "[0.8GB(+0.0GB): 5.259sec] fit X\n",
      "[0.8GB(+0.0GB): 5.716sec] fit Y\n",
      "[0.8GB(+0.0GB): 3.536sec] fit F\n",
      "[0.8GB(+0.0GB): 0.031sec] Pred X\n",
      "[0.8GB(+0.0GB): 0.047sec] Pred Y\n",
      "[0.8GB(+0.0GB): 0.040sec] Pred F\n"
     ]
    },
    {
     "name": "stdout",
     "output_type": "stream",
     "text": [
      "fold 3: mean position error 5.9108375517399425\n"
     ]
    },
    {
     "name": "stderr",
     "output_type": "stream",
     "text": [
      "[0.8GB(+0.0GB): 5.301sec] fit X\n",
      "[0.8GB(-0.0GB): 5.486sec] fit Y\n",
      "[0.8GB(+0.0GB): 3.804sec] fit F\n",
      "[0.8GB(+0.0GB): 0.031sec] Pred X\n",
      "[0.8GB(+0.0GB): 0.031sec] Pred Y\n",
      "[0.8GB(+0.0GB): 0.031sec] Pred F\n"
     ]
    },
    {
     "name": "stdout",
     "output_type": "stream",
     "text": [
      "fold 4: mean position error 5.338236091198372\n"
     ]
    },
    {
     "name": "stderr",
     "output_type": "stream",
     "text": [
      "[0.8GB(+0.0GB): 4.868sec] fit X\n",
      "[0.8GB(+0.0GB): 5.451sec] fit Y\n",
      "[0.8GB(+0.0GB): 3.456sec] fit F\n",
      "[0.8GB(+0.0GB): 0.031sec] Pred X\n",
      "[0.8GB(+0.0GB): 0.031sec] Pred Y\n",
      "[0.8GB(+0.0GB): 0.043sec] Pred F\n"
     ]
    },
    {
     "name": "stdout",
     "output_type": "stream",
     "text": [
      "fold 5: mean position error 5.934516221393466\n"
     ]
    },
    {
     "name": "stderr",
     "output_type": "stream",
     "text": [
      "[0.8GB(+0.0GB): 5.333sec] fit X\n",
      "[0.8GB(-0.0GB): 5.564sec] fit Y\n",
      "[0.8GB(+0.0GB): 3.576sec] fit F\n",
      "[0.8GB(+0.0GB): 0.028sec] Pred X\n",
      "[0.8GB(+0.0GB): 0.030sec] Pred Y\n",
      "[0.8GB(+0.0GB): 0.038sec] Pred F\n"
     ]
    },
    {
     "name": "stdout",
     "output_type": "stream",
     "text": [
      "fold 6: mean position error 5.17289197666816\n"
     ]
    },
    {
     "name": "stderr",
     "output_type": "stream",
     "text": [
      "[0.8GB(+0.0GB): 5.305sec] fit X\n",
      "[0.8GB(+0.0GB): 5.748sec] fit Y\n",
      "[0.8GB(+0.0GB): 3.699sec] fit F\n",
      "[0.8GB(+0.0GB): 0.031sec] Pred X\n",
      "[0.8GB(+0.0GB): 0.031sec] Pred Y\n",
      "[0.8GB(+0.0GB): 0.037sec] Pred F\n"
     ]
    },
    {
     "name": "stdout",
     "output_type": "stream",
     "text": [
      "fold 7: mean position error 5.893106420290696\n"
     ]
    },
    {
     "name": "stderr",
     "output_type": "stream",
     "text": [
      "[0.8GB(+0.0GB): 5.242sec] fit X\n",
      "[0.8GB(+0.0GB): 5.697sec] fit Y\n",
      "[0.8GB(+0.0GB): 3.528sec] fit F\n",
      "[0.8GB(+0.0GB): 0.031sec] Pred X\n",
      "[0.8GB(+0.0GB): 0.031sec] Pred Y\n",
      "[0.8GB(+0.0GB): 0.042sec] Pred F\n"
     ]
    },
    {
     "name": "stdout",
     "output_type": "stream",
     "text": [
      "fold 8: mean position error 5.571545133392562\n"
     ]
    },
    {
     "name": "stderr",
     "output_type": "stream",
     "text": [
      "[0.8GB(+0.0GB): 5.362sec] fit X\n",
      "[0.8GB(+0.0GB): 5.973sec] fit Y\n",
      "[0.8GB(+0.0GB): 3.630sec] fit F\n",
      "[0.8GB(+0.0GB): 0.016sec] Pred X\n",
      "[0.8GB(+0.0GB): 0.031sec] Pred Y\n",
      "[0.8GB(+0.0GB): 0.031sec] Pred F\n"
     ]
    },
    {
     "name": "stdout",
     "output_type": "stream",
     "text": [
      "fold 9: mean position error 5.748767795482128\n",
      "*+*+*+*+*+*+*+*+*+*+*+*+*+*+*+*+*+*+*+*+*+*+*+*+*+*+*+*+*+*+*+*+*+*+*+*+*+*+*+*+\n",
      "file #1, shape=(9737, 3067), name=5c3c44b80379370013e0fd2b_train.csv\n",
      "mean position error 5.663166848698791\n",
      "*+*+*+*+*+*+*+*+*+*+*+*+*+*+*+*+*+*+*+*+*+*+*+*+*+*+*+*+*+*+*+*+*+*+*+*+*+*+*+*+\n",
      "process training set for site file num 2\n",
      "process testing set for site file num 2\n"
     ]
    },
    {
     "name": "stderr",
     "output_type": "stream",
     "text": [
      "[2.1GB(+0.4GB): 78.554sec] fit X\n",
      "[2.0GB(-0.1GB): 30.115sec] fit Y\n",
      "[1.9GB(-0.1GB): 30.062sec] fit F\n",
      "[1.9GB(+0.0GB): 9.194sec] Pred X\n",
      "[1.9GB(+0.0GB): 0.193sec] Pred Y\n",
      "[1.9GB(+0.0GB): 0.797sec] Pred F\n"
     ]
    },
    {
     "name": "stdout",
     "output_type": "stream",
     "text": [
      "fold 0: mean position error 4.548465836537034\n"
     ]
    },
    {
     "name": "stderr",
     "output_type": "stream",
     "text": [
      "[1.3GB(-0.3GB): 100.361sec] fit X\n",
      "[1.3GB(+0.0GB): 37.342sec] fit Y\n",
      "[1.2GB(-0.1GB): 31.717sec] fit F\n",
      "[1.3GB(+0.0GB): 5.097sec] Pred X\n",
      "[1.3GB(+0.0GB): 0.109sec] Pred Y\n",
      "[1.3GB(+0.0GB): 0.724sec] Pred F\n"
     ]
    },
    {
     "name": "stdout",
     "output_type": "stream",
     "text": [
      "fold 1: mean position error 4.350925927766909\n"
     ]
    },
    {
     "name": "stderr",
     "output_type": "stream",
     "text": [
      "[1.3GB(-0.3GB): 54.228sec] fit X\n",
      "[1.2GB(-0.1GB): 30.032sec] fit Y\n",
      "[1.2GB(-0.1GB): 26.965sec] fit F\n",
      "[1.3GB(+0.0GB): 0.875sec] Pred X\n",
      "[1.3GB(+0.0GB): 0.062sec] Pred Y\n",
      "[1.3GB(+0.0GB): 0.094sec] Pred F\n"
     ]
    },
    {
     "name": "stdout",
     "output_type": "stream",
     "text": [
      "fold 2: mean position error 4.520585879217464\n"
     ]
    },
    {
     "name": "stderr",
     "output_type": "stream",
     "text": [
      "[1.3GB(-0.6GB): 63.418sec] fit X\n",
      "[1.2GB(-0.0GB): 32.581sec] fit Y\n",
      "[1.2GB(+0.0GB): 26.574sec] fit F\n",
      "[1.3GB(+0.0GB): 0.797sec] Pred X\n",
      "[1.3GB(+0.0GB): 0.078sec] Pred Y\n",
      "[1.3GB(+0.0GB): 0.062sec] Pred F\n"
     ]
    },
    {
     "name": "stdout",
     "output_type": "stream",
     "text": [
      "fold 3: mean position error 4.5472705033668\n"
     ]
    },
    {
     "name": "stderr",
     "output_type": "stream",
     "text": [
      "[1.7GB(-0.4GB): 40.556sec] fit X\n",
      "[1.7GB(-0.0GB): 28.248sec] fit Y\n",
      "[1.5GB(-0.1GB): 23.414sec] fit F\n",
      "[1.5GB(+0.0GB): 0.312sec] Pred X\n",
      "[1.5GB(+0.0GB): 0.062sec] Pred Y\n",
      "[1.5GB(+0.0GB): 0.078sec] Pred F\n"
     ]
    },
    {
     "name": "stdout",
     "output_type": "stream",
     "text": [
      "fold 4: mean position error 4.626702045325827\n"
     ]
    },
    {
     "name": "stderr",
     "output_type": "stream",
     "text": [
      "[2.0GB(-0.5GB): 39.907sec] fit X\n",
      "[1.8GB(-0.1GB): 27.049sec] fit Y\n",
      "[1.8GB(+0.0GB): 22.446sec] fit F\n",
      "[1.9GB(+0.0GB): 0.172sec] Pred X\n",
      "[1.9GB(+0.0GB): 0.094sec] Pred Y\n",
      "[1.9GB(+0.0GB): 0.063sec] Pred F\n"
     ]
    },
    {
     "name": "stdout",
     "output_type": "stream",
     "text": [
      "fold 5: mean position error 4.522052784826926\n"
     ]
    },
    {
     "name": "stderr",
     "output_type": "stream",
     "text": [
      "[1.0GB(-1.0GB): 58.651sec] fit X\n",
      "[1.1GB(+0.1GB): 27.865sec] fit Y\n",
      "[1.1GB(+0.0GB): 20.061sec] fit F\n",
      "[1.3GB(+0.0GB): 0.688sec] Pred X\n",
      "[1.3GB(+0.0GB): 0.062sec] Pred Y\n",
      "[1.3GB(+0.0GB): 0.078sec] Pred F\n"
     ]
    },
    {
     "name": "stdout",
     "output_type": "stream",
     "text": [
      "fold 6: mean position error 4.390218419157059\n"
     ]
    },
    {
     "name": "stderr",
     "output_type": "stream",
     "text": [
      "[2.5GB(+0.0GB): 42.863sec] fit X\n",
      "[2.5GB(+0.0GB): 27.222sec] fit Y\n",
      "[2.5GB(+0.0GB): 23.934sec] fit F\n",
      "[2.5GB(+0.0GB): 0.297sec] Pred X\n",
      "[2.5GB(+0.0GB): 0.062sec] Pred Y\n",
      "[2.5GB(+0.0GB): 0.078sec] Pred F\n"
     ]
    },
    {
     "name": "stdout",
     "output_type": "stream",
     "text": [
      "fold 7: mean position error 4.570959973470725\n"
     ]
    },
    {
     "name": "stderr",
     "output_type": "stream",
     "text": [
      "[1.3GB(-1.2GB): 40.974sec] fit X\n",
      "[1.3GB(+0.0GB): 27.693sec] fit Y\n",
      "[1.3GB(+0.0GB): 22.299sec] fit F\n",
      "[1.5GB(+0.0GB): 1.265sec] Pred X\n",
      "[1.5GB(+0.0GB): 0.078sec] Pred Y\n",
      "[1.5GB(+0.0GB): 0.297sec] Pred F\n"
     ]
    },
    {
     "name": "stdout",
     "output_type": "stream",
     "text": [
      "fold 8: mean position error 4.401434415974037\n"
     ]
    },
    {
     "name": "stderr",
     "output_type": "stream",
     "text": [
      "[1.6GB(-0.0GB): 44.817sec] fit X\n",
      "[1.6GB(+0.0GB): 28.449sec] fit Y\n",
      "[1.6GB(+0.0GB): 29.813sec] fit F\n",
      "[1.6GB(+0.0GB): 0.536sec] Pred X\n",
      "[1.6GB(+0.0GB): 0.066sec] Pred Y\n",
      "[1.6GB(+0.0GB): 0.071sec] Pred F\n"
     ]
    },
    {
     "name": "stdout",
     "output_type": "stream",
     "text": [
      "fold 9: mean position error 4.336034007298041\n",
      "*+*+*+*+*+*+*+*+*+*+*+*+*+*+*+*+*+*+*+*+*+*+*+*+*+*+*+*+*+*+*+*+*+*+*+*+*+*+*+*+\n",
      "file #2, shape=(23666, 7033), name=5d27075f03f801723c2e360f_train.csv\n",
      "mean position error 4.481474580118102\n",
      "*+*+*+*+*+*+*+*+*+*+*+*+*+*+*+*+*+*+*+*+*+*+*+*+*+*+*+*+*+*+*+*+*+*+*+*+*+*+*+*+\n",
      "process training set for site file num 3\n",
      "process testing set for site file num 3\n"
     ]
    },
    {
     "name": "stderr",
     "output_type": "stream",
     "text": [
      "[0.8GB(+0.0GB): 5.171sec] fit X\n",
      "[0.8GB(+0.0GB): 4.263sec] fit Y\n",
      "[0.8GB(+0.0GB): 2.273sec] fit F\n",
      "[0.8GB(+0.0GB): 0.152sec] Pred X\n",
      "[0.8GB(+0.0GB): 0.078sec] Pred Y\n",
      "[0.8GB(+0.0GB): 0.109sec] Pred F\n"
     ]
    },
    {
     "name": "stdout",
     "output_type": "stream",
     "text": [
      "fold 0: mean position error 3.1061347611806793\n"
     ]
    },
    {
     "name": "stderr",
     "output_type": "stream",
     "text": [
      "[0.8GB(+0.0GB): 4.280sec] fit X\n",
      "[0.8GB(+0.0GB): 4.020sec] fit Y\n",
      "[0.8GB(+0.0GB): 1.991sec] fit F\n",
      "[0.8GB(+0.0GB): 0.092sec] Pred X\n",
      "[0.8GB(+0.0GB): 0.079sec] Pred Y\n",
      "[0.8GB(+0.0GB): 0.078sec] Pred F\n"
     ]
    },
    {
     "name": "stdout",
     "output_type": "stream",
     "text": [
      "fold 1: mean position error 3.039198037181742\n"
     ]
    },
    {
     "name": "stderr",
     "output_type": "stream",
     "text": [
      "[0.8GB(+0.0GB): 4.390sec] fit X\n",
      "[0.8GB(+0.0GB): 4.097sec] fit Y\n",
      "[0.8GB(+0.0GB): 2.064sec] fit F\n",
      "[0.8GB(+0.0GB): 0.097sec] Pred X\n",
      "[0.8GB(+0.0GB): 0.078sec] Pred Y\n",
      "[0.8GB(+0.0GB): 0.078sec] Pred F\n"
     ]
    },
    {
     "name": "stdout",
     "output_type": "stream",
     "text": [
      "fold 2: mean position error 2.991386003228925\n"
     ]
    },
    {
     "name": "stderr",
     "output_type": "stream",
     "text": [
      "[0.8GB(+0.0GB): 4.146sec] fit X\n",
      "[0.8GB(+0.0GB): 4.043sec] fit Y\n",
      "[0.8GB(+0.0GB): 2.028sec] fit F\n",
      "[0.8GB(+0.0GB): 0.077sec] Pred X\n",
      "[0.8GB(+0.0GB): 0.078sec] Pred Y\n",
      "[0.8GB(+0.0GB): 0.078sec] Pred F\n"
     ]
    },
    {
     "name": "stdout",
     "output_type": "stream",
     "text": [
      "fold 3: mean position error 2.998145700704871\n"
     ]
    },
    {
     "name": "stderr",
     "output_type": "stream",
     "text": [
      "[0.8GB(+0.0GB): 4.296sec] fit X\n",
      "[0.8GB(+0.0GB): 4.150sec] fit Y\n",
      "[0.8GB(+0.0GB): 1.980sec] fit F\n",
      "[0.8GB(+0.0GB): 0.075sec] Pred X\n",
      "[0.8GB(+0.0GB): 0.078sec] Pred Y\n",
      "[0.8GB(+0.0GB): 0.094sec] Pred F\n"
     ]
    },
    {
     "name": "stdout",
     "output_type": "stream",
     "text": [
      "fold 4: mean position error 3.1370770642771317\n"
     ]
    },
    {
     "name": "stderr",
     "output_type": "stream",
     "text": [
      "[0.8GB(+0.0GB): 4.206sec] fit X\n",
      "[0.8GB(+0.0GB): 4.124sec] fit Y\n",
      "[0.8GB(+0.0GB): 1.979sec] fit F\n",
      "[0.8GB(+0.0GB): 0.078sec] Pred X\n",
      "[0.8GB(+0.0GB): 0.078sec] Pred Y\n",
      "[0.8GB(+0.0GB): 0.078sec] Pred F\n"
     ]
    },
    {
     "name": "stdout",
     "output_type": "stream",
     "text": [
      "fold 5: mean position error 3.189082597553665\n"
     ]
    },
    {
     "name": "stderr",
     "output_type": "stream",
     "text": [
      "[0.8GB(+0.0GB): 4.139sec] fit X\n",
      "[0.8GB(+0.0GB): 4.129sec] fit Y\n",
      "[0.8GB(+0.0GB): 2.000sec] fit F\n",
      "[0.8GB(+0.0GB): 0.092sec] Pred X\n",
      "[0.8GB(+0.0GB): 0.080sec] Pred Y\n",
      "[0.8GB(+0.0GB): 0.078sec] Pred F\n"
     ]
    },
    {
     "name": "stdout",
     "output_type": "stream",
     "text": [
      "fold 6: mean position error 2.887131753179466\n"
     ]
    },
    {
     "name": "stderr",
     "output_type": "stream",
     "text": [
      "[0.8GB(+0.0GB): 4.280sec] fit X\n",
      "[0.8GB(+0.0GB): 4.207sec] fit Y\n",
      "[0.8GB(+0.0GB): 2.014sec] fit F\n",
      "[0.8GB(+0.0GB): 0.083sec] Pred X\n",
      "[0.8GB(+0.0GB): 0.078sec] Pred Y\n",
      "[0.8GB(+0.0GB): 0.078sec] Pred F\n"
     ]
    },
    {
     "name": "stdout",
     "output_type": "stream",
     "text": [
      "fold 7: mean position error 3.1176572885419875\n"
     ]
    },
    {
     "name": "stderr",
     "output_type": "stream",
     "text": [
      "[0.8GB(+0.0GB): 4.186sec] fit X\n",
      "[0.8GB(+0.0GB): 4.338sec] fit Y\n",
      "[0.8GB(+0.0GB): 2.141sec] fit F\n",
      "[0.8GB(+0.0GB): 0.097sec] Pred X\n",
      "[0.8GB(+0.0GB): 0.094sec] Pred Y\n",
      "[0.8GB(+0.0GB): 0.109sec] Pred F\n"
     ]
    },
    {
     "name": "stdout",
     "output_type": "stream",
     "text": [
      "fold 8: mean position error 3.435922616064225\n"
     ]
    },
    {
     "name": "stderr",
     "output_type": "stream",
     "text": [
      "[0.8GB(+0.0GB): 4.471sec] fit X\n",
      "[0.8GB(+0.0GB): 4.092sec] fit Y\n",
      "[0.8GB(+0.0GB): 2.115sec] fit F\n",
      "[0.8GB(+0.0GB): 0.069sec] Pred X\n",
      "[0.8GB(+0.0GB): 0.094sec] Pred Y\n",
      "[0.8GB(+0.0GB): 0.078sec] Pred F\n"
     ]
    },
    {
     "name": "stdout",
     "output_type": "stream",
     "text": [
      "fold 9: mean position error 3.312929444281586\n",
      "*+*+*+*+*+*+*+*+*+*+*+*+*+*+*+*+*+*+*+*+*+*+*+*+*+*+*+*+*+*+*+*+*+*+*+*+*+*+*+*+\n",
      "file #3, shape=(9100, 4968), name=5d27096c03f801723c31e5e0_train.csv\n",
      "mean position error 3.1214665266194275\n",
      "*+*+*+*+*+*+*+*+*+*+*+*+*+*+*+*+*+*+*+*+*+*+*+*+*+*+*+*+*+*+*+*+*+*+*+*+*+*+*+*+\n",
      "process training set for site file num 4\n",
      "process testing set for site file num 4\n"
     ]
    },
    {
     "name": "stderr",
     "output_type": "stream",
     "text": [
      "[0.9GB(+0.0GB): 4.140sec] fit X\n",
      "[0.9GB(+0.0GB): 3.661sec] fit Y\n",
      "[0.9GB(+0.0GB): 2.041sec] fit F\n",
      "[0.9GB(+0.0GB): 0.031sec] Pred X\n",
      "[0.9GB(+0.0GB): 0.031sec] Pred Y\n",
      "[0.9GB(+0.0GB): 0.043sec] Pred F\n"
     ]
    },
    {
     "name": "stdout",
     "output_type": "stream",
     "text": [
      "fold 0: mean position error 5.293726673977857\n"
     ]
    },
    {
     "name": "stderr",
     "output_type": "stream",
     "text": [
      "[0.9GB(+0.0GB): 3.985sec] fit X\n",
      "[0.9GB(+0.0GB): 3.631sec] fit Y\n",
      "[0.9GB(+0.0GB): 2.034sec] fit F\n",
      "[0.9GB(+0.0GB): 0.031sec] Pred X\n",
      "[0.9GB(+0.0GB): 0.031sec] Pred Y\n",
      "[0.9GB(+0.0GB): 0.041sec] Pred F\n"
     ]
    },
    {
     "name": "stdout",
     "output_type": "stream",
     "text": [
      "fold 1: mean position error 5.3414909225519835\n"
     ]
    },
    {
     "name": "stderr",
     "output_type": "stream",
     "text": [
      "[0.9GB(+0.0GB): 3.876sec] fit X\n",
      "[0.9GB(-0.0GB): 3.623sec] fit Y\n",
      "[0.9GB(+0.0GB): 2.100sec] fit F\n",
      "[0.9GB(+0.0GB): 0.031sec] Pred X\n",
      "[0.9GB(+0.0GB): 0.031sec] Pred Y\n",
      "[0.9GB(+0.0GB): 0.031sec] Pred F\n"
     ]
    },
    {
     "name": "stdout",
     "output_type": "stream",
     "text": [
      "fold 2: mean position error 4.993410827714296\n"
     ]
    },
    {
     "name": "stderr",
     "output_type": "stream",
     "text": [
      "[0.9GB(+0.0GB): 4.381sec] fit X\n",
      "[0.9GB(+0.0GB): 3.617sec] fit Y\n",
      "[0.9GB(+0.0GB): 2.023sec] fit F\n",
      "[0.9GB(+0.0GB): 0.031sec] Pred X\n",
      "[0.9GB(+0.0GB): 0.031sec] Pred Y\n",
      "[0.9GB(+0.0GB): 0.035sec] Pred F\n"
     ]
    },
    {
     "name": "stdout",
     "output_type": "stream",
     "text": [
      "fold 3: mean position error 5.179763566644889\n"
     ]
    },
    {
     "name": "stderr",
     "output_type": "stream",
     "text": [
      "[0.9GB(+0.0GB): 4.140sec] fit X\n",
      "[0.9GB(+0.0GB): 3.641sec] fit Y\n",
      "[0.9GB(+0.0GB): 2.065sec] fit F\n",
      "[0.9GB(+0.0GB): 0.031sec] Pred X\n",
      "[0.9GB(+0.0GB): 0.031sec] Pred Y\n",
      "[0.9GB(+0.0GB): 0.031sec] Pred F\n"
     ]
    },
    {
     "name": "stdout",
     "output_type": "stream",
     "text": [
      "fold 4: mean position error 4.86934994311109\n"
     ]
    },
    {
     "name": "stderr",
     "output_type": "stream",
     "text": [
      "[0.9GB(+0.0GB): 4.363sec] fit X\n",
      "[0.9GB(+0.0GB): 3.633sec] fit Y\n",
      "[0.9GB(+0.0GB): 2.071sec] fit F\n",
      "[0.9GB(+0.0GB): 0.031sec] Pred X\n",
      "[0.9GB(+0.0GB): 0.031sec] Pred Y\n",
      "[0.9GB(+0.0GB): 0.042sec] Pred F\n"
     ]
    },
    {
     "name": "stdout",
     "output_type": "stream",
     "text": [
      "fold 5: mean position error 4.931044425749654\n"
     ]
    },
    {
     "name": "stderr",
     "output_type": "stream",
     "text": [
      "[0.9GB(+0.0GB): 3.926sec] fit X\n",
      "[0.9GB(+0.0GB): 3.632sec] fit Y\n",
      "[0.9GB(+0.0GB): 2.026sec] fit F\n",
      "[0.9GB(+0.0GB): 0.031sec] Pred X\n",
      "[0.9GB(+0.0GB): 0.031sec] Pred Y\n",
      "[0.9GB(+0.0GB): 0.031sec] Pred F\n"
     ]
    },
    {
     "name": "stdout",
     "output_type": "stream",
     "text": [
      "fold 6: mean position error 5.080576259630065\n"
     ]
    },
    {
     "name": "stderr",
     "output_type": "stream",
     "text": [
      "[0.9GB(+0.0GB): 4.176sec] fit X\n",
      "[0.9GB(+0.0GB): 3.559sec] fit Y\n",
      "[0.9GB(+0.0GB): 2.080sec] fit F\n",
      "[0.9GB(+0.0GB): 0.031sec] Pred X\n",
      "[0.9GB(+0.0GB): 0.031sec] Pred Y\n",
      "[0.9GB(+0.0GB): 0.045sec] Pred F\n"
     ]
    },
    {
     "name": "stdout",
     "output_type": "stream",
     "text": [
      "fold 7: mean position error 5.1862999031374\n"
     ]
    },
    {
     "name": "stderr",
     "output_type": "stream",
     "text": [
      "[0.9GB(+0.0GB): 4.226sec] fit X\n",
      "[0.9GB(+0.0GB): 3.559sec] fit Y\n",
      "[0.9GB(+0.0GB): 2.050sec] fit F\n",
      "[0.9GB(+0.0GB): 0.031sec] Pred X\n",
      "[0.9GB(+0.0GB): 0.031sec] Pred Y\n",
      "[0.9GB(+0.0GB): 0.042sec] Pred F\n"
     ]
    },
    {
     "name": "stdout",
     "output_type": "stream",
     "text": [
      "fold 8: mean position error 5.408077192853317\n"
     ]
    },
    {
     "name": "stderr",
     "output_type": "stream",
     "text": [
      "[0.9GB(+0.0GB): 3.952sec] fit X\n",
      "[0.9GB(+0.0GB): 3.577sec] fit Y\n",
      "[0.9GB(+0.0GB): 2.080sec] fit F\n",
      "[0.9GB(+0.0GB): 0.031sec] Pred X\n",
      "[0.9GB(+0.0GB): 0.031sec] Pred Y\n",
      "[0.9GB(+0.0GB): 0.045sec] Pred F\n"
     ]
    },
    {
     "name": "stdout",
     "output_type": "stream",
     "text": [
      "fold 9: mean position error 4.80688506515131\n",
      "*+*+*+*+*+*+*+*+*+*+*+*+*+*+*+*+*+*+*+*+*+*+*+*+*+*+*+*+*+*+*+*+*+*+*+*+*+*+*+*+\n",
      "file #4, shape=(10507, 2494), name=5d27097f03f801723c320d97_train.csv\n",
      "mean position error 5.109055428016307\n",
      "*+*+*+*+*+*+*+*+*+*+*+*+*+*+*+*+*+*+*+*+*+*+*+*+*+*+*+*+*+*+*+*+*+*+*+*+*+*+*+*+\n",
      "process training set for site file num 5\n",
      "process testing set for site file num 5\n"
     ]
    },
    {
     "name": "stderr",
     "output_type": "stream",
     "text": [
      "[0.4GB(+0.0GB): 0.937sec] fit X\n",
      "[0.4GB(+0.0GB): 0.736sec] fit Y\n",
      "[0.4GB(+0.0GB): 0.230sec] fit F\n",
      "[0.4GB(+0.0GB): 0.000sec] Pred X\n",
      "[0.4GB(+0.0GB): 0.016sec] Pred Y\n",
      "[0.4GB(+0.0GB): 0.016sec] Pred F\n"
     ]
    },
    {
     "name": "stdout",
     "output_type": "stream",
     "text": [
      "fold 0: mean position error 2.7546298594721517\n"
     ]
    },
    {
     "name": "stderr",
     "output_type": "stream",
     "text": [
      "[0.4GB(+0.0GB): 1.190sec] fit X\n",
      "[0.4GB(+0.0GB): 0.708sec] fit Y\n",
      "[0.4GB(+0.0GB): 0.220sec] fit F\n",
      "[0.4GB(+0.0GB): 0.001sec] Pred X\n",
      "[0.4GB(+0.0GB): 0.016sec] Pred Y\n",
      "[0.4GB(+0.0GB): 0.016sec] Pred F\n"
     ]
    },
    {
     "name": "stdout",
     "output_type": "stream",
     "text": [
      "fold 1: mean position error 2.7620148218392075\n"
     ]
    },
    {
     "name": "stderr",
     "output_type": "stream",
     "text": [
      "[0.4GB(+0.0GB): 0.933sec] fit X\n",
      "[0.4GB(+0.0GB): 0.711sec] fit Y\n",
      "[0.4GB(+0.0GB): 0.220sec] fit F\n",
      "[0.4GB(+0.0GB): 0.005sec] Pred X\n",
      "[0.4GB(+0.0GB): 0.016sec] Pred Y\n",
      "[0.4GB(+0.0GB): 0.000sec] Pred F\n"
     ]
    },
    {
     "name": "stdout",
     "output_type": "stream",
     "text": [
      "fold 2: mean position error 2.850407556592039\n"
     ]
    },
    {
     "name": "stderr",
     "output_type": "stream",
     "text": [
      "[0.4GB(+0.0GB): 0.908sec] fit X\n",
      "[0.4GB(+0.0GB): 0.732sec] fit Y\n",
      "[0.4GB(+0.0GB): 0.232sec] fit F\n",
      "[0.4GB(+0.0GB): 0.010sec] Pred X\n",
      "[0.4GB(+0.0GB): 0.002sec] Pred Y\n",
      "[0.4GB(+0.0GB): 0.016sec] Pred F\n"
     ]
    },
    {
     "name": "stdout",
     "output_type": "stream",
     "text": [
      "fold 3: mean position error 3.102452371619787\n"
     ]
    },
    {
     "name": "stderr",
     "output_type": "stream",
     "text": [
      "[0.4GB(+0.0GB): 1.047sec] fit X\n",
      "[0.4GB(+0.0GB): 0.736sec] fit Y\n",
      "[0.4GB(+0.0GB): 0.237sec] fit F\n",
      "[0.4GB(+0.0GB): 0.004sec] Pred X\n",
      "[0.4GB(+0.0GB): 0.016sec] Pred Y\n",
      "[0.4GB(+0.0GB): 0.000sec] Pred F\n"
     ]
    },
    {
     "name": "stdout",
     "output_type": "stream",
     "text": [
      "fold 4: mean position error 3.063926796636525\n"
     ]
    },
    {
     "name": "stderr",
     "output_type": "stream",
     "text": [
      "[0.4GB(+0.0GB): 1.032sec] fit X\n",
      "[0.4GB(+0.0GB): 0.709sec] fit Y\n",
      "[0.4GB(+0.0GB): 0.229sec] fit F\n",
      "[0.4GB(+0.0GB): 0.011sec] Pred X\n",
      "[0.4GB(+0.0GB): 0.000sec] Pred Y\n",
      "[0.4GB(+0.0GB): 0.016sec] Pred F\n"
     ]
    },
    {
     "name": "stdout",
     "output_type": "stream",
     "text": [
      "fold 5: mean position error 3.2855159706536217\n"
     ]
    },
    {
     "name": "stderr",
     "output_type": "stream",
     "text": [
      "[0.4GB(+0.0GB): 0.960sec] fit X\n",
      "[0.4GB(+0.0GB): 0.710sec] fit Y\n",
      "[0.4GB(+0.0GB): 0.225sec] fit F\n",
      "[0.4GB(+0.0GB): 0.000sec] Pred X\n",
      "[0.4GB(+0.0GB): 0.016sec] Pred Y\n",
      "[0.4GB(+0.0GB): 0.016sec] Pred F\n"
     ]
    },
    {
     "name": "stdout",
     "output_type": "stream",
     "text": [
      "fold 6: mean position error 3.4127409234440096\n"
     ]
    },
    {
     "name": "stderr",
     "output_type": "stream",
     "text": [
      "[0.4GB(+0.0GB): 1.128sec] fit X\n",
      "[0.4GB(+0.0GB): 0.731sec] fit Y\n",
      "[0.4GB(+0.0GB): 0.231sec] fit F\n",
      "[0.4GB(+0.0GB): 0.016sec] Pred X\n",
      "[0.4GB(+0.0GB): 0.000sec] Pred Y\n",
      "[0.4GB(+0.0GB): 0.016sec] Pred F\n"
     ]
    },
    {
     "name": "stdout",
     "output_type": "stream",
     "text": [
      "fold 7: mean position error 2.8704911220707126\n"
     ]
    },
    {
     "name": "stderr",
     "output_type": "stream",
     "text": [
      "[0.4GB(+0.0GB): 1.053sec] fit X\n",
      "[0.4GB(+0.0GB): 0.739sec] fit Y\n",
      "[0.4GB(+0.0GB): 0.222sec] fit F\n",
      "[0.4GB(+0.0GB): 0.016sec] Pred X\n",
      "[0.4GB(+0.0GB): 0.016sec] Pred Y\n",
      "[0.4GB(+0.0GB): 0.000sec] Pred F\n"
     ]
    },
    {
     "name": "stdout",
     "output_type": "stream",
     "text": [
      "fold 8: mean position error 2.9492871239900316\n"
     ]
    },
    {
     "name": "stderr",
     "output_type": "stream",
     "text": [
      "[0.4GB(+0.0GB): 0.988sec] fit X\n",
      "[0.4GB(+0.0GB): 0.707sec] fit Y\n",
      "[0.4GB(+0.0GB): 0.224sec] fit F\n",
      "[0.4GB(+0.0GB): 0.012sec] Pred X\n",
      "[0.4GB(+0.0GB): 0.005sec] Pred Y\n",
      "[0.4GB(+0.0GB): 0.016sec] Pred F\n"
     ]
    },
    {
     "name": "stdout",
     "output_type": "stream",
     "text": [
      "fold 9: mean position error 2.835561296798382\n",
      "*+*+*+*+*+*+*+*+*+*+*+*+*+*+*+*+*+*+*+*+*+*+*+*+*+*+*+*+*+*+*+*+*+*+*+*+*+*+*+*+\n",
      "file #5, shape=(4251, 929), name=5d27099f03f801723c32511d_train.csv\n",
      "mean position error 2.988647721285338\n",
      "*+*+*+*+*+*+*+*+*+*+*+*+*+*+*+*+*+*+*+*+*+*+*+*+*+*+*+*+*+*+*+*+*+*+*+*+*+*+*+*+\n",
      "process training set for site file num 6\n",
      "process testing set for site file num 6\n"
     ]
    },
    {
     "name": "stderr",
     "output_type": "stream",
     "text": [
      "[0.4GB(+0.0GB): 0.672sec] fit X\n",
      "[0.4GB(+0.0GB): 1.044sec] fit Y\n",
      "[0.4GB(+0.0GB): 0.378sec] fit F\n",
      "[0.4GB(+0.0GB): 0.016sec] Pred X\n",
      "[0.4GB(+0.0GB): 0.016sec] Pred Y\n",
      "[0.4GB(+0.0GB): 0.016sec] Pred F\n"
     ]
    },
    {
     "name": "stdout",
     "output_type": "stream",
     "text": [
      "fold 0: mean position error 3.6251011523880274\n"
     ]
    },
    {
     "name": "stderr",
     "output_type": "stream",
     "text": [
      "[0.4GB(+0.0GB): 0.690sec] fit X\n",
      "[0.4GB(+0.0GB): 1.017sec] fit Y\n",
      "[0.4GB(+0.0GB): 0.362sec] fit F\n",
      "[0.4GB(+0.0GB): 0.016sec] Pred X\n",
      "[0.4GB(+0.0GB): 0.016sec] Pred Y\n",
      "[0.4GB(+0.0GB): 0.016sec] Pred F\n"
     ]
    },
    {
     "name": "stdout",
     "output_type": "stream",
     "text": [
      "fold 1: mean position error 2.9584044133649794\n"
     ]
    },
    {
     "name": "stderr",
     "output_type": "stream",
     "text": [
      "[0.4GB(+0.0GB): 0.666sec] fit X\n",
      "[0.4GB(+0.0GB): 1.019sec] fit Y\n",
      "[0.4GB(+0.0GB): 0.374sec] fit F\n",
      "[0.4GB(+0.0GB): 0.016sec] Pred X\n",
      "[0.4GB(+0.0GB): 0.016sec] Pred Y\n",
      "[0.4GB(+0.0GB): 0.016sec] Pred F\n"
     ]
    },
    {
     "name": "stdout",
     "output_type": "stream",
     "text": [
      "fold 2: mean position error 3.290852513535585\n"
     ]
    },
    {
     "name": "stderr",
     "output_type": "stream",
     "text": [
      "[0.4GB(+0.0GB): 0.669sec] fit X\n",
      "[0.4GB(+0.0GB): 1.062sec] fit Y\n",
      "[0.4GB(+0.0GB): 0.381sec] fit F\n",
      "[0.4GB(+0.0GB): 0.016sec] Pred X\n",
      "[0.4GB(+0.0GB): 0.016sec] Pred Y\n",
      "[0.4GB(+0.0GB): 0.031sec] Pred F\n"
     ]
    },
    {
     "name": "stdout",
     "output_type": "stream",
     "text": [
      "fold 3: mean position error 3.2464109009547664\n"
     ]
    },
    {
     "name": "stderr",
     "output_type": "stream",
     "text": [
      "[0.4GB(+0.0GB): 0.692sec] fit X\n",
      "[0.4GB(+0.0GB): 1.058sec] fit Y\n",
      "[0.4GB(+0.0GB): 0.378sec] fit F\n",
      "[0.4GB(+0.0GB): 0.016sec] Pred X\n",
      "[0.4GB(+0.0GB): 0.016sec] Pred Y\n",
      "[0.4GB(+0.0GB): 0.016sec] Pred F\n"
     ]
    },
    {
     "name": "stdout",
     "output_type": "stream",
     "text": [
      "fold 4: mean position error 3.041538188930992\n"
     ]
    },
    {
     "name": "stderr",
     "output_type": "stream",
     "text": [
      "[0.4GB(+0.0GB): 0.686sec] fit X\n",
      "[0.4GB(+0.0GB): 1.096sec] fit Y\n",
      "[0.4GB(+0.0GB): 0.397sec] fit F\n",
      "[0.4GB(+0.0GB): 0.016sec] Pred X\n",
      "[0.4GB(+0.0GB): 0.016sec] Pred Y\n",
      "[0.4GB(+0.0GB): 0.016sec] Pred F\n"
     ]
    },
    {
     "name": "stdout",
     "output_type": "stream",
     "text": [
      "fold 5: mean position error 3.050643299119047\n"
     ]
    },
    {
     "name": "stderr",
     "output_type": "stream",
     "text": [
      "[0.4GB(+0.0GB): 0.701sec] fit X\n",
      "[0.4GB(+0.0GB): 1.128sec] fit Y\n",
      "[0.4GB(+0.0GB): 0.400sec] fit F\n",
      "[0.4GB(+0.0GB): 0.016sec] Pred X\n",
      "[0.4GB(+0.0GB): 0.016sec] Pred Y\n",
      "[0.4GB(+0.0GB): 0.016sec] Pred F\n"
     ]
    },
    {
     "name": "stdout",
     "output_type": "stream",
     "text": [
      "fold 6: mean position error 4.07329551787718\n"
     ]
    },
    {
     "name": "stderr",
     "output_type": "stream",
     "text": [
      "[0.4GB(+0.0GB): 0.717sec] fit X\n",
      "[0.4GB(+0.0GB): 1.065sec] fit Y\n",
      "[0.4GB(+0.0GB): 0.379sec] fit F\n",
      "[0.4GB(+0.0GB): 0.016sec] Pred X\n",
      "[0.4GB(+0.0GB): 0.016sec] Pred Y\n",
      "[0.4GB(+0.0GB): 0.016sec] Pred F\n"
     ]
    },
    {
     "name": "stdout",
     "output_type": "stream",
     "text": [
      "fold 7: mean position error 3.039361457568226\n"
     ]
    },
    {
     "name": "stderr",
     "output_type": "stream",
     "text": [
      "[0.4GB(+0.0GB): 0.705sec] fit X\n",
      "[0.4GB(+0.0GB): 1.109sec] fit Y\n",
      "[0.4GB(+0.0GB): 0.367sec] fit F\n",
      "[0.4GB(+0.0GB): 0.016sec] Pred X\n",
      "[0.4GB(+0.0GB): 0.016sec] Pred Y\n",
      "[0.4GB(+0.0GB): 0.016sec] Pred F\n"
     ]
    },
    {
     "name": "stdout",
     "output_type": "stream",
     "text": [
      "fold 8: mean position error 3.637869143698974\n"
     ]
    },
    {
     "name": "stderr",
     "output_type": "stream",
     "text": [
      "[0.4GB(+0.0GB): 0.687sec] fit X\n",
      "[0.4GB(+0.0GB): 1.078sec] fit Y\n",
      "[0.4GB(+0.0GB): 0.395sec] fit F\n",
      "[0.4GB(+0.0GB): 0.016sec] Pred X\n",
      "[0.4GB(+0.0GB): 0.016sec] Pred Y\n",
      "[0.4GB(+0.0GB): 0.016sec] Pred F\n"
     ]
    },
    {
     "name": "stdout",
     "output_type": "stream",
     "text": [
      "fold 9: mean position error 2.7890453202452656\n",
      "*+*+*+*+*+*+*+*+*+*+*+*+*+*+*+*+*+*+*+*+*+*+*+*+*+*+*+*+*+*+*+*+*+*+*+*+*+*+*+*+\n",
      "file #6, shape=(3940, 1256), name=5d2709a003f801723c3251bf_train.csv\n",
      "mean position error 3.2752521907683043\n",
      "*+*+*+*+*+*+*+*+*+*+*+*+*+*+*+*+*+*+*+*+*+*+*+*+*+*+*+*+*+*+*+*+*+*+*+*+*+*+*+*+\n",
      "process training set for site file num 7\n",
      "process testing set for site file num 7\n"
     ]
    },
    {
     "name": "stderr",
     "output_type": "stream",
     "text": [
      "[1.0GB(+0.0GB): 4.655sec] fit X\n",
      "[1.0GB(+0.0GB): 5.157sec] fit Y\n",
      "[1.0GB(+0.0GB): 5.029sec] fit F\n",
      "[1.0GB(+0.0GB): 0.031sec] Pred X\n",
      "[1.0GB(+0.0GB): 0.031sec] Pred Y\n",
      "[1.0GB(+0.0GB): 0.031sec] Pred F\n"
     ]
    },
    {
     "name": "stdout",
     "output_type": "stream",
     "text": [
      "fold 0: mean position error 4.10168943807545\n"
     ]
    },
    {
     "name": "stderr",
     "output_type": "stream",
     "text": [
      "[1.0GB(+0.0GB): 4.530sec] fit X\n",
      "[1.0GB(+0.0GB): 5.132sec] fit Y\n",
      "[1.0GB(+0.0GB): 3.706sec] fit F\n",
      "[1.0GB(+0.0GB): 0.031sec] Pred X\n",
      "[1.0GB(+0.0GB): 0.031sec] Pred Y\n",
      "[1.0GB(+0.0GB): 0.031sec] Pred F\n"
     ]
    },
    {
     "name": "stdout",
     "output_type": "stream",
     "text": [
      "fold 1: mean position error 4.082694646271864\n"
     ]
    },
    {
     "name": "stderr",
     "output_type": "stream",
     "text": [
      "[1.0GB(+0.0GB): 4.450sec] fit X\n",
      "[1.0GB(+0.0GB): 4.983sec] fit Y\n",
      "[1.0GB(+0.0GB): 4.012sec] fit F\n",
      "[1.0GB(+0.0GB): 0.031sec] Pred X\n",
      "[1.0GB(+0.0GB): 0.031sec] Pred Y\n",
      "[1.0GB(+0.0GB): 0.031sec] Pred F\n"
     ]
    },
    {
     "name": "stdout",
     "output_type": "stream",
     "text": [
      "fold 2: mean position error 3.825422652261594\n"
     ]
    },
    {
     "name": "stderr",
     "output_type": "stream",
     "text": [
      "[1.0GB(+0.0GB): 4.529sec] fit X\n",
      "[1.0GB(-0.0GB): 5.296sec] fit Y\n",
      "[1.0GB(+0.0GB): 3.801sec] fit F\n",
      "[1.0GB(+0.0GB): 0.031sec] Pred X\n",
      "[1.0GB(+0.0GB): 0.016sec] Pred Y\n",
      "[1.0GB(+0.0GB): 0.031sec] Pred F\n"
     ]
    },
    {
     "name": "stdout",
     "output_type": "stream",
     "text": [
      "fold 3: mean position error 4.102211166172533\n"
     ]
    },
    {
     "name": "stderr",
     "output_type": "stream",
     "text": [
      "[1.0GB(+0.0GB): 4.421sec] fit X\n",
      "[1.0GB(+0.0GB): 5.069sec] fit Y\n",
      "[1.0GB(-0.0GB): 4.156sec] fit F\n",
      "[1.0GB(+0.0GB): 0.031sec] Pred X\n",
      "[1.0GB(+0.0GB): 0.031sec] Pred Y\n",
      "[1.0GB(+0.0GB): 0.016sec] Pred F\n"
     ]
    },
    {
     "name": "stdout",
     "output_type": "stream",
     "text": [
      "fold 4: mean position error 3.9614807331682678\n"
     ]
    },
    {
     "name": "stderr",
     "output_type": "stream",
     "text": [
      "[1.0GB(+0.0GB): 4.442sec] fit X\n",
      "[1.0GB(+0.0GB): 5.044sec] fit Y\n",
      "[1.0GB(+0.0GB): 4.080sec] fit F\n",
      "[1.0GB(+0.0GB): 0.031sec] Pred X\n",
      "[1.0GB(+0.0GB): 0.031sec] Pred Y\n",
      "[1.0GB(+0.0GB): 0.031sec] Pred F\n"
     ]
    },
    {
     "name": "stdout",
     "output_type": "stream",
     "text": [
      "fold 5: mean position error 4.068448827747272\n"
     ]
    },
    {
     "name": "stderr",
     "output_type": "stream",
     "text": [
      "[1.0GB(+0.0GB): 4.485sec] fit X\n",
      "[1.0GB(+0.0GB): 4.970sec] fit Y\n",
      "[1.0GB(+0.0GB): 4.027sec] fit F\n",
      "[1.0GB(+0.0GB): 0.031sec] Pred X\n",
      "[1.0GB(+0.0GB): 0.031sec] Pred Y\n",
      "[1.0GB(+0.0GB): 0.031sec] Pred F\n"
     ]
    },
    {
     "name": "stdout",
     "output_type": "stream",
     "text": [
      "fold 6: mean position error 4.206512296172531\n"
     ]
    },
    {
     "name": "stderr",
     "output_type": "stream",
     "text": [
      "[1.0GB(+0.0GB): 4.371sec] fit X\n",
      "[1.0GB(+0.0GB): 4.907sec] fit Y\n",
      "[1.0GB(+0.0GB): 4.105sec] fit F\n",
      "[1.0GB(+0.0GB): 0.031sec] Pred X\n",
      "[1.0GB(+0.0GB): 0.031sec] Pred Y\n",
      "[1.0GB(+0.0GB): 0.032sec] Pred F\n"
     ]
    },
    {
     "name": "stdout",
     "output_type": "stream",
     "text": [
      "fold 7: mean position error 4.080862395078101\n"
     ]
    },
    {
     "name": "stderr",
     "output_type": "stream",
     "text": [
      "[1.0GB(+0.0GB): 4.622sec] fit X\n",
      "[1.0GB(+0.0GB): 5.056sec] fit Y\n",
      "[1.0GB(-0.0GB): 4.238sec] fit F\n",
      "[1.0GB(+0.0GB): 0.031sec] Pred X\n",
      "[1.0GB(+0.0GB): 0.031sec] Pred Y\n",
      "[1.0GB(+0.0GB): 0.031sec] Pred F\n"
     ]
    },
    {
     "name": "stdout",
     "output_type": "stream",
     "text": [
      "fold 8: mean position error 3.886449460467238\n"
     ]
    },
    {
     "name": "stderr",
     "output_type": "stream",
     "text": [
      "[1.0GB(+0.0GB): 4.561sec] fit X\n",
      "[1.0GB(+0.0GB): 4.930sec] fit Y\n",
      "[1.0GB(+0.0GB): 4.028sec] fit F\n",
      "[1.0GB(+0.0GB): 0.031sec] Pred X\n",
      "[1.0GB(+0.0GB): 0.031sec] Pred Y\n",
      "[1.0GB(+0.0GB): 0.016sec] Pred F\n"
     ]
    },
    {
     "name": "stdout",
     "output_type": "stream",
     "text": [
      "fold 9: mean position error 4.1909727826839624\n",
      "*+*+*+*+*+*+*+*+*+*+*+*+*+*+*+*+*+*+*+*+*+*+*+*+*+*+*+*+*+*+*+*+*+*+*+*+*+*+*+*+\n",
      "file #7, shape=(15358, 1917), name=5d2709b303f801723c327472_train.csv\n",
      "mean position error 4.050675997736465\n",
      "*+*+*+*+*+*+*+*+*+*+*+*+*+*+*+*+*+*+*+*+*+*+*+*+*+*+*+*+*+*+*+*+*+*+*+*+*+*+*+*+\n",
      "process training set for site file num 8\n",
      "process testing set for site file num 8\n"
     ]
    },
    {
     "name": "stderr",
     "output_type": "stream",
     "text": [
      "[1.3GB(+0.0GB): 5.436sec] fit X\n",
      "[1.3GB(-0.0GB): 6.231sec] fit Y\n",
      "[1.3GB(+0.0GB): 5.307sec] fit F\n",
      "[1.3GB(+0.0GB): 0.047sec] Pred X\n",
      "[1.3GB(+0.0GB): 0.047sec] Pred Y\n",
      "[1.3GB(-0.0GB): 0.051sec] Pred F\n"
     ]
    },
    {
     "name": "stdout",
     "output_type": "stream",
     "text": [
      "fold 0: mean position error 4.243942315322598\n"
     ]
    },
    {
     "name": "stderr",
     "output_type": "stream",
     "text": [
      "[1.3GB(+0.0GB): 5.358sec] fit X\n",
      "[1.3GB(-0.0GB): 6.165sec] fit Y\n",
      "[1.3GB(+0.0GB): 5.197sec] fit F\n",
      "[1.3GB(+0.0GB): 0.047sec] Pred X\n",
      "[1.3GB(+0.0GB): 0.047sec] Pred Y\n",
      "[1.3GB(+0.0GB): 0.031sec] Pred F\n"
     ]
    },
    {
     "name": "stdout",
     "output_type": "stream",
     "text": [
      "fold 1: mean position error 4.055883133186622\n"
     ]
    },
    {
     "name": "stderr",
     "output_type": "stream",
     "text": [
      "[1.3GB(+0.0GB): 5.467sec] fit X\n",
      "[1.3GB(+0.0GB): 6.286sec] fit Y\n",
      "[1.3GB(-0.0GB): 5.210sec] fit F\n",
      "[1.3GB(+0.0GB): 0.047sec] Pred X\n",
      "[1.3GB(+0.0GB): 0.062sec] Pred Y\n",
      "[1.3GB(+0.0GB): 0.041sec] Pred F\n"
     ]
    },
    {
     "name": "stdout",
     "output_type": "stream",
     "text": [
      "fold 2: mean position error 4.244349050779557\n"
     ]
    },
    {
     "name": "stderr",
     "output_type": "stream",
     "text": [
      "[1.2GB(+0.0GB): 5.530sec] fit X\n",
      "[1.2GB(+0.0GB): 6.020sec] fit Y\n",
      "[1.2GB(+0.0GB): 5.035sec] fit F\n",
      "[1.2GB(+0.0GB): 0.047sec] Pred X\n",
      "[1.2GB(+0.0GB): 0.054sec] Pred Y\n",
      "[1.2GB(+0.0GB): 0.040sec] Pred F\n"
     ]
    },
    {
     "name": "stdout",
     "output_type": "stream",
     "text": [
      "fold 3: mean position error 4.2750332434335565\n"
     ]
    },
    {
     "name": "stderr",
     "output_type": "stream",
     "text": [
      "[1.2GB(+0.0GB): 5.264sec] fit X\n",
      "[1.2GB(+0.0GB): 6.315sec] fit Y\n",
      "[1.2GB(+0.0GB): 5.050sec] fit F\n",
      "[1.2GB(+0.0GB): 0.047sec] Pred X\n",
      "[1.2GB(+0.0GB): 0.053sec] Pred Y\n",
      "[1.2GB(+0.0GB): 0.045sec] Pred F\n"
     ]
    },
    {
     "name": "stdout",
     "output_type": "stream",
     "text": [
      "fold 4: mean position error 4.166320930093465\n"
     ]
    },
    {
     "name": "stderr",
     "output_type": "stream",
     "text": [
      "[1.2GB(+0.0GB): 5.536sec] fit X\n",
      "[1.2GB(+0.0GB): 6.376sec] fit Y\n",
      "[1.2GB(+0.0GB): 5.149sec] fit F\n",
      "[1.2GB(+0.0GB): 0.047sec] Pred X\n",
      "[1.2GB(+0.0GB): 0.052sec] Pred Y\n",
      "[1.2GB(+0.0GB): 0.042sec] Pred F\n"
     ]
    },
    {
     "name": "stdout",
     "output_type": "stream",
     "text": [
      "fold 5: mean position error 4.257352516098742\n"
     ]
    },
    {
     "name": "stderr",
     "output_type": "stream",
     "text": [
      "[1.1GB(+0.0GB): 5.436sec] fit X\n",
      "[1.1GB(+0.0GB): 6.170sec] fit Y\n",
      "[1.1GB(+0.0GB): 5.155sec] fit F\n",
      "[1.1GB(+0.0GB): 0.031sec] Pred X\n",
      "[1.1GB(+0.0GB): 0.047sec] Pred Y\n",
      "[1.1GB(+0.0GB): 0.047sec] Pred F\n"
     ]
    },
    {
     "name": "stdout",
     "output_type": "stream",
     "text": [
      "fold 6: mean position error 4.22137980164436\n"
     ]
    },
    {
     "name": "stderr",
     "output_type": "stream",
     "text": [
      "[1.1GB(+0.0GB): 5.452sec] fit X\n",
      "[1.1GB(+0.0GB): 7.045sec] fit Y\n",
      "[1.1GB(+0.0GB): 5.030sec] fit F\n",
      "[1.1GB(+0.0GB): 0.031sec] Pred X\n",
      "[1.1GB(+0.0GB): 0.054sec] Pred Y\n",
      "[1.1GB(+0.0GB): 0.044sec] Pred F\n"
     ]
    },
    {
     "name": "stdout",
     "output_type": "stream",
     "text": [
      "fold 7: mean position error 4.083492451869927\n"
     ]
    },
    {
     "name": "stderr",
     "output_type": "stream",
     "text": [
      "[1.1GB(+0.0GB): 5.327sec] fit X\n",
      "[1.1GB(+0.0GB): 6.218sec] fit Y\n",
      "[1.1GB(+0.0GB): 5.243sec] fit F\n",
      "[1.1GB(+0.0GB): 0.047sec] Pred X\n",
      "[1.1GB(+0.0GB): 0.051sec] Pred Y\n",
      "[1.1GB(+0.0GB): 0.044sec] Pred F\n"
     ]
    },
    {
     "name": "stdout",
     "output_type": "stream",
     "text": [
      "fold 8: mean position error 3.8205294941538717\n"
     ]
    },
    {
     "name": "stderr",
     "output_type": "stream",
     "text": [
      "[1.1GB(+0.0GB): 5.186sec] fit X\n",
      "[1.1GB(+0.0GB): 6.654sec] fit Y\n",
      "[1.1GB(+0.0GB): 5.135sec] fit F\n",
      "[1.1GB(+0.0GB): 0.047sec] Pred X\n",
      "[1.1GB(+0.0GB): 0.045sec] Pred Y\n",
      "[1.1GB(+0.0GB): 0.060sec] Pred F\n"
     ]
    },
    {
     "name": "stdout",
     "output_type": "stream",
     "text": [
      "fold 9: mean position error 4.0199959548776585\n",
      "*+*+*+*+*+*+*+*+*+*+*+*+*+*+*+*+*+*+*+*+*+*+*+*+*+*+*+*+*+*+*+*+*+*+*+*+*+*+*+*+\n",
      "file #8, shape=(17203, 2456), name=5d2709bb03f801723c32852c_train.csv\n",
      "mean position error 4.13883531173697\n",
      "*+*+*+*+*+*+*+*+*+*+*+*+*+*+*+*+*+*+*+*+*+*+*+*+*+*+*+*+*+*+*+*+*+*+*+*+*+*+*+*+\n",
      "process training set for site file num 9\n",
      "process testing set for site file num 9\n"
     ]
    },
    {
     "name": "stderr",
     "output_type": "stream",
     "text": [
      "[1.3GB(+0.0GB): 21.323sec] fit X\n",
      "[1.3GB(+0.0GB): 9.202sec] fit Y\n",
      "[1.3GB(+0.0GB): 7.890sec] fit F\n",
      "[1.4GB(+0.0GB): 0.203sec] Pred X\n",
      "[1.4GB(+0.0GB): 0.094sec] Pred Y\n",
      "[1.4GB(+0.0GB): 0.094sec] Pred F\n"
     ]
    },
    {
     "name": "stdout",
     "output_type": "stream",
     "text": [
      "fold 0: mean position error 4.523341626898301\n"
     ]
    },
    {
     "name": "stderr",
     "output_type": "stream",
     "text": [
      "[1.4GB(+0.0GB): 20.714sec] fit X\n",
      "[1.4GB(+0.0GB): 9.644sec] fit Y\n",
      "[1.4GB(+0.0GB): 6.306sec] fit F\n",
      "[1.4GB(+0.0GB): 0.092sec] Pred X\n",
      "[1.4GB(+0.0GB): 0.078sec] Pred Y\n",
      "[1.4GB(+0.0GB): 0.078sec] Pred F\n"
     ]
    },
    {
     "name": "stdout",
     "output_type": "stream",
     "text": [
      "fold 1: mean position error 4.318641698955179\n"
     ]
    },
    {
     "name": "stderr",
     "output_type": "stream",
     "text": [
      "[1.2GB(+0.0GB): 18.402sec] fit X\n",
      "[1.2GB(+0.0GB): 8.936sec] fit Y\n",
      "[1.2GB(+0.0GB): 6.229sec] fit F\n",
      "[1.2GB(+0.0GB): 0.082sec] Pred X\n",
      "[1.2GB(+0.0GB): 0.094sec] Pred Y\n",
      "[1.2GB(+0.0GB): 0.078sec] Pred F\n"
     ]
    },
    {
     "name": "stdout",
     "output_type": "stream",
     "text": [
      "fold 2: mean position error 4.216115981254393\n"
     ]
    },
    {
     "name": "stderr",
     "output_type": "stream",
     "text": [
      "[1.2GB(+0.0GB): 18.527sec] fit X\n",
      "[1.2GB(+0.0GB): 8.634sec] fit Y\n",
      "[1.2GB(+0.0GB): 6.338sec] fit F\n",
      "[1.2GB(+0.0GB): 0.078sec] Pred X\n",
      "[1.2GB(+0.0GB): 0.078sec] Pred Y\n",
      "[1.2GB(+0.0GB): 0.094sec] Pred F\n"
     ]
    },
    {
     "name": "stdout",
     "output_type": "stream",
     "text": [
      "fold 3: mean position error 4.156416751196086\n"
     ]
    },
    {
     "name": "stderr",
     "output_type": "stream",
     "text": [
      "[1.2GB(+0.0GB): 17.683sec] fit X\n",
      "[1.2GB(+0.0GB): 8.889sec] fit Y\n",
      "[1.2GB(+0.0GB): 6.387sec] fit F\n",
      "[1.2GB(+0.0GB): 0.076sec] Pred X\n",
      "[1.2GB(+0.0GB): 0.094sec] Pred Y\n",
      "[1.2GB(+0.0GB): 0.078sec] Pred F\n"
     ]
    },
    {
     "name": "stdout",
     "output_type": "stream",
     "text": [
      "fold 4: mean position error 4.075815217888506\n"
     ]
    },
    {
     "name": "stderr",
     "output_type": "stream",
     "text": [
      "[1.2GB(+0.0GB): 18.338sec] fit X\n",
      "[1.2GB(+0.0GB): 8.990sec] fit Y\n",
      "[1.2GB(+0.0GB): 6.250sec] fit F\n",
      "[1.2GB(+0.0GB): 0.078sec] Pred X\n",
      "[1.2GB(+0.0GB): 0.094sec] Pred Y\n",
      "[1.2GB(+0.0GB): 0.078sec] Pred F\n"
     ]
    },
    {
     "name": "stdout",
     "output_type": "stream",
     "text": [
      "fold 5: mean position error 4.309851514283862\n"
     ]
    },
    {
     "name": "stderr",
     "output_type": "stream",
     "text": [
      "[1.2GB(+0.0GB): 20.042sec] fit X\n",
      "[1.2GB(+0.0GB): 8.891sec] fit Y\n",
      "[1.2GB(+0.0GB): 7.037sec] fit F\n",
      "[1.2GB(-0.0GB): 0.096sec] Pred X\n",
      "[1.2GB(+0.0GB): 0.078sec] Pred Y\n",
      "[1.2GB(+0.0GB): 0.078sec] Pred F\n"
     ]
    },
    {
     "name": "stdout",
     "output_type": "stream",
     "text": [
      "fold 6: mean position error 4.278312995126194\n"
     ]
    },
    {
     "name": "stderr",
     "output_type": "stream",
     "text": [
      "[1.1GB(+0.0GB): 19.645sec] fit X\n",
      "[1.1GB(-0.0GB): 9.179sec] fit Y\n",
      "[1.1GB(+0.0GB): 6.343sec] fit F\n",
      "[1.1GB(-0.0GB): 0.082sec] Pred X\n",
      "[1.1GB(+0.0GB): 0.078sec] Pred Y\n",
      "[1.1GB(+0.0GB): 0.094sec] Pred F\n"
     ]
    },
    {
     "name": "stdout",
     "output_type": "stream",
     "text": [
      "fold 7: mean position error 4.129927676648077\n"
     ]
    },
    {
     "name": "stderr",
     "output_type": "stream",
     "text": [
      "[1.1GB(+0.0GB): 18.933sec] fit X\n",
      "[1.1GB(+0.0GB): 9.044sec] fit Y\n",
      "[1.1GB(-0.0GB): 6.613sec] fit F\n",
      "[1.1GB(+0.0GB): 0.075sec] Pred X\n",
      "[1.1GB(+0.0GB): 0.094sec] Pred Y\n",
      "[1.1GB(+0.0GB): 0.078sec] Pred F\n"
     ]
    },
    {
     "name": "stdout",
     "output_type": "stream",
     "text": [
      "fold 8: mean position error 3.972343897669372\n"
     ]
    },
    {
     "name": "stderr",
     "output_type": "stream",
     "text": [
      "[1.1GB(+0.0GB): 19.449sec] fit X\n",
      "[1.1GB(+0.0GB): 8.730sec] fit Y\n",
      "[1.1GB(-0.0GB): 7.081sec] fit F\n",
      "[1.1GB(+0.0GB): 0.083sec] Pred X\n",
      "[1.1GB(+0.0GB): 0.094sec] Pred Y\n",
      "[1.1GB(+0.0GB): 0.078sec] Pred F\n"
     ]
    },
    {
     "name": "stdout",
     "output_type": "stream",
     "text": [
      "fold 9: mean position error 4.188671697188248\n",
      "*+*+*+*+*+*+*+*+*+*+*+*+*+*+*+*+*+*+*+*+*+*+*+*+*+*+*+*+*+*+*+*+*+*+*+*+*+*+*+*+\n",
      "file #9, shape=(10083, 5835), name=5d2709c303f801723c3299ee_train.csv\n",
      "mean position error 4.21698429722029\n",
      "*+*+*+*+*+*+*+*+*+*+*+*+*+*+*+*+*+*+*+*+*+*+*+*+*+*+*+*+*+*+*+*+*+*+*+*+*+*+*+*+\n",
      "process training set for site file num 10\n",
      "process testing set for site file num 10\n"
     ]
    },
    {
     "name": "stderr",
     "output_type": "stream",
     "text": [
      "[0.8GB(+0.0GB): 2.843sec] fit X\n",
      "[0.8GB(+0.0GB): 3.570sec] fit Y\n",
      "[0.8GB(+0.0GB): 1.035sec] fit F\n",
      "[0.8GB(+0.0GB): 0.047sec] Pred X\n",
      "[0.8GB(+0.0GB): 0.062sec] Pred Y\n",
      "[0.8GB(+0.0GB): 0.062sec] Pred F\n"
     ]
    },
    {
     "name": "stdout",
     "output_type": "stream",
     "text": [
      "fold 0: mean position error 3.143436509038337\n"
     ]
    },
    {
     "name": "stderr",
     "output_type": "stream",
     "text": [
      "[0.8GB(+0.0GB): 3.001sec] fit X\n",
      "[0.8GB(+0.0GB): 3.058sec] fit Y\n",
      "[0.8GB(+0.0GB): 1.055sec] fit F\n",
      "[0.8GB(+0.0GB): 0.047sec] Pred X\n",
      "[0.8GB(+0.0GB): 0.062sec] Pred Y\n",
      "[0.8GB(+0.0GB): 0.051sec] Pred F\n"
     ]
    },
    {
     "name": "stdout",
     "output_type": "stream",
     "text": [
      "fold 1: mean position error 3.4598278841899215\n"
     ]
    },
    {
     "name": "stderr",
     "output_type": "stream",
     "text": [
      "[0.8GB(+0.0GB): 3.170sec] fit X\n",
      "[0.8GB(+0.0GB): 3.005sec] fit Y\n",
      "[0.8GB(+0.0GB): 1.015sec] fit F\n",
      "[0.8GB(+0.0GB): 0.047sec] Pred X\n",
      "[0.8GB(+0.0GB): 0.047sec] Pred Y\n",
      "[0.8GB(+0.0GB): 0.065sec] Pred F\n"
     ]
    },
    {
     "name": "stdout",
     "output_type": "stream",
     "text": [
      "fold 2: mean position error 3.3742126957035596\n"
     ]
    },
    {
     "name": "stderr",
     "output_type": "stream",
     "text": [
      "[0.8GB(+0.0GB): 3.103sec] fit X\n",
      "[0.8GB(+0.0GB): 3.058sec] fit Y\n",
      "[0.8GB(+0.0GB): 0.941sec] fit F\n",
      "[0.8GB(+0.0GB): 0.047sec] Pred X\n",
      "[0.8GB(+0.0GB): 0.062sec] Pred Y\n",
      "[0.8GB(+0.0GB): 0.049sec] Pred F\n"
     ]
    },
    {
     "name": "stdout",
     "output_type": "stream",
     "text": [
      "fold 3: mean position error 3.3144555555219375\n"
     ]
    },
    {
     "name": "stderr",
     "output_type": "stream",
     "text": [
      "[0.8GB(+0.0GB): 3.043sec] fit X\n",
      "[0.8GB(+0.0GB): 3.031sec] fit Y\n",
      "[0.8GB(+0.0GB): 1.018sec] fit F\n",
      "[0.8GB(+0.0GB): 0.062sec] Pred X\n",
      "[0.8GB(+0.0GB): 0.047sec] Pred Y\n",
      "[0.8GB(+0.0GB): 0.058sec] Pred F\n"
     ]
    },
    {
     "name": "stdout",
     "output_type": "stream",
     "text": [
      "fold 4: mean position error 3.3598094230130116\n"
     ]
    },
    {
     "name": "stderr",
     "output_type": "stream",
     "text": [
      "[0.8GB(+0.0GB): 3.084sec] fit X\n",
      "[0.8GB(+0.0GB): 3.583sec] fit Y\n",
      "[0.8GB(+0.0GB): 1.039sec] fit F\n",
      "[0.8GB(+0.0GB): 0.047sec] Pred X\n",
      "[0.8GB(+0.0GB): 0.047sec] Pred Y\n",
      "[0.8GB(+0.0GB): 0.058sec] Pred F\n"
     ]
    },
    {
     "name": "stdout",
     "output_type": "stream",
     "text": [
      "fold 5: mean position error 3.185983721825843\n"
     ]
    },
    {
     "name": "stderr",
     "output_type": "stream",
     "text": [
      "[0.8GB(+0.0GB): 3.173sec] fit X\n",
      "[0.8GB(+0.0GB): 3.257sec] fit Y\n",
      "[0.8GB(+0.0GB): 1.049sec] fit F\n",
      "[0.8GB(+0.0GB): 0.047sec] Pred X\n",
      "[0.8GB(+0.0GB): 0.047sec] Pred Y\n",
      "[0.8GB(+0.0GB): 0.066sec] Pred F\n"
     ]
    },
    {
     "name": "stdout",
     "output_type": "stream",
     "text": [
      "fold 6: mean position error 3.5212226793836874\n"
     ]
    },
    {
     "name": "stderr",
     "output_type": "stream",
     "text": [
      "[0.8GB(+0.0GB): 3.075sec] fit X\n",
      "[0.8GB(+0.0GB): 3.500sec] fit Y\n",
      "[0.8GB(+0.0GB): 1.033sec] fit F\n",
      "[0.8GB(+0.0GB): 0.047sec] Pred X\n",
      "[0.8GB(+0.0GB): 0.047sec] Pred Y\n",
      "[0.8GB(+0.0GB): 0.072sec] Pred F\n"
     ]
    },
    {
     "name": "stdout",
     "output_type": "stream",
     "text": [
      "fold 7: mean position error 3.2561052399632593\n"
     ]
    },
    {
     "name": "stderr",
     "output_type": "stream",
     "text": [
      "[0.8GB(+0.0GB): 2.977sec] fit X\n",
      "[0.8GB(+0.0GB): 3.440sec] fit Y\n",
      "[0.8GB(+0.0GB): 1.011sec] fit F\n",
      "[0.8GB(+0.0GB): 0.047sec] Pred X\n",
      "[0.8GB(+0.0GB): 0.047sec] Pred Y\n",
      "[0.8GB(+0.0GB): 0.045sec] Pred F\n"
     ]
    },
    {
     "name": "stdout",
     "output_type": "stream",
     "text": [
      "fold 8: mean position error 3.1975058883848098\n"
     ]
    },
    {
     "name": "stderr",
     "output_type": "stream",
     "text": [
      "[0.8GB(+0.0GB): 2.996sec] fit X\n",
      "[0.8GB(+0.0GB): 3.634sec] fit Y\n",
      "[0.8GB(+0.0GB): 1.070sec] fit F\n",
      "[0.8GB(+0.0GB): 0.047sec] Pred X\n",
      "[0.8GB(+0.0GB): 0.047sec] Pred Y\n",
      "[0.8GB(+0.0GB): 0.069sec] Pred F\n"
     ]
    },
    {
     "name": "stdout",
     "output_type": "stream",
     "text": [
      "fold 9: mean position error 3.4880609349983973\n",
      "*+*+*+*+*+*+*+*+*+*+*+*+*+*+*+*+*+*+*+*+*+*+*+*+*+*+*+*+*+*+*+*+*+*+*+*+*+*+*+*+\n",
      "file #10, shape=(10027, 2143), name=5d2709d403f801723c32bd39_train.csv\n",
      "mean position error 3.3300668915483675\n",
      "*+*+*+*+*+*+*+*+*+*+*+*+*+*+*+*+*+*+*+*+*+*+*+*+*+*+*+*+*+*+*+*+*+*+*+*+*+*+*+*+\n",
      "process training set for site file num 11\n",
      "process testing set for site file num 11\n"
     ]
    },
    {
     "name": "stderr",
     "output_type": "stream",
     "text": [
      "[0.7GB(+0.0GB): 1.843sec] fit X\n",
      "[0.7GB(+0.0GB): 1.979sec] fit Y\n",
      "[0.7GB(+0.0GB): 1.497sec] fit F\n",
      "[0.7GB(+0.0GB): 0.016sec] Pred X\n",
      "[0.7GB(+0.0GB): 0.016sec] Pred Y\n",
      "[0.7GB(+0.0GB): 0.031sec] Pred F\n"
     ]
    },
    {
     "name": "stdout",
     "output_type": "stream",
     "text": [
      "fold 0: mean position error 4.002272087690194\n"
     ]
    },
    {
     "name": "stderr",
     "output_type": "stream",
     "text": [
      "[0.7GB(+0.0GB): 1.823sec] fit X\n",
      "[0.7GB(+0.0GB): 1.970sec] fit Y\n",
      "[0.7GB(+0.0GB): 1.354sec] fit F\n",
      "[0.7GB(+0.0GB): 0.078sec] Pred X\n",
      "[0.7GB(+0.0GB): 0.047sec] Pred Y\n",
      "[0.7GB(+0.0GB): 0.038sec] Pred F\n"
     ]
    },
    {
     "name": "stdout",
     "output_type": "stream",
     "text": [
      "fold 1: mean position error 3.677128998460245\n"
     ]
    },
    {
     "name": "stderr",
     "output_type": "stream",
     "text": [
      "[0.7GB(+0.0GB): 1.875sec] fit X\n",
      "[0.7GB(+0.0GB): 1.910sec] fit Y\n",
      "[0.7GB(+0.0GB): 1.415sec] fit F\n",
      "[0.7GB(+0.0GB): 0.016sec] Pred X\n",
      "[0.7GB(+0.0GB): 0.016sec] Pred Y\n",
      "[0.7GB(+0.0GB): 0.031sec] Pred F\n"
     ]
    },
    {
     "name": "stdout",
     "output_type": "stream",
     "text": [
      "fold 2: mean position error 4.107994840871824\n"
     ]
    },
    {
     "name": "stderr",
     "output_type": "stream",
     "text": [
      "[0.7GB(+0.0GB): 1.859sec] fit X\n",
      "[0.7GB(+0.0GB): 1.850sec] fit Y\n",
      "[0.7GB(+0.0GB): 1.382sec] fit F\n",
      "[0.7GB(+0.0GB): 0.016sec] Pred X\n",
      "[0.7GB(+0.0GB): 0.031sec] Pred Y\n",
      "[0.7GB(+0.0GB): 0.016sec] Pred F\n"
     ]
    },
    {
     "name": "stdout",
     "output_type": "stream",
     "text": [
      "fold 3: mean position error 3.646803318269427\n"
     ]
    },
    {
     "name": "stderr",
     "output_type": "stream",
     "text": [
      "[0.7GB(+0.0GB): 1.870sec] fit X\n",
      "[0.7GB(+0.0GB): 1.894sec] fit Y\n",
      "[0.7GB(+0.0GB): 1.401sec] fit F\n",
      "[0.7GB(+0.0GB): 0.031sec] Pred X\n",
      "[0.7GB(+0.0GB): 0.016sec] Pred Y\n",
      "[0.7GB(+0.0GB): 0.016sec] Pred F\n"
     ]
    },
    {
     "name": "stdout",
     "output_type": "stream",
     "text": [
      "fold 4: mean position error 3.641933542965697\n"
     ]
    },
    {
     "name": "stderr",
     "output_type": "stream",
     "text": [
      "[0.7GB(+0.0GB): 1.857sec] fit X\n",
      "[0.7GB(+0.0GB): 1.820sec] fit Y\n",
      "[0.7GB(+0.0GB): 1.536sec] fit F\n",
      "[0.7GB(+0.0GB): 0.016sec] Pred X\n",
      "[0.7GB(+0.0GB): 0.031sec] Pred Y\n",
      "[0.7GB(+0.0GB): 0.016sec] Pred F\n"
     ]
    },
    {
     "name": "stdout",
     "output_type": "stream",
     "text": [
      "fold 5: mean position error 4.289478556197477\n"
     ]
    },
    {
     "name": "stderr",
     "output_type": "stream",
     "text": [
      "[0.7GB(+0.0GB): 1.838sec] fit X\n",
      "[0.7GB(+0.0GB): 1.940sec] fit Y\n",
      "[0.7GB(+0.0GB): 1.500sec] fit F\n",
      "[0.7GB(+0.0GB): 0.016sec] Pred X\n",
      "[0.7GB(+0.0GB): 0.016sec] Pred Y\n",
      "[0.7GB(+0.0GB): 0.031sec] Pred F\n"
     ]
    },
    {
     "name": "stdout",
     "output_type": "stream",
     "text": [
      "fold 6: mean position error 3.6868743425770045\n"
     ]
    },
    {
     "name": "stderr",
     "output_type": "stream",
     "text": [
      "[0.7GB(+0.0GB): 1.789sec] fit X\n",
      "[0.7GB(+0.0GB): 2.058sec] fit Y\n",
      "[0.7GB(+0.0GB): 1.425sec] fit F\n",
      "[0.7GB(+0.0GB): 0.031sec] Pred X\n",
      "[0.7GB(+0.0GB): 0.016sec] Pred Y\n",
      "[0.7GB(+0.0GB): 0.016sec] Pred F\n"
     ]
    },
    {
     "name": "stdout",
     "output_type": "stream",
     "text": [
      "fold 7: mean position error 4.168889009296305\n"
     ]
    },
    {
     "name": "stderr",
     "output_type": "stream",
     "text": [
      "[0.7GB(+0.0GB): 1.859sec] fit X\n",
      "[0.7GB(+0.0GB): 1.912sec] fit Y\n",
      "[0.7GB(+0.0GB): 1.512sec] fit F\n",
      "[0.7GB(+0.0GB): 0.031sec] Pred X\n",
      "[0.7GB(+0.0GB): 0.031sec] Pred Y\n",
      "[0.7GB(+0.0GB): 0.016sec] Pred F\n"
     ]
    },
    {
     "name": "stdout",
     "output_type": "stream",
     "text": [
      "fold 8: mean position error 4.247910253251831\n"
     ]
    },
    {
     "name": "stderr",
     "output_type": "stream",
     "text": [
      "[0.7GB(+0.0GB): 1.849sec] fit X\n",
      "[0.7GB(+0.0GB): 1.987sec] fit Y\n",
      "[0.7GB(+0.0GB): 1.500sec] fit F\n",
      "[0.7GB(+0.0GB): 0.016sec] Pred X\n",
      "[0.7GB(+0.0GB): 0.016sec] Pred Y\n",
      "[0.7GB(+0.0GB): 0.031sec] Pred F\n"
     ]
    },
    {
     "name": "stdout",
     "output_type": "stream",
     "text": [
      "fold 9: mean position error 4.239453736845947\n",
      "*+*+*+*+*+*+*+*+*+*+*+*+*+*+*+*+*+*+*+*+*+*+*+*+*+*+*+*+*+*+*+*+*+*+*+*+*+*+*+*+\n",
      "file #11, shape=(11042, 1313), name=5d2709e003f801723c32d896_train.csv\n",
      "mean position error 3.970850109663141\n",
      "*+*+*+*+*+*+*+*+*+*+*+*+*+*+*+*+*+*+*+*+*+*+*+*+*+*+*+*+*+*+*+*+*+*+*+*+*+*+*+*+\n",
      "process training set for site file num 12\n",
      "process testing set for site file num 12\n"
     ]
    },
    {
     "name": "stderr",
     "output_type": "stream",
     "text": [
      "[0.4GB(+0.0GB): 0.187sec] fit X\n",
      "[0.4GB(+0.0GB): 0.210sec] fit Y\n",
      "[0.4GB(+0.0GB): 0.110sec] fit F\n",
      "[0.4GB(+0.0GB): 0.016sec] Pred X\n",
      "[0.4GB(+0.0GB): 0.000sec] Pred Y\n",
      "[0.4GB(+0.0GB): 0.016sec] Pred F\n"
     ]
    },
    {
     "name": "stdout",
     "output_type": "stream",
     "text": [
      "fold 0: mean position error 4.219154200825303\n"
     ]
    },
    {
     "name": "stderr",
     "output_type": "stream",
     "text": [
      "[0.4GB(+0.0GB): 0.188sec] fit X\n",
      "[0.4GB(+0.0GB): 0.193sec] fit Y\n",
      "[0.4GB(+0.0GB): 0.122sec] fit F\n",
      "[0.4GB(+0.0GB): 0.016sec] Pred X\n",
      "[0.4GB(+0.0GB): 0.000sec] Pred Y\n",
      "[0.4GB(+0.0GB): 0.016sec] Pred F\n"
     ]
    },
    {
     "name": "stdout",
     "output_type": "stream",
     "text": [
      "fold 1: mean position error 4.107844016358974\n"
     ]
    },
    {
     "name": "stderr",
     "output_type": "stream",
     "text": [
      "[0.4GB(+0.0GB): 0.190sec] fit X\n",
      "[0.4GB(+0.0GB): 0.217sec] fit Y\n",
      "[0.4GB(+0.0GB): 0.096sec] fit F\n",
      "[0.4GB(+0.0GB): 0.000sec] Pred X\n",
      "[0.4GB(+0.0GB): 0.016sec] Pred Y\n",
      "[0.4GB(+0.0GB): 0.000sec] Pred F\n"
     ]
    },
    {
     "name": "stdout",
     "output_type": "stream",
     "text": [
      "fold 2: mean position error 4.515658111537865\n"
     ]
    },
    {
     "name": "stderr",
     "output_type": "stream",
     "text": [
      "[0.4GB(+0.0GB): 0.198sec] fit X\n",
      "[0.4GB(+0.0GB): 0.201sec] fit Y\n",
      "[0.4GB(+0.0GB): 0.122sec] fit F\n",
      "[0.4GB(+0.0GB): 0.000sec] Pred X\n",
      "[0.4GB(+0.0GB): 0.016sec] Pred Y\n",
      "[0.4GB(+0.0GB): 0.000sec] Pred F\n"
     ]
    },
    {
     "name": "stdout",
     "output_type": "stream",
     "text": [
      "fold 3: mean position error 3.987122395320667\n"
     ]
    },
    {
     "name": "stderr",
     "output_type": "stream",
     "text": [
      "[0.4GB(+0.0GB): 0.205sec] fit X\n",
      "[0.4GB(+0.0GB): 0.206sec] fit Y\n",
      "[0.4GB(+0.0GB): 0.125sec] fit F\n",
      "[0.4GB(+0.0GB): 0.000sec] Pred X\n",
      "[0.4GB(+0.0GB): 0.016sec] Pred Y\n",
      "[0.4GB(+0.0GB): 0.000sec] Pred F\n"
     ]
    },
    {
     "name": "stdout",
     "output_type": "stream",
     "text": [
      "fold 4: mean position error 3.9947374345728335\n"
     ]
    },
    {
     "name": "stderr",
     "output_type": "stream",
     "text": [
      "[0.4GB(+0.0GB): 0.198sec] fit X\n",
      "[0.4GB(+0.0GB): 0.198sec] fit Y\n",
      "[0.4GB(+0.0GB): 0.126sec] fit F\n",
      "[0.4GB(+0.0GB): 0.016sec] Pred X\n",
      "[0.4GB(+0.0GB): 0.000sec] Pred Y\n",
      "[0.4GB(+0.0GB): 0.016sec] Pred F\n"
     ]
    },
    {
     "name": "stdout",
     "output_type": "stream",
     "text": [
      "fold 5: mean position error 4.170770132196777\n"
     ]
    },
    {
     "name": "stderr",
     "output_type": "stream",
     "text": [
      "[0.4GB(+0.0GB): 0.198sec] fit X\n",
      "[0.4GB(+0.0GB): 0.212sec] fit Y\n",
      "[0.4GB(+0.0GB): 0.109sec] fit F\n",
      "[0.4GB(+0.0GB): 0.016sec] Pred X\n",
      "[0.4GB(+0.0GB): 0.000sec] Pred Y\n",
      "[0.4GB(+0.0GB): 0.016sec] Pred F\n"
     ]
    },
    {
     "name": "stdout",
     "output_type": "stream",
     "text": [
      "fold 6: mean position error 3.6698475019807417\n"
     ]
    },
    {
     "name": "stderr",
     "output_type": "stream",
     "text": [
      "[0.4GB(+0.0GB): 0.201sec] fit X\n",
      "[0.4GB(+0.0GB): 0.219sec] fit Y\n",
      "[0.4GB(+0.0GB): 0.094sec] fit F\n",
      "[0.4GB(+0.0GB): 0.000sec] Pred X\n",
      "[0.4GB(+0.0GB): 0.016sec] Pred Y\n",
      "[0.4GB(+0.0GB): 0.000sec] Pred F\n"
     ]
    },
    {
     "name": "stdout",
     "output_type": "stream",
     "text": [
      "fold 7: mean position error 3.8163047823141105\n"
     ]
    },
    {
     "name": "stderr",
     "output_type": "stream",
     "text": [
      "[0.4GB(+0.0GB): 0.217sec] fit X\n",
      "[0.4GB(+0.0GB): 0.198sec] fit Y\n",
      "[0.4GB(+0.0GB): 0.107sec] fit F\n",
      "[0.4GB(+0.0GB): 0.016sec] Pred X\n",
      "[0.4GB(+0.0GB): 0.000sec] Pred Y\n",
      "[0.4GB(+0.0GB): 0.016sec] Pred F\n"
     ]
    },
    {
     "name": "stdout",
     "output_type": "stream",
     "text": [
      "fold 8: mean position error 4.275826454755577\n"
     ]
    },
    {
     "name": "stderr",
     "output_type": "stream",
     "text": [
      "[0.4GB(+0.0GB): 0.188sec] fit X\n",
      "[0.4GB(+0.0GB): 0.195sec] fit Y\n",
      "[0.4GB(+0.0GB): 0.122sec] fit F\n",
      "[0.4GB(+0.0GB): 0.000sec] Pred X\n",
      "[0.4GB(+0.0GB): 0.016sec] Pred Y\n",
      "[0.4GB(+0.0GB): 0.000sec] Pred F\n"
     ]
    },
    {
     "name": "stdout",
     "output_type": "stream",
     "text": [
      "fold 9: mean position error 3.509297381390399\n",
      "*+*+*+*+*+*+*+*+*+*+*+*+*+*+*+*+*+*+*+*+*+*+*+*+*+*+*+*+*+*+*+*+*+*+*+*+*+*+*+*+\n",
      "file #12, shape=(2662, 494), name=5da138274db8ce0c98bbd3d2_train.csv\n",
      "mean position error 4.02675905319705\n",
      "*+*+*+*+*+*+*+*+*+*+*+*+*+*+*+*+*+*+*+*+*+*+*+*+*+*+*+*+*+*+*+*+*+*+*+*+*+*+*+*+\n",
      "process training set for site file num 13\n",
      "process testing set for site file num 13\n"
     ]
    },
    {
     "name": "stderr",
     "output_type": "stream",
     "text": [
      "[0.7GB(+0.0GB): 5.702sec] fit X\n",
      "[0.7GB(+0.0GB): 6.156sec] fit Y\n",
      "[0.7GB(+0.0GB): 3.854sec] fit F\n",
      "[0.7GB(+0.0GB): 0.031sec] Pred X\n",
      "[0.7GB(+0.0GB): 0.047sec] Pred Y\n",
      "[0.7GB(+0.0GB): 0.043sec] Pred F\n"
     ]
    },
    {
     "name": "stdout",
     "output_type": "stream",
     "text": [
      "fold 0: mean position error 5.1431482612131525\n"
     ]
    },
    {
     "name": "stderr",
     "output_type": "stream",
     "text": [
      "[0.7GB(+0.0GB): 5.920sec] fit X\n",
      "[0.7GB(+0.0GB): 5.731sec] fit Y\n",
      "[0.7GB(+0.0GB): 3.705sec] fit F\n",
      "[0.7GB(+0.0GB): 0.031sec] Pred X\n",
      "[0.7GB(+0.0GB): 0.047sec] Pred Y\n",
      "[0.7GB(+0.0GB): 0.050sec] Pred F\n"
     ]
    },
    {
     "name": "stdout",
     "output_type": "stream",
     "text": [
      "fold 1: mean position error 5.3748074059128115\n"
     ]
    },
    {
     "name": "stderr",
     "output_type": "stream",
     "text": [
      "[0.7GB(+0.0GB): 5.847sec] fit X\n",
      "[0.7GB(-0.0GB): 6.102sec] fit Y\n",
      "[0.7GB(+0.0GB): 3.976sec] fit F\n",
      "[0.7GB(+0.0GB): 0.047sec] Pred X\n",
      "[0.7GB(+0.0GB): 0.031sec] Pred Y\n",
      "[0.7GB(+0.0GB): 0.047sec] Pred F\n"
     ]
    },
    {
     "name": "stdout",
     "output_type": "stream",
     "text": [
      "fold 2: mean position error 5.121872377317274\n"
     ]
    },
    {
     "name": "stderr",
     "output_type": "stream",
     "text": [
      "[0.7GB(-0.0GB): 6.177sec] fit X\n",
      "[0.7GB(+0.0GB): 6.307sec] fit Y\n",
      "[0.7GB(+0.0GB): 3.833sec] fit F\n",
      "[0.7GB(+0.0GB): 0.031sec] Pred X\n",
      "[0.7GB(+0.0GB): 0.031sec] Pred Y\n",
      "[0.7GB(+0.0GB): 0.049sec] Pred F\n"
     ]
    },
    {
     "name": "stdout",
     "output_type": "stream",
     "text": [
      "fold 3: mean position error 5.707835119936876\n"
     ]
    },
    {
     "name": "stderr",
     "output_type": "stream",
     "text": [
      "[0.7GB(+0.0GB): 5.919sec] fit X\n",
      "[0.7GB(+0.0GB): 6.260sec] fit Y\n",
      "[0.7GB(+0.0GB): 3.830sec] fit F\n",
      "[0.7GB(+0.0GB): 0.047sec] Pred X\n",
      "[0.7GB(+0.0GB): 0.031sec] Pred Y\n",
      "[0.7GB(+0.0GB): 0.045sec] Pred F\n"
     ]
    },
    {
     "name": "stdout",
     "output_type": "stream",
     "text": [
      "fold 4: mean position error 5.370012660410771\n"
     ]
    },
    {
     "name": "stderr",
     "output_type": "stream",
     "text": [
      "[0.7GB(+0.0GB): 5.517sec] fit X\n",
      "[0.7GB(+0.0GB): 5.939sec] fit Y\n",
      "[0.7GB(+0.0GB): 3.793sec] fit F\n",
      "[0.7GB(+0.0GB): 0.031sec] Pred X\n",
      "[0.7GB(+0.0GB): 0.031sec] Pred Y\n",
      "[0.7GB(+0.0GB): 0.037sec] Pred F\n"
     ]
    },
    {
     "name": "stdout",
     "output_type": "stream",
     "text": [
      "fold 5: mean position error 5.398838264215556\n"
     ]
    },
    {
     "name": "stderr",
     "output_type": "stream",
     "text": [
      "[0.7GB(+0.0GB): 5.843sec] fit X\n",
      "[0.7GB(+0.0GB): 6.021sec] fit Y\n",
      "[0.7GB(+0.0GB): 3.985sec] fit F\n",
      "[0.7GB(+0.0GB): 0.031sec] Pred X\n",
      "[0.7GB(+0.0GB): 0.031sec] Pred Y\n",
      "[0.7GB(+0.0GB): 0.047sec] Pred F\n"
     ]
    },
    {
     "name": "stdout",
     "output_type": "stream",
     "text": [
      "fold 6: mean position error 5.084776467471592\n"
     ]
    },
    {
     "name": "stderr",
     "output_type": "stream",
     "text": [
      "[0.7GB(+0.0GB): 5.952sec] fit X\n",
      "[0.7GB(-0.0GB): 6.234sec] fit Y\n",
      "[0.7GB(+0.0GB): 4.077sec] fit F\n",
      "[0.7GB(+0.0GB): 0.031sec] Pred X\n",
      "[0.7GB(+0.0GB): 0.045sec] Pred Y\n",
      "[0.7GB(+0.0GB): 0.042sec] Pred F\n"
     ]
    },
    {
     "name": "stdout",
     "output_type": "stream",
     "text": [
      "fold 7: mean position error 5.527623534840221\n"
     ]
    },
    {
     "name": "stderr",
     "output_type": "stream",
     "text": [
      "[0.7GB(+0.0GB): 5.830sec] fit X\n",
      "[0.7GB(-0.0GB): 6.098sec] fit Y\n",
      "[0.7GB(+0.0GB): 3.820sec] fit F\n",
      "[0.7GB(+0.0GB): 0.031sec] Pred X\n",
      "[0.7GB(+0.0GB): 0.031sec] Pred Y\n",
      "[0.7GB(+0.0GB): 0.057sec] Pred F\n"
     ]
    },
    {
     "name": "stdout",
     "output_type": "stream",
     "text": [
      "fold 8: mean position error 5.285401628778851\n"
     ]
    },
    {
     "name": "stderr",
     "output_type": "stream",
     "text": [
      "[0.7GB(+0.0GB): 6.097sec] fit X\n",
      "[0.7GB(+0.0GB): 6.284sec] fit Y\n",
      "[0.7GB(+0.0GB): 3.725sec] fit F\n",
      "[0.7GB(+0.0GB): 0.031sec] Pred X\n",
      "[0.7GB(+0.0GB): 0.047sec] Pred Y\n",
      "[0.7GB(+0.0GB): 0.056sec] Pred F\n"
     ]
    },
    {
     "name": "stdout",
     "output_type": "stream",
     "text": [
      "fold 9: mean position error 5.609031326510857\n",
      "*+*+*+*+*+*+*+*+*+*+*+*+*+*+*+*+*+*+*+*+*+*+*+*+*+*+*+*+*+*+*+*+*+*+*+*+*+*+*+*+\n",
      "file #13, shape=(8999, 2866), name=5da1382d4db8ce0c98bbe92e_train.csv\n",
      "mean position error 5.362307290879059\n",
      "*+*+*+*+*+*+*+*+*+*+*+*+*+*+*+*+*+*+*+*+*+*+*+*+*+*+*+*+*+*+*+*+*+*+*+*+*+*+*+*+\n",
      "process training set for site file num 14\n",
      "process testing set for site file num 14\n"
     ]
    },
    {
     "name": "stderr",
     "output_type": "stream",
     "text": [
      "[0.5GB(+0.0GB): 2.781sec] fit X\n",
      "[0.5GB(+0.0GB): 2.562sec] fit Y\n",
      "[0.5GB(+0.0GB): 0.925sec] fit F\n",
      "[0.5GB(+0.0GB): 0.000sec] Pred X\n",
      "[0.5GB(+0.0GB): 0.000sec] Pred Y\n",
      "[0.5GB(+0.0GB): 0.000sec] Pred F\n"
     ]
    },
    {
     "name": "stdout",
     "output_type": "stream",
     "text": [
      "fold 0: mean position error 2.180685777192464\n"
     ]
    },
    {
     "name": "stderr",
     "output_type": "stream",
     "text": [
      "[0.5GB(+0.0GB): 2.710sec] fit X\n",
      "[0.5GB(+0.0GB): 2.584sec] fit Y\n",
      "[0.5GB(+0.0GB): 0.966sec] fit F\n",
      "[0.5GB(+0.0GB): 0.016sec] Pred X\n",
      "[0.5GB(+0.0GB): 0.016sec] Pred Y\n",
      "[0.5GB(+0.0GB): 0.016sec] Pred F\n"
     ]
    },
    {
     "name": "stdout",
     "output_type": "stream",
     "text": [
      "fold 1: mean position error 2.035800192547086\n"
     ]
    },
    {
     "name": "stderr",
     "output_type": "stream",
     "text": [
      "[0.5GB(+0.0GB): 2.741sec] fit X\n",
      "[0.5GB(+0.0GB): 2.622sec] fit Y\n",
      "[0.5GB(+0.0GB): 0.930sec] fit F\n",
      "[0.5GB(+0.0GB): 0.016sec] Pred X\n",
      "[0.5GB(+0.0GB): 0.016sec] Pred Y\n",
      "[0.5GB(+0.0GB): 0.016sec] Pred F\n"
     ]
    },
    {
     "name": "stdout",
     "output_type": "stream",
     "text": [
      "fold 2: mean position error 2.1496710136790322\n"
     ]
    },
    {
     "name": "stderr",
     "output_type": "stream",
     "text": [
      "[0.5GB(+0.0GB): 2.693sec] fit X\n",
      "[0.5GB(+0.0GB): 2.588sec] fit Y\n",
      "[0.5GB(+0.0GB): 0.911sec] fit F\n",
      "[0.5GB(+0.0GB): 0.016sec] Pred X\n",
      "[0.5GB(+0.0GB): 0.016sec] Pred Y\n",
      "[0.5GB(+0.0GB): 0.016sec] Pred F\n"
     ]
    },
    {
     "name": "stdout",
     "output_type": "stream",
     "text": [
      "fold 3: mean position error 2.581044685088503\n"
     ]
    },
    {
     "name": "stderr",
     "output_type": "stream",
     "text": [
      "[0.5GB(+0.0GB): 2.859sec] fit X\n",
      "[0.5GB(+0.0GB): 2.565sec] fit Y\n",
      "[0.5GB(+0.0GB): 0.926sec] fit F\n",
      "[0.5GB(+0.0GB): 0.016sec] Pred X\n",
      "[0.5GB(+0.0GB): 0.016sec] Pred Y\n",
      "[0.5GB(+0.0GB): 0.016sec] Pred F\n"
     ]
    },
    {
     "name": "stdout",
     "output_type": "stream",
     "text": [
      "fold 4: mean position error 2.466235174337346\n"
     ]
    },
    {
     "name": "stderr",
     "output_type": "stream",
     "text": [
      "[0.5GB(+0.0GB): 2.920sec] fit X\n",
      "[0.5GB(+0.0GB): 2.699sec] fit Y\n",
      "[0.5GB(+0.0GB): 0.952sec] fit F\n",
      "[0.5GB(+0.0GB): 0.016sec] Pred X\n",
      "[0.5GB(+0.0GB): 0.016sec] Pred Y\n",
      "[0.5GB(+0.0GB): 0.016sec] Pred F\n"
     ]
    },
    {
     "name": "stdout",
     "output_type": "stream",
     "text": [
      "fold 5: mean position error 2.544247130659339\n"
     ]
    },
    {
     "name": "stderr",
     "output_type": "stream",
     "text": [
      "[0.5GB(+0.0GB): 2.880sec] fit X\n",
      "[0.5GB(+0.0GB): 2.629sec] fit Y\n",
      "[0.5GB(+0.0GB): 0.945sec] fit F\n",
      "[0.5GB(+0.0GB): 0.016sec] Pred X\n",
      "[0.5GB(+0.0GB): 0.016sec] Pred Y\n",
      "[0.5GB(+0.0GB): 0.016sec] Pred F\n"
     ]
    },
    {
     "name": "stdout",
     "output_type": "stream",
     "text": [
      "fold 6: mean position error 2.213801463805043\n"
     ]
    },
    {
     "name": "stderr",
     "output_type": "stream",
     "text": [
      "[0.5GB(+0.0GB): 2.770sec] fit X\n",
      "[0.5GB(+0.0GB): 2.638sec] fit Y\n",
      "[0.5GB(+0.0GB): 0.947sec] fit F\n",
      "[0.5GB(+0.0GB): 0.016sec] Pred X\n",
      "[0.5GB(+0.0GB): 0.016sec] Pred Y\n",
      "[0.5GB(+0.0GB): 0.016sec] Pred F\n"
     ]
    },
    {
     "name": "stdout",
     "output_type": "stream",
     "text": [
      "fold 7: mean position error 2.319036578638809\n"
     ]
    },
    {
     "name": "stderr",
     "output_type": "stream",
     "text": [
      "[0.5GB(+0.0GB): 2.543sec] fit X\n",
      "[0.5GB(+0.0GB): 2.623sec] fit Y\n",
      "[0.5GB(+0.0GB): 0.914sec] fit F\n",
      "[0.5GB(+0.0GB): 0.016sec] Pred X\n",
      "[0.5GB(+0.0GB): 0.016sec] Pred Y\n",
      "[0.5GB(+0.0GB): 0.016sec] Pred F\n"
     ]
    },
    {
     "name": "stdout",
     "output_type": "stream",
     "text": [
      "fold 8: mean position error 2.4829585215906866\n"
     ]
    },
    {
     "name": "stderr",
     "output_type": "stream",
     "text": [
      "[0.5GB(+0.0GB): 2.718sec] fit X\n",
      "[0.5GB(+0.0GB): 2.570sec] fit Y\n",
      "[0.5GB(+0.0GB): 0.942sec] fit F\n",
      "[0.5GB(+0.0GB): 0.016sec] Pred X\n",
      "[0.5GB(+0.0GB): 0.016sec] Pred Y\n",
      "[0.5GB(+0.0GB): 0.016sec] Pred F\n"
     ]
    },
    {
     "name": "stdout",
     "output_type": "stream",
     "text": [
      "fold 9: mean position error 2.5307108135196477\n",
      "*+*+*+*+*+*+*+*+*+*+*+*+*+*+*+*+*+*+*+*+*+*+*+*+*+*+*+*+*+*+*+*+*+*+*+*+*+*+*+*+\n",
      "file #14, shape=(9012, 1216), name=5da138314db8ce0c98bbf3a0_train.csv\n",
      "mean position error 2.3503653898438706\n",
      "*+*+*+*+*+*+*+*+*+*+*+*+*+*+*+*+*+*+*+*+*+*+*+*+*+*+*+*+*+*+*+*+*+*+*+*+*+*+*+*+\n",
      "process training set for site file num 15\n",
      "process testing set for site file num 15\n"
     ]
    },
    {
     "name": "stderr",
     "output_type": "stream",
     "text": [
      "[0.3GB(+0.0GB): 0.359sec] fit X\n",
      "[0.3GB(+0.0GB): 0.298sec] fit Y\n",
      "[0.3GB(+0.0GB): 0.125sec] fit F\n",
      "[0.3GB(+0.0GB): 0.016sec] Pred X\n",
      "[0.3GB(+0.0GB): 0.016sec] Pred Y\n",
      "[0.3GB(+0.0GB): 0.016sec] Pred F\n"
     ]
    },
    {
     "name": "stdout",
     "output_type": "stream",
     "text": [
      "fold 0: mean position error 2.8231128111791604\n"
     ]
    },
    {
     "name": "stderr",
     "output_type": "stream",
     "text": [
      "[0.3GB(+0.0GB): 0.354sec] fit X\n",
      "[0.3GB(+0.0GB): 0.309sec] fit Y\n",
      "[0.3GB(+0.0GB): 0.110sec] fit F\n",
      "[0.3GB(+0.0GB): 0.016sec] Pred X\n",
      "[0.3GB(+0.0GB): 0.034sec] Pred Y\n",
      "[0.3GB(+0.0GB): 0.013sec] Pred F\n"
     ]
    },
    {
     "name": "stdout",
     "output_type": "stream",
     "text": [
      "fold 1: mean position error 2.5285016515724656\n"
     ]
    },
    {
     "name": "stderr",
     "output_type": "stream",
     "text": [
      "[0.3GB(+0.0GB): 0.376sec] fit X\n",
      "[0.3GB(+0.0GB): 0.293sec] fit Y\n",
      "[0.3GB(+0.0GB): 0.109sec] fit F\n",
      "[0.3GB(+0.0GB): 0.016sec] Pred X\n",
      "[0.3GB(+0.0GB): 0.016sec] Pred Y\n",
      "[0.3GB(+0.0GB): 0.000sec] Pred F\n"
     ]
    },
    {
     "name": "stdout",
     "output_type": "stream",
     "text": [
      "fold 2: mean position error 2.6695362207953206\n"
     ]
    },
    {
     "name": "stderr",
     "output_type": "stream",
     "text": [
      "[0.3GB(+0.0GB): 0.378sec] fit X\n",
      "[0.3GB(+0.0GB): 0.293sec] fit Y\n",
      "[0.3GB(+0.0GB): 0.125sec] fit F\n",
      "[0.3GB(+0.0GB): 0.016sec] Pred X\n",
      "[0.3GB(+0.0GB): 0.016sec] Pred Y\n",
      "[0.3GB(+0.0GB): 0.000sec] Pred F\n"
     ]
    },
    {
     "name": "stdout",
     "output_type": "stream",
     "text": [
      "fold 3: mean position error 3.1098105390316237\n"
     ]
    },
    {
     "name": "stderr",
     "output_type": "stream",
     "text": [
      "[0.3GB(+0.0GB): 0.375sec] fit X\n",
      "[0.3GB(+0.0GB): 0.292sec] fit Y\n",
      "[0.3GB(+0.0GB): 0.109sec] fit F\n",
      "[0.3GB(+0.0GB): 0.016sec] Pred X\n",
      "[0.3GB(+0.0GB): 0.000sec] Pred Y\n",
      "[0.3GB(+0.0GB): 0.016sec] Pred F\n"
     ]
    },
    {
     "name": "stdout",
     "output_type": "stream",
     "text": [
      "fold 4: mean position error 2.88885680905096\n"
     ]
    },
    {
     "name": "stderr",
     "output_type": "stream",
     "text": [
      "[0.3GB(+0.0GB): 0.375sec] fit X\n",
      "[0.3GB(+0.0GB): 0.281sec] fit Y\n",
      "[0.3GB(+0.0GB): 0.125sec] fit F\n",
      "[0.3GB(+0.0GB): 0.000sec] Pred X\n",
      "[0.3GB(+0.0GB): 0.016sec] Pred Y\n",
      "[0.3GB(+0.0GB): 0.016sec] Pred F\n"
     ]
    },
    {
     "name": "stdout",
     "output_type": "stream",
     "text": [
      "fold 5: mean position error 2.217142101278149\n"
     ]
    },
    {
     "name": "stderr",
     "output_type": "stream",
     "text": [
      "[0.3GB(+0.0GB): 0.378sec] fit X\n",
      "[0.3GB(+0.0GB): 0.279sec] fit Y\n",
      "[0.3GB(+0.0GB): 0.129sec] fit F\n",
      "[0.3GB(+0.0GB): 0.016sec] Pred X\n",
      "[0.3GB(+0.0GB): 0.016sec] Pred Y\n",
      "[0.3GB(+0.0GB): 0.016sec] Pred F\n"
     ]
    },
    {
     "name": "stdout",
     "output_type": "stream",
     "text": [
      "fold 6: mean position error 3.1030062850851876\n"
     ]
    },
    {
     "name": "stderr",
     "output_type": "stream",
     "text": [
      "[0.3GB(+0.0GB): 0.373sec] fit X\n",
      "[0.3GB(+0.0GB): 0.292sec] fit Y\n",
      "[0.3GB(+0.0GB): 0.125sec] fit F\n",
      "[0.3GB(+0.0GB): 0.000sec] Pred X\n",
      "[0.3GB(+0.0GB): 0.016sec] Pred Y\n",
      "[0.3GB(+0.0GB): 0.016sec] Pred F\n"
     ]
    },
    {
     "name": "stdout",
     "output_type": "stream",
     "text": [
      "fold 7: mean position error 2.9243260419707844\n"
     ]
    },
    {
     "name": "stderr",
     "output_type": "stream",
     "text": [
      "[0.3GB(+0.0GB): 0.386sec] fit X\n",
      "[0.3GB(+0.0GB): 0.290sec] fit Y\n",
      "[0.3GB(+0.0GB): 0.125sec] fit F\n",
      "[0.3GB(+0.0GB): 0.000sec] Pred X\n",
      "[0.3GB(+0.0GB): 0.016sec] Pred Y\n",
      "[0.3GB(+0.0GB): 0.016sec] Pred F\n"
     ]
    },
    {
     "name": "stdout",
     "output_type": "stream",
     "text": [
      "fold 8: mean position error 2.8515428063060115\n"
     ]
    },
    {
     "name": "stderr",
     "output_type": "stream",
     "text": [
      "[0.3GB(+0.0GB): 0.375sec] fit X\n",
      "[0.3GB(+0.0GB): 0.308sec] fit Y\n",
      "[0.3GB(+0.0GB): 0.125sec] fit F\n",
      "[0.3GB(+0.0GB): 0.000sec] Pred X\n",
      "[0.3GB(+0.0GB): 0.016sec] Pred Y\n",
      "[0.3GB(+0.0GB): 0.016sec] Pred F\n"
     ]
    },
    {
     "name": "stdout",
     "output_type": "stream",
     "text": [
      "fold 9: mean position error 2.909609489164562\n",
      "*+*+*+*+*+*+*+*+*+*+*+*+*+*+*+*+*+*+*+*+*+*+*+*+*+*+*+*+*+*+*+*+*+*+*+*+*+*+*+*+\n",
      "file #15, shape=(2767, 826), name=5da138364db8ce0c98bc00f1_train.csv\n",
      "mean position error 2.8024440617700903\n",
      "*+*+*+*+*+*+*+*+*+*+*+*+*+*+*+*+*+*+*+*+*+*+*+*+*+*+*+*+*+*+*+*+*+*+*+*+*+*+*+*+\n",
      "process training set for site file num 16\n",
      "process testing set for site file num 16\n"
     ]
    },
    {
     "name": "stderr",
     "output_type": "stream",
     "text": [
      "[0.8GB(+0.0GB): 3.343sec] fit X\n",
      "[0.8GB(+0.0GB): 3.616sec] fit Y\n",
      "[0.8GB(+0.0GB): 3.572sec] fit F\n",
      "[0.8GB(+0.0GB): 0.031sec] Pred X\n",
      "[0.8GB(+0.0GB): 0.016sec] Pred Y\n",
      "[0.8GB(+0.0GB): 0.031sec] Pred F\n"
     ]
    },
    {
     "name": "stdout",
     "output_type": "stream",
     "text": [
      "fold 0: mean position error 3.843287954136002\n"
     ]
    },
    {
     "name": "stderr",
     "output_type": "stream",
     "text": [
      "[0.8GB(+0.0GB): 3.261sec] fit X\n",
      "[0.8GB(+0.0GB): 3.733sec] fit Y\n",
      "[0.8GB(+0.0GB): 3.921sec] fit F\n",
      "[0.8GB(+0.0GB): 0.016sec] Pred X\n",
      "[0.8GB(+0.0GB): 0.031sec] Pred Y\n",
      "[0.8GB(+0.0GB): 0.016sec] Pred F\n"
     ]
    },
    {
     "name": "stdout",
     "output_type": "stream",
     "text": [
      "fold 1: mean position error 3.845212553902156\n"
     ]
    },
    {
     "name": "stderr",
     "output_type": "stream",
     "text": [
      "[0.8GB(+0.0GB): 3.227sec] fit X\n",
      "[0.8GB(+0.0GB): 3.719sec] fit Y\n",
      "[0.8GB(+0.0GB): 3.795sec] fit F\n",
      "[0.8GB(+0.0GB): 0.016sec] Pred X\n",
      "[0.8GB(+0.0GB): 0.016sec] Pred Y\n",
      "[0.8GB(+0.0GB): 0.031sec] Pred F\n"
     ]
    },
    {
     "name": "stdout",
     "output_type": "stream",
     "text": [
      "fold 2: mean position error 3.988464166344785\n"
     ]
    },
    {
     "name": "stderr",
     "output_type": "stream",
     "text": [
      "[0.8GB(+0.0GB): 3.180sec] fit X\n",
      "[0.8GB(+0.0GB): 3.762sec] fit Y\n",
      "[0.8GB(+0.0GB): 3.904sec] fit F\n",
      "[0.8GB(+0.0GB): 0.016sec] Pred X\n",
      "[0.8GB(+0.0GB): 0.031sec] Pred Y\n",
      "[0.8GB(+0.0GB): 0.016sec] Pred F\n"
     ]
    },
    {
     "name": "stdout",
     "output_type": "stream",
     "text": [
      "fold 3: mean position error 4.00852144347936\n"
     ]
    },
    {
     "name": "stderr",
     "output_type": "stream",
     "text": [
      "[0.8GB(+0.0GB): 3.227sec] fit X\n",
      "[0.8GB(+0.0GB): 3.717sec] fit Y\n",
      "[0.8GB(+0.0GB): 3.075sec] fit F\n",
      "[0.8GB(+0.0GB): 0.016sec] Pred X\n",
      "[0.8GB(+0.0GB): 0.016sec] Pred Y\n",
      "[0.8GB(+0.0GB): 0.031sec] Pred F\n"
     ]
    },
    {
     "name": "stdout",
     "output_type": "stream",
     "text": [
      "fold 4: mean position error 3.9628978782666517\n"
     ]
    },
    {
     "name": "stderr",
     "output_type": "stream",
     "text": [
      "[0.8GB(+0.0GB): 3.296sec] fit X\n",
      "[0.8GB(+0.0GB): 3.566sec] fit Y\n",
      "[0.8GB(+0.0GB): 3.707sec] fit F\n",
      "[0.8GB(+0.0GB): 0.016sec] Pred X\n",
      "[0.8GB(+0.0GB): 0.031sec] Pred Y\n",
      "[0.8GB(+0.0GB): 0.016sec] Pred F\n"
     ]
    },
    {
     "name": "stdout",
     "output_type": "stream",
     "text": [
      "fold 5: mean position error 3.834306159781268\n"
     ]
    },
    {
     "name": "stderr",
     "output_type": "stream",
     "text": [
      "[0.8GB(+0.0GB): 3.262sec] fit X\n",
      "[0.8GB(+0.0GB): 3.546sec] fit Y\n",
      "[0.8GB(+0.0GB): 3.706sec] fit F\n",
      "[0.8GB(+0.0GB): 0.016sec] Pred X\n",
      "[0.8GB(+0.0GB): 0.031sec] Pred Y\n",
      "[0.8GB(+0.0GB): 0.016sec] Pred F\n"
     ]
    },
    {
     "name": "stdout",
     "output_type": "stream",
     "text": [
      "fold 6: mean position error 4.125209963378106\n"
     ]
    },
    {
     "name": "stderr",
     "output_type": "stream",
     "text": [
      "[0.8GB(+0.0GB): 3.228sec] fit X\n",
      "[0.8GB(+0.0GB): 3.749sec] fit Y\n",
      "[0.8GB(+0.0GB): 3.922sec] fit F\n",
      "[0.8GB(+0.0GB): 0.016sec] Pred X\n",
      "[0.8GB(+0.0GB): 0.031sec] Pred Y\n",
      "[0.8GB(+0.0GB): 0.016sec] Pred F\n"
     ]
    },
    {
     "name": "stdout",
     "output_type": "stream",
     "text": [
      "fold 7: mean position error 4.064489188993276\n"
     ]
    },
    {
     "name": "stderr",
     "output_type": "stream",
     "text": [
      "[0.8GB(+0.0GB): 3.273sec] fit X\n",
      "[0.8GB(+0.0GB): 3.594sec] fit Y\n",
      "[0.8GB(+0.0GB): 3.913sec] fit F\n",
      "[0.8GB(+0.0GB): 0.016sec] Pred X\n",
      "[0.8GB(+0.0GB): 0.031sec] Pred Y\n",
      "[0.8GB(+0.0GB): 0.016sec] Pred F\n"
     ]
    },
    {
     "name": "stdout",
     "output_type": "stream",
     "text": [
      "fold 8: mean position error 3.838897819692708\n"
     ]
    },
    {
     "name": "stderr",
     "output_type": "stream",
     "text": [
      "[0.8GB(+0.0GB): 3.286sec] fit X\n",
      "[0.8GB(+0.0GB): 3.625sec] fit Y\n",
      "[0.8GB(+0.0GB): 3.741sec] fit F\n",
      "[0.8GB(+0.0GB): 0.016sec] Pred X\n",
      "[0.8GB(+0.0GB): 0.016sec] Pred Y\n",
      "[0.8GB(+0.0GB): 0.016sec] Pred F\n"
     ]
    },
    {
     "name": "stdout",
     "output_type": "stream",
     "text": [
      "fold 9: mean position error 4.106539566636567\n",
      "*+*+*+*+*+*+*+*+*+*+*+*+*+*+*+*+*+*+*+*+*+*+*+*+*+*+*+*+*+*+*+*+*+*+*+*+*+*+*+*+\n",
      "file #16, shape=(13196, 1529), name=5da1383b4db8ce0c98bc11ab_train.csv\n",
      "mean position error 3.961760844221556\n",
      "*+*+*+*+*+*+*+*+*+*+*+*+*+*+*+*+*+*+*+*+*+*+*+*+*+*+*+*+*+*+*+*+*+*+*+*+*+*+*+*+\n",
      "process training set for site file num 17\n",
      "process testing set for site file num 17\n"
     ]
    },
    {
     "name": "stderr",
     "output_type": "stream",
     "text": [
      "[0.6GB(+0.0GB): 1.218sec] fit X\n",
      "[0.6GB(+0.0GB): 1.832sec] fit Y\n",
      "[0.6GB(+0.0GB): 0.884sec] fit F\n",
      "[0.6GB(+0.0GB): 0.016sec] Pred X\n",
      "[0.6GB(+0.0GB): 0.031sec] Pred Y\n",
      "[0.6GB(+0.0GB): 0.016sec] Pred F\n"
     ]
    },
    {
     "name": "stdout",
     "output_type": "stream",
     "text": [
      "fold 0: mean position error 3.334971265054312\n"
     ]
    },
    {
     "name": "stderr",
     "output_type": "stream",
     "text": [
      "[0.6GB(+0.0GB): 1.209sec] fit X\n",
      "[0.6GB(+0.0GB): 1.977sec] fit Y\n",
      "[0.6GB(+0.0GB): 0.951sec] fit F\n",
      "[0.6GB(+0.0GB): 0.016sec] Pred X\n",
      "[0.6GB(+0.0GB): 0.031sec] Pred Y\n",
      "[0.6GB(+0.0GB): 0.031sec] Pred F\n"
     ]
    },
    {
     "name": "stdout",
     "output_type": "stream",
     "text": [
      "fold 1: mean position error 3.56070413281203\n"
     ]
    },
    {
     "name": "stderr",
     "output_type": "stream",
     "text": [
      "[0.6GB(+0.0GB): 1.223sec] fit X\n",
      "[0.6GB(+0.0GB): 1.806sec] fit Y\n",
      "[0.6GB(+0.0GB): 0.864sec] fit F\n",
      "[0.6GB(+0.0GB): 0.031sec] Pred X\n",
      "[0.6GB(+0.0GB): 0.016sec] Pred Y\n",
      "[0.6GB(+0.0GB): 0.031sec] Pred F\n"
     ]
    },
    {
     "name": "stdout",
     "output_type": "stream",
     "text": [
      "fold 2: mean position error 3.3355653241171197\n"
     ]
    },
    {
     "name": "stderr",
     "output_type": "stream",
     "text": [
      "[0.6GB(+0.0GB): 1.261sec] fit X\n",
      "[0.6GB(+0.0GB): 1.871sec] fit Y\n",
      "[0.6GB(+0.0GB): 0.868sec] fit F\n",
      "[0.6GB(+0.0GB): 0.031sec] Pred X\n",
      "[0.6GB(+0.0GB): 0.016sec] Pred Y\n",
      "[0.6GB(+0.0GB): 0.031sec] Pred F\n"
     ]
    },
    {
     "name": "stdout",
     "output_type": "stream",
     "text": [
      "fold 3: mean position error 3.1882735633683312\n"
     ]
    },
    {
     "name": "stderr",
     "output_type": "stream",
     "text": [
      "[0.6GB(+0.0GB): 1.232sec] fit X\n",
      "[0.6GB(+0.0GB): 1.917sec] fit Y\n",
      "[0.6GB(+0.0GB): 0.933sec] fit F\n",
      "[0.6GB(+0.0GB): 0.016sec] Pred X\n",
      "[0.6GB(+0.0GB): 0.031sec] Pred Y\n",
      "[0.6GB(+0.0GB): 0.016sec] Pred F\n"
     ]
    },
    {
     "name": "stdout",
     "output_type": "stream",
     "text": [
      "fold 4: mean position error 3.369865468903437\n"
     ]
    },
    {
     "name": "stderr",
     "output_type": "stream",
     "text": [
      "[0.6GB(+0.0GB): 1.238sec] fit X\n",
      "[0.6GB(+0.0GB): 1.778sec] fit Y\n",
      "[0.6GB(+0.0GB): 0.890sec] fit F\n",
      "[0.6GB(+0.0GB): 0.031sec] Pred X\n",
      "[0.6GB(+0.0GB): 0.031sec] Pred Y\n",
      "[0.6GB(+0.0GB): 0.016sec] Pred F\n"
     ]
    },
    {
     "name": "stdout",
     "output_type": "stream",
     "text": [
      "fold 5: mean position error 3.4788931134522927\n"
     ]
    },
    {
     "name": "stderr",
     "output_type": "stream",
     "text": [
      "[0.6GB(+0.0GB): 1.242sec] fit X\n",
      "[0.6GB(+0.0GB): 1.793sec] fit Y\n",
      "[0.6GB(+0.0GB): 0.937sec] fit F\n",
      "[0.6GB(+0.0GB): 0.016sec] Pred X\n",
      "[0.6GB(+0.0GB): 0.031sec] Pred Y\n",
      "[0.6GB(+0.0GB): 0.016sec] Pred F\n"
     ]
    },
    {
     "name": "stdout",
     "output_type": "stream",
     "text": [
      "fold 6: mean position error 3.2600547599335887\n"
     ]
    },
    {
     "name": "stderr",
     "output_type": "stream",
     "text": [
      "[0.6GB(+0.0GB): 1.222sec] fit X\n",
      "[0.6GB(+0.0GB): 1.917sec] fit Y\n",
      "[0.6GB(+0.0GB): 0.870sec] fit F\n",
      "[0.6GB(+0.0GB): 0.031sec] Pred X\n",
      "[0.6GB(+0.0GB): 0.016sec] Pred Y\n",
      "[0.6GB(+0.0GB): 0.031sec] Pred F\n"
     ]
    },
    {
     "name": "stdout",
     "output_type": "stream",
     "text": [
      "fold 7: mean position error 3.04197530571125\n"
     ]
    },
    {
     "name": "stderr",
     "output_type": "stream",
     "text": [
      "[0.6GB(+0.0GB): 1.228sec] fit X\n",
      "[0.6GB(+0.0GB): 1.855sec] fit Y\n",
      "[0.6GB(+0.0GB): 0.833sec] fit F\n",
      "[0.6GB(+0.0GB): 0.016sec] Pred X\n",
      "[0.6GB(+0.0GB): 0.031sec] Pred Y\n",
      "[0.6GB(+0.0GB): 0.016sec] Pred F\n"
     ]
    },
    {
     "name": "stdout",
     "output_type": "stream",
     "text": [
      "fold 8: mean position error 3.357688279051715\n"
     ]
    },
    {
     "name": "stderr",
     "output_type": "stream",
     "text": [
      "[0.6GB(+0.0GB): 1.244sec] fit X\n",
      "[0.6GB(+0.0GB): 1.902sec] fit Y\n",
      "[0.6GB(+0.0GB): 0.915sec] fit F\n",
      "[0.6GB(+0.0GB): 0.031sec] Pred X\n",
      "[0.6GB(+0.0GB): 0.016sec] Pred Y\n",
      "[0.6GB(+0.0GB): 0.031sec] Pred F\n"
     ]
    },
    {
     "name": "stdout",
     "output_type": "stream",
     "text": [
      "fold 9: mean position error 3.0700914510519923\n",
      "*+*+*+*+*+*+*+*+*+*+*+*+*+*+*+*+*+*+*+*+*+*+*+*+*+*+*+*+*+*+*+*+*+*+*+*+*+*+*+*+\n",
      "file #17, shape=(7188, 1631), name=5da138754db8ce0c98bca82f_train.csv\n",
      "mean position error 3.299832172411632\n",
      "*+*+*+*+*+*+*+*+*+*+*+*+*+*+*+*+*+*+*+*+*+*+*+*+*+*+*+*+*+*+*+*+*+*+*+*+*+*+*+*+\n",
      "process training set for site file num 18\n",
      "process testing set for site file num 18\n"
     ]
    },
    {
     "name": "stderr",
     "output_type": "stream",
     "text": [
      "[0.7GB(+0.0GB): 2.437sec] fit X\n",
      "[0.7GB(+0.0GB): 2.773sec] fit Y\n",
      "[0.7GB(+0.0GB): 1.846sec] fit F\n",
      "[0.7GB(+0.0GB): 0.031sec] Pred X\n",
      "[0.7GB(+0.0GB): 0.031sec] Pred Y\n",
      "[0.7GB(+0.0GB): 0.031sec] Pred F\n"
     ]
    },
    {
     "name": "stdout",
     "output_type": "stream",
     "text": [
      "fold 0: mean position error 4.218010216971083\n"
     ]
    },
    {
     "name": "stderr",
     "output_type": "stream",
     "text": [
      "[0.7GB(+0.0GB): 2.506sec] fit X\n",
      "[0.7GB(+0.0GB): 2.594sec] fit Y\n",
      "[0.7GB(+0.0GB): 1.849sec] fit F\n",
      "[0.7GB(+0.0GB): 0.031sec] Pred X\n",
      "[0.7GB(+0.0GB): 0.031sec] Pred Y\n",
      "[0.7GB(+0.0GB): 0.031sec] Pred F\n"
     ]
    },
    {
     "name": "stdout",
     "output_type": "stream",
     "text": [
      "fold 1: mean position error 4.167497813110986\n"
     ]
    },
    {
     "name": "stderr",
     "output_type": "stream",
     "text": [
      "[0.7GB(-0.0GB): 2.445sec] fit X\n",
      "[0.7GB(-0.0GB): 2.691sec] fit Y\n",
      "[0.7GB(+0.0GB): 1.842sec] fit F\n",
      "[0.7GB(+0.0GB): 0.031sec] Pred X\n",
      "[0.7GB(+0.0GB): 0.031sec] Pred Y\n",
      "[0.7GB(+0.0GB): 0.031sec] Pred F\n"
     ]
    },
    {
     "name": "stdout",
     "output_type": "stream",
     "text": [
      "fold 2: mean position error 3.996220742036983\n"
     ]
    },
    {
     "name": "stderr",
     "output_type": "stream",
     "text": [
      "[0.7GB(+0.0GB): 2.337sec] fit X\n",
      "[0.7GB(+0.0GB): 2.597sec] fit Y\n",
      "[0.7GB(+0.0GB): 1.821sec] fit F\n",
      "[0.7GB(+0.0GB): 0.031sec] Pred X\n",
      "[0.7GB(+0.0GB): 0.031sec] Pred Y\n",
      "[0.7GB(+0.0GB): 0.031sec] Pred F\n"
     ]
    },
    {
     "name": "stdout",
     "output_type": "stream",
     "text": [
      "fold 3: mean position error 4.097244432646873\n"
     ]
    },
    {
     "name": "stderr",
     "output_type": "stream",
     "text": [
      "[0.7GB(+0.0GB): 2.444sec] fit X\n",
      "[0.7GB(+0.0GB): 2.717sec] fit Y\n",
      "[0.7GB(+0.0GB): 1.811sec] fit F\n",
      "[0.7GB(+0.0GB): 0.031sec] Pred X\n",
      "[0.7GB(+0.0GB): 0.031sec] Pred Y\n",
      "[0.7GB(+0.0GB): 0.031sec] Pred F\n"
     ]
    },
    {
     "name": "stdout",
     "output_type": "stream",
     "text": [
      "fold 4: mean position error 3.7421861117827744\n"
     ]
    },
    {
     "name": "stderr",
     "output_type": "stream",
     "text": [
      "[0.7GB(+0.0GB): 2.473sec] fit X\n",
      "[0.7GB(+0.0GB): 2.671sec] fit Y\n",
      "[0.7GB(+0.0GB): 1.870sec] fit F\n",
      "[0.7GB(+0.0GB): 0.031sec] Pred X\n",
      "[0.7GB(+0.0GB): 0.031sec] Pred Y\n",
      "[0.7GB(+0.0GB): 0.031sec] Pred F\n"
     ]
    },
    {
     "name": "stdout",
     "output_type": "stream",
     "text": [
      "fold 5: mean position error 4.014778876499234\n"
     ]
    },
    {
     "name": "stderr",
     "output_type": "stream",
     "text": [
      "[0.7GB(+0.0GB): 2.459sec] fit X\n",
      "[0.7GB(+0.0GB): 2.797sec] fit Y\n",
      "[0.7GB(+0.0GB): 1.798sec] fit F\n",
      "[0.7GB(+0.0GB): 0.016sec] Pred X\n",
      "[0.7GB(+0.0GB): 0.031sec] Pred Y\n",
      "[0.7GB(+0.0GB): 0.031sec] Pred F\n"
     ]
    },
    {
     "name": "stdout",
     "output_type": "stream",
     "text": [
      "fold 6: mean position error 3.6544502528905016\n"
     ]
    },
    {
     "name": "stderr",
     "output_type": "stream",
     "text": [
      "[0.7GB(+0.0GB): 2.410sec] fit X\n",
      "[0.7GB(+0.0GB): 2.774sec] fit Y\n",
      "[0.7GB(+0.0GB): 1.845sec] fit F\n",
      "[0.7GB(+0.0GB): 0.031sec] Pred X\n",
      "[0.7GB(+0.0GB): 0.031sec] Pred Y\n",
      "[0.7GB(+0.0GB): 0.031sec] Pred F\n"
     ]
    },
    {
     "name": "stdout",
     "output_type": "stream",
     "text": [
      "fold 7: mean position error 3.7990826980729895\n"
     ]
    },
    {
     "name": "stderr",
     "output_type": "stream",
     "text": [
      "[0.7GB(+0.0GB): 2.377sec] fit X\n",
      "[0.7GB(+0.0GB): 2.743sec] fit Y\n",
      "[0.7GB(+0.0GB): 1.842sec] fit F\n",
      "[0.7GB(+0.0GB): 0.031sec] Pred X\n",
      "[0.7GB(+0.0GB): 0.031sec] Pred Y\n",
      "[0.7GB(+0.0GB): 0.031sec] Pred F\n"
     ]
    },
    {
     "name": "stdout",
     "output_type": "stream",
     "text": [
      "fold 8: mean position error 4.08846077526164\n"
     ]
    },
    {
     "name": "stderr",
     "output_type": "stream",
     "text": [
      "[0.7GB(+0.0GB): 2.477sec] fit X\n",
      "[0.7GB(+0.0GB): 2.686sec] fit Y\n",
      "[0.7GB(+0.0GB): 1.794sec] fit F\n",
      "[0.7GB(+0.0GB): 0.031sec] Pred X\n",
      "[0.7GB(+0.0GB): 0.047sec] Pred Y\n",
      "[0.7GB(+0.0GB): 0.031sec] Pred F\n"
     ]
    },
    {
     "name": "stdout",
     "output_type": "stream",
     "text": [
      "fold 9: mean position error 4.272360108041082\n",
      "*+*+*+*+*+*+*+*+*+*+*+*+*+*+*+*+*+*+*+*+*+*+*+*+*+*+*+*+*+*+*+*+*+*+*+*+*+*+*+*+\n",
      "file #18, shape=(9420, 1892), name=5da138764db8ce0c98bcaa46_train.csv\n",
      "mean position error 4.005029202731415\n",
      "*+*+*+*+*+*+*+*+*+*+*+*+*+*+*+*+*+*+*+*+*+*+*+*+*+*+*+*+*+*+*+*+*+*+*+*+*+*+*+*+\n",
      "process training set for site file num 19\n",
      "process testing set for site file num 19\n"
     ]
    },
    {
     "name": "stderr",
     "output_type": "stream",
     "text": [
      "[0.5GB(+0.0GB): 1.156sec] fit X\n",
      "[0.5GB(+0.0GB): 1.021sec] fit Y\n",
      "[0.5GB(+0.0GB): 0.517sec] fit F\n",
      "[0.5GB(+0.0GB): 0.016sec] Pred X\n",
      "[0.5GB(+0.0GB): 0.016sec] Pred Y\n",
      "[0.5GB(+0.0GB): 0.016sec] Pred F\n"
     ]
    },
    {
     "name": "stdout",
     "output_type": "stream",
     "text": [
      "fold 0: mean position error 4.691887952968066\n"
     ]
    },
    {
     "name": "stderr",
     "output_type": "stream",
     "text": [
      "[0.5GB(+0.0GB): 1.163sec] fit X\n",
      "[0.5GB(+0.0GB): 1.017sec] fit Y\n",
      "[0.5GB(+0.0GB): 0.516sec] fit F\n",
      "[0.5GB(+0.0GB): 0.016sec] Pred X\n",
      "[0.5GB(+0.0GB): 0.016sec] Pred Y\n",
      "[0.5GB(+0.0GB): 0.016sec] Pred F\n"
     ]
    },
    {
     "name": "stdout",
     "output_type": "stream",
     "text": [
      "fold 1: mean position error 4.589644688795679\n"
     ]
    },
    {
     "name": "stderr",
     "output_type": "stream",
     "text": [
      "[0.5GB(+0.0GB): 1.180sec] fit X\n",
      "[0.5GB(+0.0GB): 0.986sec] fit Y\n",
      "[0.5GB(+0.0GB): 0.516sec] fit F\n",
      "[0.5GB(+0.0GB): 0.016sec] Pred X\n",
      "[0.5GB(+0.0GB): 0.016sec] Pred Y\n",
      "[0.5GB(+0.0GB): 0.000sec] Pred F\n"
     ]
    },
    {
     "name": "stdout",
     "output_type": "stream",
     "text": [
      "fold 2: mean position error 4.373050927860061\n"
     ]
    },
    {
     "name": "stderr",
     "output_type": "stream",
     "text": [
      "[0.5GB(+0.0GB): 1.304sec] fit X\n",
      "[0.5GB(+0.0GB): 0.978sec] fit Y\n",
      "[0.5GB(+0.0GB): 0.530sec] fit F\n",
      "[0.5GB(+0.0GB): 0.016sec] Pred X\n",
      "[0.5GB(+0.0GB): 0.016sec] Pred Y\n",
      "[0.5GB(+0.0GB): 0.016sec] Pred F\n"
     ]
    },
    {
     "name": "stdout",
     "output_type": "stream",
     "text": [
      "fold 3: mean position error 3.860315076281261\n"
     ]
    },
    {
     "name": "stderr",
     "output_type": "stream",
     "text": [
      "[0.5GB(+0.0GB): 1.383sec] fit X\n",
      "[0.5GB(+0.0GB): 0.984sec] fit Y\n",
      "[0.5GB(+0.0GB): 0.529sec] fit F\n",
      "[0.5GB(+0.0GB): 0.000sec] Pred X\n",
      "[0.5GB(+0.0GB): 0.016sec] Pred Y\n",
      "[0.5GB(+0.0GB): 0.016sec] Pred F\n"
     ]
    },
    {
     "name": "stdout",
     "output_type": "stream",
     "text": [
      "fold 4: mean position error 4.394326952977516\n"
     ]
    },
    {
     "name": "stderr",
     "output_type": "stream",
     "text": [
      "[0.5GB(+0.0GB): 1.381sec] fit X\n",
      "[0.5GB(+0.0GB): 1.016sec] fit Y\n",
      "[0.5GB(+0.0GB): 0.516sec] fit F\n",
      "[0.5GB(+0.0GB): 0.016sec] Pred X\n",
      "[0.5GB(+0.0GB): 0.016sec] Pred Y\n",
      "[0.5GB(+0.0GB): 0.000sec] Pred F\n"
     ]
    },
    {
     "name": "stdout",
     "output_type": "stream",
     "text": [
      "fold 5: mean position error 3.9967158199167008\n"
     ]
    },
    {
     "name": "stderr",
     "output_type": "stream",
     "text": [
      "[0.5GB(+0.0GB): 1.240sec] fit X\n",
      "[0.5GB(+0.0GB): 1.008sec] fit Y\n",
      "[0.5GB(+0.0GB): 0.530sec] fit F\n",
      "[0.5GB(+0.0GB): 0.016sec] Pred X\n",
      "[0.5GB(+0.0GB): 0.016sec] Pred Y\n",
      "[0.5GB(+0.0GB): 0.016sec] Pred F\n"
     ]
    },
    {
     "name": "stdout",
     "output_type": "stream",
     "text": [
      "fold 6: mean position error 4.14726459983403\n"
     ]
    },
    {
     "name": "stderr",
     "output_type": "stream",
     "text": [
      "[0.5GB(+0.0GB): 1.226sec] fit X\n",
      "[0.5GB(+0.0GB): 0.990sec] fit Y\n",
      "[0.5GB(+0.0GB): 0.531sec] fit F\n",
      "[0.5GB(+0.0GB): 0.016sec] Pred X\n",
      "[0.5GB(+0.0GB): 0.016sec] Pred Y\n",
      "[0.5GB(+0.0GB): 0.016sec] Pred F\n"
     ]
    },
    {
     "name": "stdout",
     "output_type": "stream",
     "text": [
      "fold 7: mean position error 4.578190994249258\n"
     ]
    },
    {
     "name": "stderr",
     "output_type": "stream",
     "text": [
      "[0.5GB(+0.0GB): 1.319sec] fit X\n",
      "[0.5GB(+0.0GB): 0.995sec] fit Y\n",
      "[0.5GB(+0.0GB): 0.546sec] fit F\n",
      "[0.5GB(+0.0GB): 0.016sec] Pred X\n",
      "[0.5GB(+0.0GB): 0.016sec] Pred Y\n",
      "[0.5GB(+0.0GB): 0.016sec] Pred F\n"
     ]
    },
    {
     "name": "stdout",
     "output_type": "stream",
     "text": [
      "fold 8: mean position error 4.160710005950768\n"
     ]
    },
    {
     "name": "stderr",
     "output_type": "stream",
     "text": [
      "[0.5GB(+0.0GB): 1.149sec] fit X\n",
      "[0.5GB(+0.0GB): 0.984sec] fit Y\n",
      "[0.5GB(+0.0GB): 0.515sec] fit F\n",
      "[0.5GB(+0.0GB): 0.016sec] Pred X\n",
      "[0.5GB(+0.0GB): 0.000sec] Pred Y\n",
      "[0.5GB(+0.0GB): 0.016sec] Pred F\n"
     ]
    },
    {
     "name": "stdout",
     "output_type": "stream",
     "text": [
      "fold 9: mean position error 4.543644357233872\n",
      "*+*+*+*+*+*+*+*+*+*+*+*+*+*+*+*+*+*+*+*+*+*+*+*+*+*+*+*+*+*+*+*+*+*+*+*+*+*+*+*+\n",
      "file #19, shape=(6312, 1025), name=5da1389e4db8ce0c98bd0547_train.csv\n",
      "mean position error 4.333672473216123\n",
      "*+*+*+*+*+*+*+*+*+*+*+*+*+*+*+*+*+*+*+*+*+*+*+*+*+*+*+*+*+*+*+*+*+*+*+*+*+*+*+*+\n",
      "process training set for site file num 20\n",
      "process testing set for site file num 20\n"
     ]
    },
    {
     "name": "stderr",
     "output_type": "stream",
     "text": [
      "[1.4GB(+0.0GB): 22.526sec] fit X\n",
      "[1.4GB(+0.0GB): 15.738sec] fit Y\n",
      "[1.4GB(+0.0GB): 8.542sec] fit F\n",
      "[1.4GB(+0.0GB): 0.094sec] Pred X\n",
      "[1.4GB(+0.0GB): 0.047sec] Pred Y\n",
      "[1.4GB(+0.0GB): 0.047sec] Pred F\n"
     ]
    },
    {
     "name": "stdout",
     "output_type": "stream",
     "text": [
      "fold 0: mean position error 5.274552354799067\n"
     ]
    },
    {
     "name": "stderr",
     "output_type": "stream",
     "text": [
      "[0.9GB(+0.0GB): 14.073sec] fit X\n",
      "[0.9GB(+0.0GB): 14.326sec] fit Y\n",
      "[1.0GB(+0.0GB): 7.912sec] fit F\n",
      "[1.0GB(+0.0GB): 0.078sec] Pred X\n",
      "[1.0GB(+0.0GB): 0.047sec] Pred Y\n",
      "[1.0GB(+0.0GB): 0.062sec] Pred F\n"
     ]
    },
    {
     "name": "stdout",
     "output_type": "stream",
     "text": [
      "fold 1: mean position error 5.170099399101509\n"
     ]
    },
    {
     "name": "stderr",
     "output_type": "stream",
     "text": [
      "[1.0GB(+0.0GB): 13.208sec] fit X\n",
      "[1.0GB(+0.0GB): 14.753sec] fit Y\n",
      "[1.0GB(+0.0GB): 8.001sec] fit F\n",
      "[1.0GB(+0.0GB): 0.053sec] Pred X\n",
      "[1.0GB(+0.0GB): 0.047sec] Pred Y\n",
      "[1.0GB(+0.0GB): 0.062sec] Pred F\n"
     ]
    },
    {
     "name": "stdout",
     "output_type": "stream",
     "text": [
      "fold 2: mean position error 4.611304246304931\n"
     ]
    },
    {
     "name": "stderr",
     "output_type": "stream",
     "text": [
      "[1.0GB(+0.0GB): 13.194sec] fit X\n",
      "[1.0GB(-0.0GB): 12.170sec] fit Y\n",
      "[1.0GB(+0.0GB): 7.885sec] fit F\n",
      "[1.0GB(+0.0GB): 0.056sec] Pred X\n",
      "[1.0GB(+0.0GB): 0.050sec] Pred Y\n",
      "[1.0GB(+0.0GB): 0.062sec] Pred F\n"
     ]
    },
    {
     "name": "stdout",
     "output_type": "stream",
     "text": [
      "fold 3: mean position error 4.7886667836024\n"
     ]
    },
    {
     "name": "stderr",
     "output_type": "stream",
     "text": [
      "[1.0GB(+0.0GB): 13.117sec] fit X\n",
      "[1.0GB(+0.0GB): 14.334sec] fit Y\n",
      "[1.0GB(+0.0GB): 7.554sec] fit F\n",
      "[1.0GB(+0.0GB): 0.063sec] Pred X\n",
      "[1.0GB(-0.0GB): 0.056sec] Pred Y\n",
      "[1.0GB(+0.0GB): 0.047sec] Pred F\n"
     ]
    },
    {
     "name": "stdout",
     "output_type": "stream",
     "text": [
      "fold 4: mean position error 5.157439693406264\n"
     ]
    },
    {
     "name": "stderr",
     "output_type": "stream",
     "text": [
      "[1.0GB(+0.0GB): 13.419sec] fit X\n",
      "[1.0GB(-0.0GB): 14.063sec] fit Y\n",
      "[1.0GB(-0.0GB): 7.932sec] fit F\n",
      "[1.0GB(+0.0GB): 0.064sec] Pred X\n",
      "[1.0GB(+0.0GB): 0.055sec] Pred Y\n",
      "[1.0GB(+0.0GB): 0.047sec] Pred F\n"
     ]
    },
    {
     "name": "stdout",
     "output_type": "stream",
     "text": [
      "fold 5: mean position error 5.000752004758988\n"
     ]
    },
    {
     "name": "stderr",
     "output_type": "stream",
     "text": [
      "[1.0GB(+0.0GB): 12.091sec] fit X\n",
      "[1.0GB(-0.0GB): 13.218sec] fit Y\n",
      "[1.0GB(+0.0GB): 7.548sec] fit F\n",
      "[1.0GB(+0.0GB): 0.053sec] Pred X\n",
      "[1.0GB(-0.0GB): 0.056sec] Pred Y\n",
      "[1.0GB(+0.0GB): 0.035sec] Pred F\n"
     ]
    },
    {
     "name": "stdout",
     "output_type": "stream",
     "text": [
      "fold 6: mean position error 5.095189449800386\n"
     ]
    },
    {
     "name": "stderr",
     "output_type": "stream",
     "text": [
      "[1.0GB(+0.0GB): 12.528sec] fit X\n",
      "[1.0GB(+0.0GB): 14.091sec] fit Y\n",
      "[1.0GB(+0.0GB): 7.693sec] fit F\n",
      "[1.0GB(+0.0GB): 0.058sec] Pred X\n",
      "[1.0GB(+0.0GB): 0.047sec] Pred Y\n",
      "[1.0GB(+0.0GB): 0.063sec] Pred F\n"
     ]
    },
    {
     "name": "stdout",
     "output_type": "stream",
     "text": [
      "fold 7: mean position error 4.759008449889183\n"
     ]
    },
    {
     "name": "stderr",
     "output_type": "stream",
     "text": [
      "[1.0GB(+0.0GB): 13.028sec] fit X\n",
      "[1.0GB(+0.0GB): 14.351sec] fit Y\n",
      "[1.0GB(+0.0GB): 7.820sec] fit F\n",
      "[1.0GB(+0.0GB): 0.061sec] Pred X\n",
      "[1.0GB(+0.0GB): 0.058sec] Pred Y\n",
      "[1.0GB(+0.0GB): 0.047sec] Pred F\n"
     ]
    },
    {
     "name": "stdout",
     "output_type": "stream",
     "text": [
      "fold 8: mean position error 5.470466861400431\n"
     ]
    },
    {
     "name": "stderr",
     "output_type": "stream",
     "text": [
      "[1.0GB(+0.0GB): 12.606sec] fit X\n",
      "[1.0GB(-0.0GB): 14.172sec] fit Y\n",
      "[1.0GB(+0.0GB): 7.966sec] fit F\n",
      "[1.0GB(-0.0GB): 0.053sec] Pred X\n",
      "[1.0GB(+0.0GB): 0.047sec] Pred Y\n",
      "[1.0GB(+0.0GB): 0.062sec] Pred F\n"
     ]
    },
    {
     "name": "stdout",
     "output_type": "stream",
     "text": [
      "fold 9: mean position error 4.8736212213637815\n",
      "*+*+*+*+*+*+*+*+*+*+*+*+*+*+*+*+*+*+*+*+*+*+*+*+*+*+*+*+*+*+*+*+*+*+*+*+*+*+*+*+\n",
      "file #20, shape=(17382, 3539), name=5da138b74db8ce0c98bd4774_train.csv\n",
      "mean position error 5.020133313711191\n",
      "*+*+*+*+*+*+*+*+*+*+*+*+*+*+*+*+*+*+*+*+*+*+*+*+*+*+*+*+*+*+*+*+*+*+*+*+*+*+*+*+\n",
      "process training set for site file num 21\n",
      "process testing set for site file num 21\n"
     ]
    },
    {
     "name": "stderr",
     "output_type": "stream",
     "text": [
      "[0.8GB(+0.0GB): 22.760sec] fit X\n",
      "[0.8GB(+0.0GB): 9.581sec] fit Y\n",
      "[0.8GB(+0.0GB): 6.974sec] fit F\n",
      "[0.8GB(+0.0GB): 0.187sec] Pred X\n",
      "[0.8GB(+0.0GB): 0.078sec] Pred Y\n",
      "[0.8GB(+0.0GB): 0.062sec] Pred F\n"
     ]
    },
    {
     "name": "stdout",
     "output_type": "stream",
     "text": [
      "fold 0: mean position error 4.467691142138096\n"
     ]
    },
    {
     "name": "stderr",
     "output_type": "stream",
     "text": [
      "[0.9GB(+0.0GB): 13.013sec] fit X\n",
      "[0.9GB(+0.0GB): 8.625sec] fit Y\n",
      "[0.9GB(+0.0GB): 5.871sec] fit F\n",
      "[0.9GB(+0.0GB): 0.087sec] Pred X\n",
      "[0.9GB(+0.0GB): 0.063sec] Pred Y\n",
      "[0.9GB(+0.0GB): 0.062sec] Pred F\n"
     ]
    },
    {
     "name": "stdout",
     "output_type": "stream",
     "text": [
      "fold 1: mean position error 3.9736943192349177\n"
     ]
    },
    {
     "name": "stderr",
     "output_type": "stream",
     "text": [
      "[0.9GB(+0.0GB): 13.264sec] fit X\n",
      "[0.9GB(+0.0GB): 8.882sec] fit Y\n",
      "[0.9GB(+0.0GB): 5.729sec] fit F\n",
      "[0.9GB(+0.0GB): 0.078sec] Pred X\n",
      "[0.9GB(+0.0GB): 0.065sec] Pred Y\n",
      "[0.9GB(+0.0GB): 0.066sec] Pred F\n"
     ]
    },
    {
     "name": "stdout",
     "output_type": "stream",
     "text": [
      "fold 2: mean position error 3.7799298845322\n"
     ]
    },
    {
     "name": "stderr",
     "output_type": "stream",
     "text": [
      "[0.9GB(+0.0GB): 12.970sec] fit X\n",
      "[0.9GB(+0.0GB): 8.474sec] fit Y\n",
      "[0.9GB(+0.0GB): 5.683sec] fit F\n",
      "[0.9GB(+0.0GB): 0.078sec] Pred X\n",
      "[0.9GB(+0.0GB): 0.061sec] Pred Y\n",
      "[0.9GB(+0.0GB): 0.062sec] Pred F\n"
     ]
    },
    {
     "name": "stdout",
     "output_type": "stream",
     "text": [
      "fold 3: mean position error 3.7314371378343743\n"
     ]
    },
    {
     "name": "stderr",
     "output_type": "stream",
     "text": [
      "[0.9GB(+0.0GB): 12.622sec] fit X\n",
      "[0.9GB(+0.0GB): 9.006sec] fit Y\n",
      "[0.9GB(+0.0GB): 5.757sec] fit F\n",
      "[0.9GB(+0.0GB): 0.075sec] Pred X\n",
      "[0.9GB(+0.0GB): 0.066sec] Pred Y\n",
      "[0.9GB(+0.0GB): 0.062sec] Pred F\n"
     ]
    },
    {
     "name": "stdout",
     "output_type": "stream",
     "text": [
      "fold 4: mean position error 4.22130601563226\n"
     ]
    },
    {
     "name": "stderr",
     "output_type": "stream",
     "text": [
      "[0.9GB(+0.0GB): 13.028sec] fit X\n",
      "[0.9GB(+0.0GB): 8.663sec] fit Y\n",
      "[0.9GB(-0.0GB): 5.650sec] fit F\n",
      "[0.9GB(+0.0GB): 0.081sec] Pred X\n",
      "[0.9GB(+0.0GB): 0.056sec] Pred Y\n",
      "[0.9GB(+0.0GB): 0.063sec] Pred F\n"
     ]
    },
    {
     "name": "stdout",
     "output_type": "stream",
     "text": [
      "fold 5: mean position error 4.1275594349536995\n"
     ]
    },
    {
     "name": "stderr",
     "output_type": "stream",
     "text": [
      "[0.9GB(+0.0GB): 12.075sec] fit X\n",
      "[0.9GB(+0.0GB): 8.889sec] fit Y\n",
      "[0.9GB(+0.0GB): 5.679sec] fit F\n",
      "[0.9GB(+0.0GB): 0.076sec] Pred X\n",
      "[0.9GB(+0.0GB): 0.062sec] Pred Y\n",
      "[0.9GB(+0.0GB): 0.062sec] Pred F\n"
     ]
    },
    {
     "name": "stdout",
     "output_type": "stream",
     "text": [
      "fold 6: mean position error 4.124485625330691\n"
     ]
    },
    {
     "name": "stderr",
     "output_type": "stream",
     "text": [
      "[0.9GB(+0.0GB): 12.416sec] fit X\n",
      "[0.9GB(+0.0GB): 8.652sec] fit Y\n",
      "[0.9GB(-0.0GB): 5.696sec] fit F\n",
      "[0.9GB(+0.0GB): 0.071sec] Pred X\n",
      "[0.9GB(+0.0GB): 0.052sec] Pred Y\n",
      "[0.9GB(+0.0GB): 0.063sec] Pred F\n"
     ]
    },
    {
     "name": "stdout",
     "output_type": "stream",
     "text": [
      "fold 7: mean position error 3.7267249851983544\n"
     ]
    },
    {
     "name": "stderr",
     "output_type": "stream",
     "text": [
      "[0.9GB(+0.0GB): 12.888sec] fit X\n",
      "[0.9GB(+0.0GB): 8.251sec] fit Y\n",
      "[0.9GB(-0.0GB): 5.298sec] fit F\n",
      "[0.9GB(+0.0GB): 0.077sec] Pred X\n",
      "[0.9GB(+0.0GB): 0.054sec] Pred Y\n",
      "[0.9GB(+0.0GB): 0.062sec] Pred F\n"
     ]
    },
    {
     "name": "stdout",
     "output_type": "stream",
     "text": [
      "fold 8: mean position error 4.179168075960424\n"
     ]
    },
    {
     "name": "stderr",
     "output_type": "stream",
     "text": [
      "[0.9GB(+0.0GB): 11.435sec] fit X\n",
      "[0.9GB(+0.0GB): 8.277sec] fit Y\n",
      "[0.9GB(+0.0GB): 5.701sec] fit F\n",
      "[0.9GB(+0.0GB): 0.083sec] Pred X\n",
      "[0.9GB(+0.0GB): 0.056sec] Pred Y\n",
      "[0.9GB(+0.0GB): 0.063sec] Pred F\n"
     ]
    },
    {
     "name": "stdout",
     "output_type": "stream",
     "text": [
      "fold 9: mean position error 4.204840997882197\n",
      "*+*+*+*+*+*+*+*+*+*+*+*+*+*+*+*+*+*+*+*+*+*+*+*+*+*+*+*+*+*+*+*+*+*+*+*+*+*+*+*+\n",
      "file #21, shape=(15148, 3503), name=5da958dd46f8266d0737457b_train.csv\n",
      "mean position error 4.053665499290497\n",
      "*+*+*+*+*+*+*+*+*+*+*+*+*+*+*+*+*+*+*+*+*+*+*+*+*+*+*+*+*+*+*+*+*+*+*+*+*+*+*+*+\n",
      "process training set for site file num 22\n",
      "process testing set for site file num 22\n"
     ]
    },
    {
     "name": "stderr",
     "output_type": "stream",
     "text": [
      "[1.1GB(+0.0GB): 24.760sec] fit X\n",
      "[1.1GB(+0.0GB): 15.650sec] fit Y\n",
      "[1.1GB(+0.0GB): 10.687sec] fit F\n",
      "[1.1GB(+0.0GB): 0.141sec] Pred X\n",
      "[1.1GB(+0.0GB): 0.094sec] Pred Y\n",
      "[1.1GB(+0.0GB): 0.078sec] Pred F\n"
     ]
    },
    {
     "name": "stdout",
     "output_type": "stream",
     "text": [
      "fold 0: mean position error 5.887523015268139\n"
     ]
    },
    {
     "name": "stderr",
     "output_type": "stream",
     "text": [
      "[1.2GB(+0.0GB): 12.898sec] fit X\n",
      "[1.2GB(+0.0GB): 13.506sec] fit Y\n",
      "[1.2GB(+0.0GB): 10.272sec] fit F\n",
      "[1.2GB(-0.0GB): 0.197sec] Pred X\n",
      "[1.2GB(+0.0GB): 0.094sec] Pred Y\n",
      "[1.2GB(+0.0GB): 0.094sec] Pred F\n"
     ]
    },
    {
     "name": "stdout",
     "output_type": "stream",
     "text": [
      "fold 1: mean position error 5.633138524135654\n"
     ]
    },
    {
     "name": "stderr",
     "output_type": "stream",
     "text": [
      "[1.1GB(+0.3GB): 19.221sec] fit X\n",
      "[1.1GB(+0.0GB): 13.155sec] fit Y\n",
      "[1.1GB(+0.0GB): 9.706sec] fit F\n",
      "[1.1GB(+0.0GB): 0.156sec] Pred X\n",
      "[1.1GB(+0.0GB): 0.078sec] Pred Y\n",
      "[1.1GB(+0.0GB): 0.094sec] Pred F\n"
     ]
    },
    {
     "name": "stdout",
     "output_type": "stream",
     "text": [
      "fold 2: mean position error 5.732452484879207\n"
     ]
    },
    {
     "name": "stderr",
     "output_type": "stream",
     "text": [
      "[1.1GB(+0.0GB): 13.965sec] fit X\n",
      "[1.1GB(+0.0GB): 13.109sec] fit Y\n",
      "[1.1GB(+0.0GB): 9.804sec] fit F\n",
      "[1.1GB(+0.0GB): 0.109sec] Pred X\n",
      "[1.1GB(+0.0GB): 0.110sec] Pred Y\n",
      "[1.1GB(+0.0GB): 0.094sec] Pred F\n"
     ]
    },
    {
     "name": "stdout",
     "output_type": "stream",
     "text": [
      "fold 3: mean position error 5.824600332799618\n"
     ]
    },
    {
     "name": "stderr",
     "output_type": "stream",
     "text": [
      "[1.2GB(+0.0GB): 12.856sec] fit X\n",
      "[1.2GB(+0.0GB): 12.744sec] fit Y\n",
      "[1.2GB(+0.0GB): 9.746sec] fit F\n",
      "[1.2GB(+0.0GB): 0.082sec] Pred X\n",
      "[1.2GB(+0.0GB): 0.094sec] Pred Y\n",
      "[1.2GB(+0.0GB): 0.078sec] Pred F\n"
     ]
    },
    {
     "name": "stdout",
     "output_type": "stream",
     "text": [
      "fold 4: mean position error 5.736616980456108\n"
     ]
    },
    {
     "name": "stderr",
     "output_type": "stream",
     "text": [
      "[1.2GB(+0.0GB): 12.841sec] fit X\n",
      "[1.2GB(+0.0GB): 12.873sec] fit Y\n",
      "[1.2GB(+0.0GB): 9.349sec] fit F\n",
      "[1.2GB(-0.0GB): 0.097sec] Pred X\n",
      "[1.2GB(+0.0GB): 0.094sec] Pred Y\n",
      "[1.2GB(+0.0GB): 0.078sec] Pred F\n"
     ]
    },
    {
     "name": "stdout",
     "output_type": "stream",
     "text": [
      "fold 5: mean position error 6.03918187971616\n"
     ]
    },
    {
     "name": "stderr",
     "output_type": "stream",
     "text": [
      "[1.2GB(+0.0GB): 13.044sec] fit X\n",
      "[1.2GB(+0.0GB): 13.228sec] fit Y\n",
      "[1.2GB(+0.0GB): 10.204sec] fit F\n",
      "[1.2GB(-0.0GB): 0.096sec] Pred X\n",
      "[1.2GB(+0.0GB): 0.078sec] Pred Y\n",
      "[1.2GB(+0.0GB): 0.094sec] Pred F\n"
     ]
    },
    {
     "name": "stdout",
     "output_type": "stream",
     "text": [
      "fold 6: mean position error 5.591333134111574\n"
     ]
    },
    {
     "name": "stderr",
     "output_type": "stream",
     "text": [
      "[1.2GB(+0.0GB): 12.716sec] fit X\n",
      "[1.2GB(+0.0GB): 13.099sec] fit Y\n",
      "[1.2GB(+0.0GB): 9.667sec] fit F\n",
      "[1.2GB(+0.0GB): 0.078sec] Pred X\n",
      "[1.2GB(+0.0GB): 0.094sec] Pred Y\n",
      "[1.2GB(+0.0GB): 0.078sec] Pred F\n"
     ]
    },
    {
     "name": "stdout",
     "output_type": "stream",
     "text": [
      "fold 7: mean position error 5.997792124034664\n"
     ]
    },
    {
     "name": "stderr",
     "output_type": "stream",
     "text": [
      "[1.2GB(+0.0GB): 12.931sec] fit X\n",
      "[1.2GB(+0.0GB): 13.033sec] fit Y\n",
      "[1.2GB(-0.0GB): 9.844sec] fit F\n",
      "[1.2GB(+0.0GB): 0.082sec] Pred X\n",
      "[1.2GB(-0.0GB): 0.094sec] Pred Y\n",
      "[1.2GB(+0.0GB): 0.094sec] Pred F\n"
     ]
    },
    {
     "name": "stdout",
     "output_type": "stream",
     "text": [
      "fold 8: mean position error 6.022721895014923\n"
     ]
    },
    {
     "name": "stderr",
     "output_type": "stream",
     "text": [
      "[1.1GB(+0.0GB): 14.652sec] fit X\n",
      "[1.1GB(+0.0GB): 12.843sec] fit Y\n",
      "[1.1GB(+0.0GB): 9.955sec] fit F\n",
      "[1.1GB(+0.0GB): 0.116sec] Pred X\n",
      "[1.1GB(+0.0GB): 0.078sec] Pred Y\n",
      "[1.1GB(+0.0GB): 0.094sec] Pred F\n"
     ]
    },
    {
     "name": "stdout",
     "output_type": "stream",
     "text": [
      "fold 9: mean position error 5.771549323134738\n",
      "*+*+*+*+*+*+*+*+*+*+*+*+*+*+*+*+*+*+*+*+*+*+*+*+*+*+*+*+*+*+*+*+*+*+*+*+*+*+*+*+\n",
      "file #22, shape=(16174, 4523), name=5dbc1d84c1eb61796cf7c010_train.csv\n",
      "mean position error 5.82367754969882\n",
      "*+*+*+*+*+*+*+*+*+*+*+*+*+*+*+*+*+*+*+*+*+*+*+*+*+*+*+*+*+*+*+*+*+*+*+*+*+*+*+*+\n",
      "process training set for site file num 23\n",
      "process testing set for site file num 23\n"
     ]
    },
    {
     "name": "stderr",
     "output_type": "stream",
     "text": [
      "[1.2GB(+0.0GB): 22.167sec] fit X\n",
      "[1.2GB(+0.0GB): 14.637sec] fit Y\n",
      "[1.2GB(+0.0GB): 12.843sec] fit F\n",
      "[1.2GB(+0.0GB): 0.141sec] Pred X\n",
      "[1.2GB(+0.0GB): 0.078sec] Pred Y\n",
      "[1.2GB(+0.0GB): 0.109sec] Pred F\n"
     ]
    },
    {
     "name": "stdout",
     "output_type": "stream",
     "text": [
      "fold 0: mean position error 5.341761551473592\n"
     ]
    },
    {
     "name": "stderr",
     "output_type": "stream",
     "text": [
      "[1.2GB(+0.0GB): 13.419sec] fit X\n",
      "[1.2GB(+0.0GB): 13.064sec] fit Y\n",
      "[1.2GB(+0.0GB): 12.158sec] fit F\n",
      "[1.2GB(+0.0GB): 0.312sec] Pred X\n",
      "[1.2GB(+0.0GB): 0.078sec] Pred Y\n",
      "[1.2GB(+0.0GB): 0.078sec] Pred F\n"
     ]
    },
    {
     "name": "stdout",
     "output_type": "stream",
     "text": [
      "fold 1: mean position error 5.273761854567871\n"
     ]
    },
    {
     "name": "stderr",
     "output_type": "stream",
     "text": [
      "[1.2GB(+0.0GB): 13.403sec] fit X\n",
      "[1.2GB(+0.0GB): 10.263sec] fit Y\n",
      "[1.2GB(+0.0GB): 10.513sec] fit F\n",
      "[1.2GB(+0.0GB): 0.078sec] Pred X\n",
      "[1.2GB(+0.0GB): 0.266sec] Pred Y\n",
      "[1.2GB(+0.0GB): 0.078sec] Pred F\n"
     ]
    },
    {
     "name": "stdout",
     "output_type": "stream",
     "text": [
      "fold 2: mean position error 5.085401095803309\n"
     ]
    },
    {
     "name": "stderr",
     "output_type": "stream",
     "text": [
      "[1.2GB(+0.0GB): 36.764sec] fit X\n",
      "[1.2GB(+0.0GB): 18.198sec] fit Y\n",
      "[1.2GB(+0.0GB): 10.116sec] fit F\n",
      "[1.2GB(+0.0GB): 0.215sec] Pred X\n",
      "[1.2GB(+0.0GB): 0.076sec] Pred Y\n",
      "[1.2GB(+0.0GB): 0.079sec] Pred F\n"
     ]
    },
    {
     "name": "stdout",
     "output_type": "stream",
     "text": [
      "fold 3: mean position error 5.705356438091128\n"
     ]
    },
    {
     "name": "stderr",
     "output_type": "stream",
     "text": [
      "[1.2GB(+0.0GB): 18.732sec] fit X\n",
      "[1.2GB(+0.0GB): 11.579sec] fit Y\n",
      "[1.2GB(+0.0GB): 9.600sec] fit F\n",
      "[1.2GB(+0.0GB): 0.203sec] Pred X\n",
      "[1.2GB(+0.0GB): 0.078sec] Pred Y\n",
      "[1.2GB(+0.0GB): 0.219sec] Pred F\n"
     ]
    },
    {
     "name": "stdout",
     "output_type": "stream",
     "text": [
      "fold 4: mean position error 5.2515517130435265\n"
     ]
    },
    {
     "name": "stderr",
     "output_type": "stream",
     "text": [
      "[1.2GB(+0.0GB): 33.446sec] fit X\n",
      "[1.2GB(+0.0GB): 15.396sec] fit Y\n",
      "[1.2GB(+0.0GB): 10.513sec] fit F\n",
      "[1.2GB(+0.0GB): 1.029sec] Pred X\n",
      "[1.2GB(+0.0GB): 0.076sec] Pred Y\n",
      "[1.2GB(+0.0GB): 0.118sec] Pred F\n"
     ]
    },
    {
     "name": "stdout",
     "output_type": "stream",
     "text": [
      "fold 5: mean position error 5.209259165415832\n"
     ]
    },
    {
     "name": "stderr",
     "output_type": "stream",
     "text": [
      "[1.2GB(+0.2GB): 12.755sec] fit X\n",
      "[1.2GB(+0.0GB): 11.044sec] fit Y\n",
      "[1.2GB(+0.0GB): 9.727sec] fit F\n",
      "[1.2GB(+0.0GB): 1.216sec] Pred X\n",
      "[1.2GB(+0.0GB): 0.094sec] Pred Y\n",
      "[1.2GB(+0.0GB): 0.078sec] Pred F\n"
     ]
    },
    {
     "name": "stdout",
     "output_type": "stream",
     "text": [
      "fold 6: mean position error 5.4873651078854895\n"
     ]
    },
    {
     "name": "stderr",
     "output_type": "stream",
     "text": [
      "[1.2GB(+0.0GB): 17.914sec] fit X\n",
      "[1.2GB(+0.0GB): 12.086sec] fit Y\n",
      "[1.2GB(+0.0GB): 10.015sec] fit F\n",
      "[1.2GB(+0.0GB): 0.298sec] Pred X\n",
      "[1.2GB(+0.0GB): 0.078sec] Pred Y\n",
      "[1.2GB(+0.0GB): 0.078sec] Pred F\n"
     ]
    },
    {
     "name": "stdout",
     "output_type": "stream",
     "text": [
      "fold 7: mean position error 5.307271186927007\n"
     ]
    },
    {
     "name": "stderr",
     "output_type": "stream",
     "text": [
      "[1.2GB(+0.0GB): 13.183sec] fit X\n",
      "[1.2GB(+0.0GB): 11.586sec] fit Y\n",
      "[1.2GB(+0.0GB): 11.037sec] fit F\n",
      "[1.2GB(+0.0GB): 0.336sec] Pred X\n",
      "[1.2GB(+0.0GB): 0.095sec] Pred Y\n",
      "[1.2GB(+0.0GB): 0.084sec] Pred F\n"
     ]
    },
    {
     "name": "stdout",
     "output_type": "stream",
     "text": [
      "fold 8: mean position error 5.181358591785893\n"
     ]
    },
    {
     "name": "stderr",
     "output_type": "stream",
     "text": [
      "[1.2GB(+0.0GB): 16.414sec] fit X\n",
      "[1.2GB(+0.0GB): 12.317sec] fit Y\n",
      "[1.2GB(+0.0GB): 9.395sec] fit F\n",
      "[1.2GB(+0.0GB): 2.046sec] Pred X\n",
      "[1.2GB(+0.0GB): 0.078sec] Pred Y\n",
      "[1.2GB(+0.0GB): 0.078sec] Pred F\n"
     ]
    },
    {
     "name": "stdout",
     "output_type": "stream",
     "text": [
      "fold 9: mean position error 5.30942910915728\n",
      "*+*+*+*+*+*+*+*+*+*+*+*+*+*+*+*+*+*+*+*+*+*+*+*+*+*+*+*+*+*+*+*+*+*+*+*+*+*+*+*+\n",
      "file #23, shape=(15655, 4868), name=5dc8cea7659e181adb076a3f_train.csv\n",
      "mean position error 5.315256792194134\n",
      "*+*+*+*+*+*+*+*+*+*+*+*+*+*+*+*+*+*+*+*+*+*+*+*+*+*+*+*+*+*+*+*+*+*+*+*+*+*+*+*+\n"
     ]
    }
   ],
   "source": [
    "# implement decision trees\n",
    "\n",
    "# ------------------------------------------------------------------------------\n",
    "# Import libraries\n",
    "# ------------------------------------------------------------------------------\n",
    "import numpy as np\n",
    "import pandas as pd\n",
    "import scipy.stats as stats\n",
    "from pathlib import Path\n",
    "import glob\n",
    "\n",
    "from sklearn.model_selection import KFold\n",
    "# import lightgbm as lgb\n",
    "import xgboost as xgb\n",
    "from sklearn import tree\n",
    "\n",
    "import psutil\n",
    "import random\n",
    "import os\n",
    "import time\n",
    "import sys\n",
    "import math\n",
    "from contextlib import contextmanager\n",
    "\n",
    "\n",
    "# \n",
    "local_path = 'C:/Users/hp/Documents/OpenClassrooms/P8/'\n",
    "\n",
    "\n",
    "# ------------------------------------------------------------------------------\n",
    "# Fixed values\n",
    "# ------------------------------------------------------------------------------\n",
    "N_SPLITS = 10\n",
    "SEED = 42\n",
    "\n",
    "# ------------------------------------------------------------------------------\n",
    "# File path definition\n",
    "# ------------------------------------------------------------------------------\n",
    "# LOG_PATH = Path(\"./log/\")\n",
    "LOG_PATH = Path(local_path + \"log/\")\n",
    "LOG_PATH.mkdir(parents=True, exist_ok=True)\n",
    "\n",
    "\n",
    "# ------------------------------------------------------------------------------\n",
    "# Utilities\n",
    "# ------------------------------------------------------------------------------\n",
    "@contextmanager\n",
    "def timer(name: str):\n",
    "    t0 = time.time()\n",
    "    p = psutil.Process(os.getpid())\n",
    "    m0 = p.memory_info()[0] / 2. ** 30\n",
    "    try:\n",
    "        yield\n",
    "    finally:\n",
    "        m1 = p.memory_info()[0] / 2. ** 30\n",
    "        delta = m1 - m0\n",
    "        sign = '+' if delta >= 0 else '-'\n",
    "        delta = math.fabs(delta)\n",
    "        print(f\"[{m1:.1f}GB({sign}{delta:.1f}GB): {time.time() - t0:.3f}sec] {name}\", file=sys.stderr)\n",
    "\n",
    "\n",
    "def set_seed(seed=42):\n",
    "    random.seed(seed)\n",
    "    os.environ[\"PYTHONHASHSEED\"] = str(seed)\n",
    "    np.random.seed(seed)\n",
    "\n",
    "    \n",
    "def comp_metric(xhat, yhat, fhat, x, y, f):\n",
    "    intermediate = np.sqrt(np.power(xhat-x, 2) + np.power(yhat-y, 2)) + 15 * np.abs(fhat-f)\n",
    "    return intermediate.sum()/xhat.shape[0]\n",
    "\n",
    "\n",
    "def score_log(df: pd.DataFrame, num_files: int, nam_file: str, data_shape: tuple, n_fold: int, seed: int, mpe: float):\n",
    "    score_dict = {'n_files': num_files, 'file_name': nam_file, 'shape': data_shape, 'fold': n_fold, 'seed': seed, 'score': mpe}\n",
    "    # noinspection PyTypeChecker\n",
    "    df = pd.concat([df, pd.DataFrame.from_dict([score_dict])])\n",
    "    df.to_csv(LOG_PATH / f\"log_score.csv\", index=False)\n",
    "    return df\n",
    "\n",
    "\n",
    "\n",
    "\n",
    "# ------------------------------------------------------------------------------\n",
    "# Set seed\n",
    "# ------------------------------------------------------------------------------\n",
    "set_seed(SEED)\n",
    "\n",
    "# ------------------------------------------------------------------------------\n",
    "# Read data\n",
    "# ------------------------------------------------------------------------------\n",
    "# feature_dir = \"../input/indoor-navigation-and-location-wifi-features\"\n",
    "feature_dir = local_path  + \"input/indoor-navigation-and-location-wifi-features\"\n",
    "\n",
    "train_files = sorted(glob.glob(os.path.join(feature_dir, '*_train.csv')))\n",
    "print(\"There are {} *_train.csv files\".format(len(train_files)))\n",
    "test_files = sorted(glob.glob(os.path.join(feature_dir, '*_test.csv')))\n",
    "print(\"There are {} *_test.csv files\".format(len(test_files)))\n",
    "\n",
    "subm = pd.read_csv(local_path + 'input/submission/sample_submission.csv', index_col=0)\n",
    "# subm = pd.read_csv('../input/indoor-location-navigation/sample_submission.csv', index_col=0)\n",
    "\n",
    "# ------------------------------------------------------------------------------\n",
    "# Define parameters for models\n",
    "# ------------------------------------------------------------------------------\n",
    "\n",
    "# add settings for xgboost\n",
    "xgb_params = {'objective': 'reg:squarederror',\n",
    "              'booster': 'gbtree',\n",
    "              'n_estimators': 5000,\n",
    "              'learning_rate': 0.01,              \n",
    "              'reg_alpha': 8,\n",
    "              'reg_lambda': 2,\n",
    "              'random_state': SEED,\n",
    "              'n_jobs': -1\n",
    "              }\n",
    "\n",
    "\n",
    "# WARNING: ../src/learner.cc:1061: Starting in XGBoost 1.3.0, the default evaluation metric used with the objective 'multi:softprob' was changed from 'merror' to 'mlogloss'. Explicitly set eval_metric if you'd like to restore the old behavior.\n",
    "# UserWarning: The use of label encoder in XGBClassifier is deprecated and will be removed in a future release. To remove this warning, do the following: 1) Pass option use_label_encoder=False when constructing XGBClassifier object; and 2) Encode your labels (y) as integers starting with 0, i.e. 0, 1, 2, ..., [num_class - 1].\n",
    "\n",
    "xgb_f_params = {'objective': 'multi:softmax', #multi:softmax  multi:softprob, will require use of encoder of type integer\n",
    "                'booster': 'gbtree',               \n",
    "                'n_estimators': 5000,\n",
    "                'learning_rate': 0.01,                \n",
    "                'reg_alpha': 10,\n",
    "                'reg_lambda': 2,\n",
    "                'random_state': SEED,                \n",
    "                'n_jobs': -1\n",
    "                }\n",
    "# ------------------------------------------------------------------------------\n",
    "# Training and inference\n",
    "# ------------------------------------------------------------------------------\n",
    "score_df = pd.DataFrame()\n",
    "oof = list()\n",
    "predictions = list()\n",
    "for n_files, file in enumerate(train_files):\n",
    "    # trick here is to use single \"for loop\" to process both train and test datasets\n",
    "    print(\"process training set for site file num {}\".format(n_files))\n",
    "    data = pd.read_csv(file, index_col=0)\n",
    "    print(\"process testing set for site file num {}\".format(n_files))\n",
    "    test_data = pd.read_csv(test_files[n_files], index_col=0)\n",
    "\n",
    "    oof_x, oof_y, oof_f = np.zeros(data.shape[0]), np.zeros(data.shape[0]), np.zeros(data.shape[0])\n",
    "    preds_x, preds_y = 0, 0\n",
    "    preds_f_arr = np.zeros((test_data.shape[0], N_SPLITS))\n",
    "\n",
    "    kf = KFold(n_splits=N_SPLITS, shuffle=True, random_state=SEED)\n",
    "    for fold, (trn_idx, val_idx) in enumerate(kf.split(data.iloc[:, :-4])):\n",
    "        X_train = data.iloc[trn_idx, :-4]\n",
    "        y_trainx = data.iloc[trn_idx, -4]\n",
    "        y_trainy = data.iloc[trn_idx, -3]\n",
    "        y_trainf = data.iloc[trn_idx, -2]\n",
    "\n",
    "        X_valid = data.iloc[val_idx, :-4]\n",
    "        y_validx = data.iloc[val_idx, -4]\n",
    "        y_validy = data.iloc[val_idx, -3]\n",
    "        y_validf = data.iloc[val_idx, -2]\n",
    "\n",
    "        # modelx = lgb.LGBMRegressor(**lgb_params)\n",
    "        # modelx = xgb.XGBRegressor(**xgb_params)\n",
    "        # sklearn.tree.DecisionTreeClassifier(*, criterion='gini', splitter='best', max_depth=None, min_samples_split=2, min_samples_leaf=1, min_weight_fraction_leaf=0.0, max_features=None, random_state=None, max_leaf_nodes=None, min_impurity_decrease=0.0, min_impurity_split=None, class_weight=None, ccp_alpha=0.0)\n",
    "        # sklearn.tree.DecisionTreeRegressor(*, criterion='mse', splitter='best', max_depth=None, min_samples_split=2, min_samples_leaf=1, min_weight_fraction_leaf=0.0, max_features=None, random_state=None, max_leaf_nodes=None, min_impurity_decrease=0.0, min_impurity_split=None, ccp_alpha=0.0)\n",
    "        modelx = tree.DecisionTreeRegressor()\n",
    "        with timer(\"fit X\"):\n",
    "            modelx.fit(X_train, y_trainx # ,\n",
    "                       # eval_set=[(X_valid, y_validx)],\n",
    "                       # eval_metric='rmse',\n",
    "                       # verbose=False,\n",
    "                       # early_stopping_rounds=20\n",
    "                      )\n",
    "\n",
    "        # modely = lgb.LGBMRegressor(**lgb_params)\n",
    "        #modely = xgb.XGBRegressor(**xgb_params)\n",
    "        modely = tree.DecisionTreeRegressor()\n",
    "        with timer(\"fit Y\"):\n",
    "            modely.fit(X_train, y_trainy # ,\n",
    "                       # eval_set=[(X_valid, y_validy)],\n",
    "                       # eval_metric='rmse',\n",
    "                       # verbose=False,\n",
    "                       # early_stopping_rounds=20\n",
    "                       )\n",
    "\n",
    "        # modelf = lgb.LGBMClassifier(**lgb_f_params)\n",
    "        # remove param eval_metric='multi_logloss', for xgb\n",
    "        # modelf = xgb.XGBClassifier(**xgb_f_params)\n",
    "        # sklearn.tree.DecisionTreeClassifier(*, criterion='gini', splitter='best', max_depth=None, min_samples_split=2, min_samples_leaf=1, min_weight_fraction_leaf=0.0, max_features=None, random_state=None, max_leaf_nodes=None, min_impurity_decrease=0.0, min_impurity_split=None, class_weight=None, ccp_alpha=0.0)\n",
    "        modelf = tree.DecisionTreeClassifier()\n",
    "        with timer(\"fit F\"):\n",
    "            # fit(X, y, sample_weight=None, check_input=True, X_idx_sorted='deprecated')[source]¶\n",
    "            modelf.fit(X_train, y_trainf #,\n",
    "                       # eval_set=[(X_valid, y_validf)],\n",
    "                       # eval_metric='mlogloss', #for xgboot\n",
    "                       # verbose=False,\n",
    "                       # early_stopping_rounds=20\n",
    "                       )\n",
    "\n",
    "        oof_x[val_idx] = modelx.predict(X_valid)\n",
    "        oof_y[val_idx] = modely.predict(X_valid)\n",
    "        oof_f[val_idx] = modelf.predict(X_valid).astype(int)\n",
    "        \n",
    "        with timer(\"Pred X\"):\n",
    "            preds_x += modelx.predict(test_data.iloc[:, :-1]) / N_SPLITS\n",
    "            \n",
    "        with timer(\"Pred Y\"):\n",
    "            preds_y += modely.predict(test_data.iloc[:, :-1]) / N_SPLITS\n",
    "        \n",
    "        with timer(\"Pred F\"):\n",
    "            preds_f_arr[:, fold] = modelf.predict(test_data.iloc[:, :-1]).astype(int)\n",
    "\n",
    "        score = comp_metric(oof_x[val_idx], oof_y[val_idx], oof_f[val_idx],\n",
    "                            y_validx.to_numpy(), y_validy.to_numpy(), y_validf.to_numpy())\n",
    "        print(f\"fold {fold}: mean position error {score}\")\n",
    "        score_df = score_log(score_df, n_files, os.path.basename(file), data.shape, fold, SEED, score)\n",
    "        \n",
    "\n",
    "    print(\"*+\"*40)\n",
    "    print(f\"file #{n_files}, shape={data.shape}, name={os.path.basename(file)}\")\n",
    "    score = comp_metric(oof_x, oof_y, oof_f,\n",
    "                        data.iloc[:, -4].to_numpy(), data.iloc[:, -3].to_numpy(), data.iloc[:, -2].to_numpy())\n",
    "    oof.append(score)\n",
    "    print(f\"mean position error {score}\")\n",
    "    print(\"*+\"*40)\n",
    "    score_df = score_log(score_df, n_files, os.path.basename(file), data.shape, 999, SEED, score)\n",
    "\n",
    "    preds_f_mode = stats.mode(preds_f_arr, axis=1)\n",
    "    preds_f = preds_f_mode[0].astype(int).reshape(-1)\n",
    "    test_preds = pd.DataFrame(np.stack((preds_f, preds_x, preds_y))).T\n",
    "    test_preds.columns = subm.columns\n",
    "    test_preds.index = test_data[\"site_path_timestamp\"]\n",
    "    test_preds[\"floor\"] = test_preds[\"floor\"].astype(int)\n",
    "    predictions.append(test_preds)\n",
    "    \n",
    "\n",
    "# ------------------------------------------------------------------------------\n",
    "# Submit the result\n",
    "# ------------------------------------------------------------------------------\n",
    "all_preds = pd.concat(predictions)\n",
    "all_preds = all_preds.reindex(subm.index)\n",
    "all_preds.to_csv('submission_tree.csv')"
   ]
  },
  {
   "cell_type": "code",
   "execution_count": null,
   "metadata": {},
   "outputs": [],
   "source": []
  }
 ],
 "metadata": {
  "kernelspec": {
   "display_name": "Python 3",
   "language": "python",
   "name": "python3"
  },
  "language_info": {
   "codemirror_mode": {
    "name": "ipython",
    "version": 3
   },
   "file_extension": ".py",
   "mimetype": "text/x-python",
   "name": "python",
   "nbconvert_exporter": "python",
   "pygments_lexer": "ipython3",
   "version": "3.8.3"
  }
 },
 "nbformat": 4,
 "nbformat_minor": 4
}
